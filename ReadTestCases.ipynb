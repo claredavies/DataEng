{
  "nbformat": 4,
  "nbformat_minor": 0,
  "metadata": {
    "colab": {
      "name": "ReadTestCases.ipynb",
      "provenance": [],
      "collapsed_sections": [],
      "authorship_tag": "ABX9TyMb2lyzMV1xr0pa45JfQb9A",
      "include_colab_link": true
    },
    "kernelspec": {
      "name": "python3",
      "display_name": "Python 3"
    },
    "language_info": {
      "name": "python"
    }
  },
  "cells": [
    {
      "cell_type": "markdown",
      "metadata": {
        "id": "view-in-github",
        "colab_type": "text"
      },
      "source": [
        "<a href=\"https://colab.research.google.com/github/claredavies/DataEng/blob/master/ReadTestCases.ipynb\" target=\"_parent\"><img src=\"https://colab.research.google.com/assets/colab-badge.svg\" alt=\"Open In Colab\"/></a>"
      ]
    },
    {
      "cell_type": "code",
      "metadata": {
        "colab": {
          "base_uri": "https://localhost:8080/"
        },
        "id": "Hzr_CLmRm2sI",
        "outputId": "b0d01eab-b028-46ff-8445-576ee1a0e2b6"
      },
      "source": [
        "!pip install -U PyYAML"
      ],
      "execution_count": 12,
      "outputs": [
        {
          "output_type": "stream",
          "name": "stdout",
          "text": [
            "Requirement already satisfied: PyYAML in /usr/local/lib/python3.7/dist-packages (6.0)\n",
            "\u001b[33mWARNING: Running pip as the 'root' user can result in broken permissions and conflicting behaviour with the system package manager. It is recommended to use a virtual environment instead: https://pip.pypa.io/warnings/venv\u001b[0m\n"
          ]
        }
      ]
    },
    {
      "cell_type": "code",
      "metadata": {
        "id": "39pSLwzd1BIY"
      },
      "source": [
        "import yaml\n",
        "with open(\"cassette.yaml\", 'r') as fin:\n",
        "    mydict = yaml.load(fin, Loader=yaml.FullLoader)"
      ],
      "execution_count": 13,
      "outputs": []
    },
    {
      "cell_type": "code",
      "metadata": {
        "colab": {
          "base_uri": "https://localhost:8080/"
        },
        "id": "oc7Cn1mUq2gF",
        "outputId": "e36bfe2c-5413-4565-d31b-92e43e2eeab8"
      },
      "source": [
        "print(mydict['http_interactions'][1])"
      ],
      "execution_count": 19,
      "outputs": [
        {
          "output_type": "stream",
          "name": "stdout",
          "text": [
            "{'id': '1', 'status': 'SUCCESS', 'seed': '258395424003544271951635147801482980812', 'elapsed': '0.006279', 'recorded_at': '2021-10-12T20:10:05.701040', 'checks': [{'name': 'not_a_server_error', 'status': 'SUCCESS', 'message': None}], 'request': {'uri': 'http://localhost:8080/api/v3/pet', 'method': 'PUT', 'headers': {'User-Agent': ['schemathesis/3.10.1'], 'Accept-Encoding': ['gzip, deflate'], 'Accept': ['*/*'], 'Connection': ['keep-alive'], 'Content-Type': ['application/json'], 'Content-Length': ['28']}, 'body': {'encoding': 'utf-8', 'base64_string': 'eyJpZCI6IDEwLCAibmFtZSI6ICJkb2dnaWUifQ=='}}, 'response': {'status': {'code': '200', 'message': 'OK'}, 'headers': {'Date': ['Tue, 12 Oct 2021 17:10:05 GMT'], 'Access-Control-Allow-Origin': ['*'], 'Access-Control-Allow-Methods': ['GET, POST, DELETE, PUT'], 'Access-Control-Allow-Headers': ['Content-Type, api_key, Authorization'], 'Access-Control-Expose-Headers': ['Content-Disposition'], 'Content-Type': ['application/json'], 'Content-Length': ['50'], 'Server': ['Jetty(9.4.9.v20180320)']}, 'body': {'encoding': 'utf-8', 'base64_string': 'eyJpZCI6MTAsIm5hbWUiOiJkb2dnaWUiLCJwaG90b1VybHMiOltdLCJ0YWdzIjpbXX0='}, 'http_version': '1.1'}}\n"
          ]
        }
      ]
    }
  ]
}