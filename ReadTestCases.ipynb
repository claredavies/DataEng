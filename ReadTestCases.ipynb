{
  "nbformat": 4,
  "nbformat_minor": 0,
  "metadata": {
    "colab": {
      "name": "ReadTestCases.ipynb",
      "provenance": [],
      "collapsed_sections": [],
      "authorship_tag": "ABX9TyP+1ql+CSa4Fhi8QU8WdWFc",
      "include_colab_link": true
    },
    "kernelspec": {
      "name": "python3",
      "display_name": "Python 3"
    },
    "language_info": {
      "name": "python"
    }
  },
  "cells": [
    {
      "cell_type": "markdown",
      "metadata": {
        "id": "view-in-github",
        "colab_type": "text"
      },
      "source": [
        "<a href=\"https://colab.research.google.com/github/claredavies/DataEng/blob/master/ReadTestCases.ipynb\" target=\"_parent\"><img src=\"https://colab.research.google.com/assets/colab-badge.svg\" alt=\"Open In Colab\"/></a>"
      ]
    },
    {
      "cell_type": "code",
      "metadata": {
        "colab": {
          "base_uri": "https://localhost:8080/"
        },
        "id": "Hzr_CLmRm2sI",
        "outputId": "c7321b07-5664-4ba6-8fc6-8dcfdc0bfd66"
      },
      "source": [
        "!pip install -U PyYAML"
      ],
      "execution_count": 8,
      "outputs": [
        {
          "output_type": "stream",
          "name": "stdout",
          "text": [
            "Requirement already satisfied: PyYAML in /usr/local/lib/python3.7/dist-packages (6.0)\n"
          ]
        }
      ]
    },
    {
      "cell_type": "code",
      "metadata": {
        "id": "39pSLwzd1BIY"
      },
      "source": [
        "import yaml\n",
        "# make sure cassette.yaml upload to google colab at same level as sample_data\n",
        "with open(\"cassette.yaml\", 'r') as fin:\n",
        "    mydict = yaml.load(fin, Loader=yaml.FullLoader)"
      ],
      "execution_count": 15,
      "outputs": []
    },
    {
      "cell_type": "code",
      "metadata": {
        "colab": {
          "base_uri": "https://localhost:8080/"
        },
        "id": "oc7Cn1mUq2gF",
        "outputId": "33925d32-0dc0-4fad-94a2-0598b840c33f"
      },
      "source": [
        "import pandas as pd\n",
        "pd.set_option('display.max_columns', None)\n",
        "\n",
        "df = pd.DataFrame(columns=['request_method','request_uri','response_code','response_message'])\n",
        "data = mydict['http_interactions']\n",
        "\n",
        "for x in data:\n",
        "  data_request= x['request']\n",
        "  data_response= x['response']['status'] \n",
        "\n",
        "  request_method = data_request['method']\n",
        "  request_uri = data_request['uri']\n",
        "\n",
        "  response_code = data_response['code']\n",
        "  response_message = data_response['message']\n",
        "\n",
        "  new_row = {'request_method': request_method, 'request_uri':request_uri, 'response_code': response_code, 'response_message': response_message}\n",
        "  df = df.append(new_row, ignore_index=True)\n",
        "\n",
        "print(df.head())"
      ],
      "execution_count": 17,
      "outputs": [
        {
          "output_type": "stream",
          "name": "stdout",
          "text": [
            "  request_method                       request_uri response_code  \\\n",
            "0            PUT  http://localhost:8080/api/v3/pet           200   \n",
            "1            PUT  http://localhost:8080/api/v3/pet           500   \n",
            "2            PUT  http://localhost:8080/api/v3/pet           500   \n",
            "3            PUT  http://localhost:8080/api/v3/pet           500   \n",
            "4           POST  http://localhost:8080/api/v3/pet           200   \n",
            "\n",
            "        response_message  \n",
            "0                     OK  \n",
            "1  Internal Server Error  \n",
            "2  Internal Server Error  \n",
            "3  Internal Server Error  \n",
            "4                     OK  \n"
          ]
        }
      ]
    },
    {
      "cell_type": "code",
      "metadata": {
        "colab": {
          "base_uri": "https://localhost:8080/",
          "height": 17
        },
        "id": "lbMwLT8ZwjTL",
        "outputId": "4bd00028-2ece-4e1c-d118-cecadb2a47e3"
      },
      "source": [
        "df.to_csv('test_cases.csv')\n",
        "\n",
        "files.download('test_cases.csv') "
      ],
      "execution_count": 31,
      "outputs": [
        {
          "output_type": "display_data",
          "data": {
            "application/javascript": [
              "\n",
              "    async function download(id, filename, size) {\n",
              "      if (!google.colab.kernel.accessAllowed) {\n",
              "        return;\n",
              "      }\n",
              "      const div = document.createElement('div');\n",
              "      const label = document.createElement('label');\n",
              "      label.textContent = `Downloading \"${filename}\": `;\n",
              "      div.appendChild(label);\n",
              "      const progress = document.createElement('progress');\n",
              "      progress.max = size;\n",
              "      div.appendChild(progress);\n",
              "      document.body.appendChild(div);\n",
              "\n",
              "      const buffers = [];\n",
              "      let downloaded = 0;\n",
              "\n",
              "      const channel = await google.colab.kernel.comms.open(id);\n",
              "      // Send a message to notify the kernel that we're ready.\n",
              "      channel.send({})\n",
              "\n",
              "      for await (const message of channel.messages) {\n",
              "        // Send a message to notify the kernel that we're ready.\n",
              "        channel.send({})\n",
              "        if (message.buffers) {\n",
              "          for (const buffer of message.buffers) {\n",
              "            buffers.push(buffer);\n",
              "            downloaded += buffer.byteLength;\n",
              "            progress.value = downloaded;\n",
              "          }\n",
              "        }\n",
              "      }\n",
              "      const blob = new Blob(buffers, {type: 'application/binary'});\n",
              "      const a = document.createElement('a');\n",
              "      a.href = window.URL.createObjectURL(blob);\n",
              "      a.download = filename;\n",
              "      div.appendChild(a);\n",
              "      a.click();\n",
              "      div.remove();\n",
              "    }\n",
              "  "
            ],
            "text/plain": [
              "<IPython.core.display.Javascript object>"
            ]
          },
          "metadata": {}
        },
        {
          "output_type": "display_data",
          "data": {
            "application/javascript": [
              "download(\"download_2b54d1ff-e6af-41b3-ad52-bd98a8ba80b2\", \"test_cases.csv\", 78488)"
            ],
            "text/plain": [
              "<IPython.core.display.Javascript object>"
            ]
          },
          "metadata": {}
        }
      ]
    }
  ]
}