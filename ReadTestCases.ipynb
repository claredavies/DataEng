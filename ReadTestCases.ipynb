{
  "nbformat": 4,
  "nbformat_minor": 0,
  "metadata": {
    "colab": {
      "name": "ReadTestCases.ipynb",
      "provenance": [],
      "collapsed_sections": [],
      "authorship_tag": "ABX9TyNpm45ubIA8v3Em6V249kop",
      "include_colab_link": true
    },
    "kernelspec": {
      "name": "python3",
      "display_name": "Python 3"
    },
    "language_info": {
      "name": "python"
    }
  },
  "cells": [
    {
      "cell_type": "markdown",
      "metadata": {
        "id": "view-in-github",
        "colab_type": "text"
      },
      "source": [
        "<a href=\"https://colab.research.google.com/github/claredavies/DataEng/blob/master/ReadTestCases.ipynb\" target=\"_parent\"><img src=\"https://colab.research.google.com/assets/colab-badge.svg\" alt=\"Open In Colab\"/></a>"
      ]
    },
    {
      "cell_type": "code",
      "metadata": {
        "colab": {
          "base_uri": "https://localhost:8080/"
        },
        "id": "Hzr_CLmRm2sI",
        "outputId": "b0d01eab-b028-46ff-8445-576ee1a0e2b6"
      },
      "source": [
        "!pip install -U PyYAML"
      ],
      "execution_count": 12,
      "outputs": [
        {
          "output_type": "stream",
          "name": "stdout",
          "text": [
            "Requirement already satisfied: PyYAML in /usr/local/lib/python3.7/dist-packages (6.0)\n",
            "\u001b[33mWARNING: Running pip as the 'root' user can result in broken permissions and conflicting behaviour with the system package manager. It is recommended to use a virtual environment instead: https://pip.pypa.io/warnings/venv\u001b[0m\n"
          ]
        }
      ]
    },
    {
      "cell_type": "code",
      "metadata": {
        "id": "39pSLwzd1BIY"
      },
      "source": [
        "import yaml\n",
        "with open(\"cassette.yaml\", 'r') as fin:\n",
        "    mydict = yaml.load(fin, Loader=yaml.FullLoader)"
      ],
      "execution_count": 13,
      "outputs": []
    },
    {
      "cell_type": "code",
      "metadata": {
        "colab": {
          "base_uri": "https://localhost:8080/"
        },
        "id": "oc7Cn1mUq2gF",
        "outputId": "17bd8379-534b-4be5-cd67-db09fd977744"
      },
      "source": [
        "import pandas as pd\n",
        "data_items = mydict['http_interactions']\n",
        "\n",
        "data_list = list(data_items)\n",
        "\n",
        "df = pd.DataFrame(data_list)\n",
        "print(df['request'].head(100))"
      ],
      "execution_count": 34,
      "outputs": [
        {
          "output_type": "stream",
          "name": "stdout",
          "text": [
            "0     {'uri': 'http://localhost:8080/api/v3/pet', 'm...\n",
            "1     {'uri': 'http://localhost:8080/api/v3/pet', 'm...\n",
            "2     {'uri': 'http://localhost:8080/api/v3/pet', 'm...\n",
            "3     {'uri': 'http://localhost:8080/api/v3/pet', 'm...\n",
            "4     {'uri': 'http://localhost:8080/api/v3/pet', 'm...\n",
            "                            ...                        \n",
            "95    {'uri': 'http://localhost:8080/api/v3/pet/find...\n",
            "96    {'uri': 'http://localhost:8080/api/v3/pet/find...\n",
            "97    {'uri': 'http://localhost:8080/api/v3/pet/find...\n",
            "98    {'uri': 'http://localhost:8080/api/v3/pet/find...\n",
            "99    {'uri': 'http://localhost:8080/api/v3/pet/find...\n",
            "Name: request, Length: 100, dtype: object\n"
          ]
        }
      ]
    }
  ]
}