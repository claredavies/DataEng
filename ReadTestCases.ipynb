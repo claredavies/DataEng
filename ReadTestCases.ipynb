{
  "nbformat": 4,
  "nbformat_minor": 0,
  "metadata": {
    "colab": {
      "name": "ReadTestCases.ipynb",
      "provenance": [],
      "collapsed_sections": [],
      "authorship_tag": "ABX9TyMYz4LhfGvkorZ2T/9RtGy7",
      "include_colab_link": true
    },
    "kernelspec": {
      "name": "python3",
      "display_name": "Python 3"
    },
    "language_info": {
      "name": "python"
    }
  },
  "cells": [
    {
      "cell_type": "markdown",
      "metadata": {
        "id": "view-in-github",
        "colab_type": "text"
      },
      "source": [
        "<a href=\"https://colab.research.google.com/github/claredavies/DataEng/blob/master/ReadTestCases.ipynb\" target=\"_parent\"><img src=\"https://colab.research.google.com/assets/colab-badge.svg\" alt=\"Open In Colab\"/></a>"
      ]
    },
    {
      "cell_type": "code",
      "metadata": {
        "colab": {
          "base_uri": "https://localhost:8080/"
        },
        "id": "Hzr_CLmRm2sI",
        "outputId": "dc480e0c-a4e6-493f-8c77-00d3127805fa"
      },
      "source": [
        "!pip install -U PyYAML"
      ],
      "execution_count": 40,
      "outputs": [
        {
          "output_type": "stream",
          "name": "stdout",
          "text": [
            "Requirement already satisfied: PyYAML in /usr/local/lib/python3.7/dist-packages (6.0)\n",
            "\u001b[33mWARNING: Running pip as the 'root' user can result in broken permissions and conflicting behaviour with the system package manager. It is recommended to use a virtual environment instead: https://pip.pypa.io/warnings/venv\u001b[0m\n"
          ]
        }
      ]
    },
    {
      "cell_type": "code",
      "metadata": {
        "id": "39pSLwzd1BIY"
      },
      "source": [
        "import yaml\n",
        "with open(\"cassette.yaml\", 'r') as fin:\n",
        "    mydict = yaml.load(fin, Loader=yaml.FullLoader)"
      ],
      "execution_count": 41,
      "outputs": []
    },
    {
      "cell_type": "code",
      "metadata": {
        "colab": {
          "base_uri": "https://localhost:8080/"
        },
        "id": "oc7Cn1mUq2gF",
        "outputId": "56bdf1bb-af8b-4a0e-d916-d9159a7eaa9a"
      },
      "source": [
        "import pandas as pd\n",
        "pd.set_option('display.max_columns', None)\n",
        "\n",
        "df = pd.DataFrame(columns=['request_method','request_uri','response_code','response_message'])\n",
        "data = mydict['http_interactions']\n",
        "\n",
        "for x in data:\n",
        "  data_request= x['request']\n",
        "  data_response= x['response']['status'] \n",
        "\n",
        "  request_method = data_request['method']\n",
        "  request_uri = data_request['uri']\n",
        "\n",
        "  response_code = data_response['code']\n",
        "  response_message = data_response['message']\n",
        "\n",
        "  new_row = {'request_method': request_method, 'request_uri':request_uri, 'response_code': response_code, 'response_message': response_message}\n",
        "  df = df.append(new_row, ignore_index=True)\n",
        "\n",
        "print(df.head())\n",
        "\n",
        "\n"
      ],
      "execution_count": 49,
      "outputs": [
        {
          "output_type": "stream",
          "name": "stdout",
          "text": [
            "  request_method                       request_uri response_code  \\\n",
            "0            PUT  http://localhost:8080/api/v3/pet           200   \n",
            "1            PUT  http://localhost:8080/api/v3/pet           500   \n",
            "2            PUT  http://localhost:8080/api/v3/pet           500   \n",
            "3            PUT  http://localhost:8080/api/v3/pet           500   \n",
            "4           POST  http://localhost:8080/api/v3/pet           200   \n",
            "\n",
            "        response_message  \n",
            "0                     OK  \n",
            "1  Internal Server Error  \n",
            "2  Internal Server Error  \n",
            "3  Internal Server Error  \n",
            "4                     OK  \n"
          ]
        }
      ]
    }
  ]
}