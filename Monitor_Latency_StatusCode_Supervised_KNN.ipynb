{
  "nbformat": 4,
  "nbformat_minor": 0,
  "metadata": {
    "colab": {
      "name": "Monitor_Latency_StatusCode_Supervised_KNN.ipynb",
      "provenance": [],
      "collapsed_sections": [],
      "include_colab_link": true
    },
    "kernelspec": {
      "name": "python3",
      "display_name": "Python 3"
    },
    "language_info": {
      "name": "python"
    }
  },
  "cells": [
    {
      "cell_type": "markdown",
      "metadata": {
        "id": "view-in-github",
        "colab_type": "text"
      },
      "source": [
        "<a href=\"https://colab.research.google.com/github/claredavies/DataEngAPITesting/blob/master/Monitor_Latency_StatusCode_Supervised_KNN.ipynb\" target=\"_parent\"><img src=\"https://colab.research.google.com/assets/colab-badge.svg\" alt=\"Open In Colab\"/></a>"
      ]
    },
    {
      "cell_type": "markdown",
      "source": [
        "# Import libraries"
      ],
      "metadata": {
        "id": "cnktYU80qXau"
      }
    },
    {
      "cell_type": "code",
      "source": [
        "import pandas as pd\n",
        "from sklearn.neighbors import LocalOutlierFactor\n",
        "import matplotlib.pyplot as plt\n",
        "import numpy as np\n",
        "import seaborn as sns\n",
        "from sklearn.metrics import confusion_matrix\n",
        "!pip install pyod\n",
        "\n",
        "from pandas import read_csv\n",
        "from pandas.plotting import scatter_matrix\n",
        "from matplotlib import pyplot\n",
        "from sklearn.model_selection import train_test_split\n",
        "from sklearn.model_selection import cross_val_score\n",
        "from sklearn.model_selection import StratifiedKFold\n",
        "from sklearn.metrics import classification_report\n",
        "from sklearn.metrics import confusion_matrix\n",
        "from sklearn.metrics import accuracy_score\n",
        "from sklearn.linear_model import LogisticRegression\n",
        "from sklearn.tree import DecisionTreeClassifier\n",
        "from sklearn.neighbors import KNeighborsClassifier\n",
        "from sklearn.discriminant_analysis import LinearDiscriminantAnalysis\n",
        "from sklearn.naive_bayes import GaussianNB\n",
        "from sklearn.svm import SVC\n",
        "\n",
        "from pyod.models.mad import MAD\n",
        "from pyod.models.knn import KNN\n",
        "from pyod.models.lof import LOF"
      ],
      "metadata": {
        "id": "iJ3dnA3WMZ5R",
        "colab": {
          "base_uri": "https://localhost:8080/"
        },
        "outputId": "37f2938b-4792-4744-f223-5e02ba861367"
      },
      "execution_count": 7,
      "outputs": [
        {
          "output_type": "stream",
          "name": "stdout",
          "text": [
            "Requirement already satisfied: pyod in /usr/local/lib/python3.7/dist-packages (0.9.8)\n",
            "Requirement already satisfied: matplotlib in /usr/local/lib/python3.7/dist-packages (from pyod) (3.2.2)\n",
            "Requirement already satisfied: six in /usr/local/lib/python3.7/dist-packages (from pyod) (1.15.0)\n",
            "Requirement already satisfied: scipy>=1.3.1 in /usr/local/lib/python3.7/dist-packages (from pyod) (1.4.1)\n",
            "Requirement already satisfied: joblib in /usr/local/lib/python3.7/dist-packages (from pyod) (1.1.0)\n",
            "Requirement already satisfied: statsmodels in /usr/local/lib/python3.7/dist-packages (from pyod) (0.10.2)\n",
            "Requirement already satisfied: numpy>=1.13 in /usr/local/lib/python3.7/dist-packages (from pyod) (1.21.5)\n",
            "Requirement already satisfied: numba>=0.35 in /usr/local/lib/python3.7/dist-packages (from pyod) (0.51.2)\n",
            "Requirement already satisfied: scikit-learn>=0.20.0 in /usr/local/lib/python3.7/dist-packages (from pyod) (1.0.2)\n",
            "Requirement already satisfied: llvmlite<0.35,>=0.34.0.dev0 in /usr/local/lib/python3.7/dist-packages (from numba>=0.35->pyod) (0.34.0)\n",
            "Requirement already satisfied: setuptools in /usr/local/lib/python3.7/dist-packages (from numba>=0.35->pyod) (57.4.0)\n",
            "Requirement already satisfied: threadpoolctl>=2.0.0 in /usr/local/lib/python3.7/dist-packages (from scikit-learn>=0.20.0->pyod) (3.1.0)\n",
            "Requirement already satisfied: cycler>=0.10 in /usr/local/lib/python3.7/dist-packages (from matplotlib->pyod) (0.11.0)\n",
            "Requirement already satisfied: python-dateutil>=2.1 in /usr/local/lib/python3.7/dist-packages (from matplotlib->pyod) (2.8.2)\n",
            "Requirement already satisfied: pyparsing!=2.0.4,!=2.1.2,!=2.1.6,>=2.0.1 in /usr/local/lib/python3.7/dist-packages (from matplotlib->pyod) (3.0.7)\n",
            "Requirement already satisfied: kiwisolver>=1.0.1 in /usr/local/lib/python3.7/dist-packages (from matplotlib->pyod) (1.4.0)\n",
            "Requirement already satisfied: typing-extensions in /usr/local/lib/python3.7/dist-packages (from kiwisolver>=1.0.1->matplotlib->pyod) (3.10.0.2)\n",
            "Requirement already satisfied: pandas>=0.19 in /usr/local/lib/python3.7/dist-packages (from statsmodels->pyod) (1.3.5)\n",
            "Requirement already satisfied: patsy>=0.4.0 in /usr/local/lib/python3.7/dist-packages (from statsmodels->pyod) (0.5.2)\n",
            "Requirement already satisfied: pytz>=2017.3 in /usr/local/lib/python3.7/dist-packages (from pandas>=0.19->statsmodels->pyod) (2018.9)\n"
          ]
        }
      ]
    },
    {
      "cell_type": "markdown",
      "source": [
        "# Read in data"
      ],
      "metadata": {
        "id": "DuL0zY4sqYJJ"
      }
    },
    {
      "cell_type": "code",
      "source": [
        "train = pd.read_csv(\"Traffic_train.csv\")\n",
        "test = pd.read_csv(\"Traffic_test3.csv\")\n",
        "print(train.head())"
      ],
      "metadata": {
        "colab": {
          "base_uri": "https://localhost:8080/"
        },
        "id": "XZF5lZMRrwHx",
        "outputId": "27fdb7c9-7b17-4120-d1e5-49cae4d85a85"
      },
      "execution_count": 74,
      "outputs": [
        {
          "output_type": "stream",
          "name": "stdout",
          "text": [
            "   Delay  Code  Y\n",
            "0  15000   302  1\n",
            "1      0   302  1\n",
            "2      0   302  1\n",
            "3  11000   302  1\n",
            "4  19000   302  1\n"
          ]
        }
      ]
    },
    {
      "cell_type": "code",
      "source": [
        "print(train['Code'].unique())"
      ],
      "metadata": {
        "colab": {
          "base_uri": "https://localhost:8080/"
        },
        "id": "osQT7qhGr7NS",
        "outputId": "56b5194c-c822-45b5-b74b-8adf9dddef0c"
      },
      "execution_count": 75,
      "outputs": [
        {
          "output_type": "stream",
          "name": "stdout",
          "text": [
            "[302 200 404 400 201 500 204]\n"
          ]
        }
      ]
    },
    {
      "cell_type": "markdown",
      "source": [
        "# Data Processing"
      ],
      "metadata": {
        "id": "N1P-n1TMqjja"
      }
    },
    {
      "cell_type": "code",
      "source": [
        "train['Code'].value_counts()"
      ],
      "metadata": {
        "colab": {
          "base_uri": "https://localhost:8080/"
        },
        "id": "DMGTcMErsDCS",
        "outputId": "d27c5e96-f266-44af-f88c-8040894823b0"
      },
      "execution_count": 76,
      "outputs": [
        {
          "output_type": "execute_result",
          "data": {
            "text/plain": [
              "200    5918\n",
              "201     953\n",
              "400     663\n",
              "404     314\n",
              "204     173\n",
              "500      36\n",
              "302      35\n",
              "Name: Code, dtype: int64"
            ]
          },
          "metadata": {},
          "execution_count": 76
        }
      ]
    },
    {
      "cell_type": "code",
      "source": [
        "one_hot_encoded_train = pd.get_dummies(train, columns = ['Code'])\n",
        "print(one_hot_encoded_train)"
      ],
      "metadata": {
        "colab": {
          "base_uri": "https://localhost:8080/"
        },
        "id": "gnadUxK_sK-L",
        "outputId": "d6ddbf9d-9f0c-42e6-eda7-299a649fa8eb"
      },
      "execution_count": 77,
      "outputs": [
        {
          "output_type": "stream",
          "name": "stdout",
          "text": [
            "      Delay  Y  Code_200  Code_201  Code_204  Code_302  Code_400  Code_404  \\\n",
            "0     15000  1         0         0         0         1         0         0   \n",
            "1         0  1         0         0         0         1         0         0   \n",
            "2         0  1         0         0         0         1         0         0   \n",
            "3     11000  1         0         0         0         1         0         0   \n",
            "4     19000  1         0         0         0         1         0         0   \n",
            "...     ... ..       ...       ...       ...       ...       ...       ...   \n",
            "8087  13000  1         1         0         0         0         0         0   \n",
            "8088  14000  1         1         0         0         0         0         0   \n",
            "8089  21000  1         1         0         0         0         0         0   \n",
            "8090  15000  1         1         0         0         0         0         0   \n",
            "8091  17000  1         1         0         0         0         0         0   \n",
            "\n",
            "      Code_500  \n",
            "0            0  \n",
            "1            0  \n",
            "2            0  \n",
            "3            0  \n",
            "4            0  \n",
            "...        ...  \n",
            "8087         0  \n",
            "8088         0  \n",
            "8089         0  \n",
            "8090         0  \n",
            "8091         0  \n",
            "\n",
            "[8092 rows x 9 columns]\n"
          ]
        }
      ]
    },
    {
      "cell_type": "code",
      "source": [
        "train = one_hot_encoded_train[[\"Delay\", \"Code_200\", \"Code_201\", \"Code_204\", \"Code_302\", \"Code_400\", \"Code_404\", \"Code_500\",\"Y\"]]"
      ],
      "metadata": {
        "id": "Jv3mtp_9sYNt"
      },
      "execution_count": 78,
      "outputs": []
    },
    {
      "cell_type": "code",
      "source": [
        "print(train.head)"
      ],
      "metadata": {
        "colab": {
          "base_uri": "https://localhost:8080/"
        },
        "id": "Ij6VZWtOMiK7",
        "outputId": "3d15c88a-9ae4-4c0a-e83b-4bb0c7dca3db"
      },
      "execution_count": 79,
      "outputs": [
        {
          "output_type": "stream",
          "name": "stdout",
          "text": [
            "<bound method NDFrame.head of       Delay  Code_200  Code_201  Code_204  Code_302  Code_400  Code_404  \\\n",
            "0     15000         0         0         0         1         0         0   \n",
            "1         0         0         0         0         1         0         0   \n",
            "2         0         0         0         0         1         0         0   \n",
            "3     11000         0         0         0         1         0         0   \n",
            "4     19000         0         0         0         1         0         0   \n",
            "...     ...       ...       ...       ...       ...       ...       ...   \n",
            "8087  13000         1         0         0         0         0         0   \n",
            "8088  14000         1         0         0         0         0         0   \n",
            "8089  21000         1         0         0         0         0         0   \n",
            "8090  15000         1         0         0         0         0         0   \n",
            "8091  17000         1         0         0         0         0         0   \n",
            "\n",
            "      Code_500  Y  \n",
            "0            0  1  \n",
            "1            0  1  \n",
            "2            0  1  \n",
            "3            0  1  \n",
            "4            0  1  \n",
            "...        ... ..  \n",
            "8087         0  1  \n",
            "8088         0  1  \n",
            "8089         0  1  \n",
            "8090         0  1  \n",
            "8091         0  1  \n",
            "\n",
            "[8092 rows x 9 columns]>\n"
          ]
        }
      ]
    },
    {
      "cell_type": "code",
      "source": [
        "X_train=train[[\"Delay\", \"Code_200\", \"Code_201\", \"Code_204\", \"Code_302\", \"Code_400\", \"Code_404\", \"Code_500\"]]\n",
        "y_train=train[[\"Y\"]]"
      ],
      "metadata": {
        "id": "5cRN0VN2MXfS"
      },
      "execution_count": 80,
      "outputs": []
    },
    {
      "cell_type": "code",
      "source": [
        "test = pd.read_csv(\"Traffic_test3.csv\")\n",
        "one_hot_encoded_test = pd.get_dummies(test, columns = ['Code'])"
      ],
      "metadata": {
        "id": "GBF1UlMhh1sR"
      },
      "execution_count": 81,
      "outputs": []
    },
    {
      "cell_type": "code",
      "source": [
        "test = one_hot_encoded_test[[\"Delay\", \"Code_200\", \"Code_201\", \"Code_204\", \"Code_302\", \"Code_400\", \"Code_404\", \"Code_500\",\"Y\"]]"
      ],
      "metadata": {
        "id": "meHjXBPiL19j"
      },
      "execution_count": 82,
      "outputs": []
    },
    {
      "cell_type": "code",
      "source": [
        "X_test=test[[\"Delay\", \"Code_200\", \"Code_201\", \"Code_204\", \"Code_302\", \"Code_400\", \"Code_404\", \"Code_500\"]]\n",
        "y_test=test[[\"Y\"]]"
      ],
      "metadata": {
        "id": "3au1n5vBj0ts"
      },
      "execution_count": 83,
      "outputs": []
    },
    {
      "cell_type": "code",
      "source": [
        "print(y_train.head())\n",
        "print(X_train.head())\n"
      ],
      "metadata": {
        "colab": {
          "base_uri": "https://localhost:8080/"
        },
        "id": "Kn3eku7-yGt8",
        "outputId": "336f8cf5-bf45-4279-d1ba-4655af1e2817"
      },
      "execution_count": 84,
      "outputs": [
        {
          "output_type": "stream",
          "name": "stdout",
          "text": [
            "   Y\n",
            "0  1\n",
            "1  1\n",
            "2  1\n",
            "3  1\n",
            "4  1\n",
            "   Delay  Code_200  Code_201  Code_204  Code_302  Code_400  Code_404  Code_500\n",
            "0  15000         0         0         0         1         0         0         0\n",
            "1      0         0         0         0         1         0         0         0\n",
            "2      0         0         0         0         1         0         0         0\n",
            "3  11000         0         0         0         1         0         0         0\n",
            "4  19000         0         0         0         1         0         0         0\n"
          ]
        }
      ]
    },
    {
      "cell_type": "code",
      "source": [
        "y_train.loc[y_train[\"Y\"] == -1, \"Y\"] = 0\n",
        "y_test.loc[y_test[\"Y\"] == -1, \"Y\"] = 0"
      ],
      "metadata": {
        "colab": {
          "base_uri": "https://localhost:8080/"
        },
        "id": "ztYUinsHiAVJ",
        "outputId": "0528cc8f-f523-4e67-e9dc-f5039f6ece5e"
      },
      "execution_count": 101,
      "outputs": [
        {
          "output_type": "stream",
          "name": "stderr",
          "text": [
            "/usr/local/lib/python3.7/dist-packages/pandas/core/indexing.py:1732: SettingWithCopyWarning: \n",
            "A value is trying to be set on a copy of a slice from a DataFrame\n",
            "\n",
            "See the caveats in the documentation: https://pandas.pydata.org/pandas-docs/stable/user_guide/indexing.html#returning-a-view-versus-a-copy\n",
            "  self._setitem_single_block(indexer, value, name)\n",
            "/usr/local/lib/python3.7/dist-packages/pandas/core/indexing.py:723: SettingWithCopyWarning: \n",
            "A value is trying to be set on a copy of a slice from a DataFrame\n",
            "\n",
            "See the caveats in the documentation: https://pandas.pydata.org/pandas-docs/stable/user_guide/indexing.html#returning-a-view-versus-a-copy\n",
            "  iloc._setitem_with_indexer(indexer, value, self.name)\n"
          ]
        }
      ]
    },
    {
      "cell_type": "markdown",
      "source": [
        "# Metrics"
      ],
      "metadata": {
        "id": "xMnu0bg92kJE"
      }
    },
    {
      "cell_type": "code",
      "source": [
        "def get_cm(labels, predictions, p=0.5):\n",
        "  cm = confusion_matrix(labels, predictions > p)\n",
        "  return cm\n",
        "\n",
        "def plot_cm(ax,labels, predictions,title, p=0.5):\n",
        "  tick_labels = ['Y', 'N']\n",
        "  cm = get_cm(labels, predictions, p)\n",
        "  sns.heatmap(cm, annot=True, fmt=\"d\",ax=ax)\n",
        "  ax.title.set_text(title)\n",
        "  ax.set_xticklabels(tick_labels)\n",
        "  ax.set_yticklabels(tick_labels)"
      ],
      "metadata": {
        "id": "2sEhpK1QwMxg"
      },
      "execution_count": 85,
      "outputs": []
    },
    {
      "cell_type": "markdown",
      "source": [
        "# Data Exploration"
      ],
      "metadata": {
        "id": "YBPU66OljaeE"
      }
    },
    {
      "cell_type": "code",
      "source": [
        "def percentage(part, whole):\n",
        "  return 100 * float(part) / float(whole)\n",
        "\n",
        "anamoly, not_anamoly = y_train.value_counts()\n",
        "print(f'Anamoly Resampled {anamoly}')\n",
        "print(f'Not-Anamoly Resampled {not_anamoly}')\n",
        "print(f'Subscribe Resampled proportion {round(percentage(anamoly,anamoly + not_anamoly), 2)}%')\n",
        "\n",
        "y_train.value_counts().plot(kind=\"bar\", title=\"Anamoly vs Not Anamoly\");"
      ],
      "metadata": {
        "colab": {
          "base_uri": "https://localhost:8080/",
          "height": 372
        },
        "id": "wB_JSGjUjeiO",
        "outputId": "6ade2d61-690e-45fa-dcff-c420e49602e5"
      },
      "execution_count": 111,
      "outputs": [
        {
          "output_type": "stream",
          "name": "stdout",
          "text": [
            "Anamoly Resampled 8089\n",
            "Not-Anamoly Resampled 3\n",
            "Subscribe Resampled proportion 99.96%\n"
          ]
        },
        {
          "output_type": "display_data",
          "data": {
            "text/plain": [
              "<Figure size 432x288 with 1 Axes>"
            ],
            "image/png": "[encoded data removed]"
          },
          "metadata": {
            "needs_background": "light"
          }
        }
      ]
    },
    {
      "cell_type": "markdown",
      "source": [
        "# Resampling"
      ],
      "metadata": {
        "id": "bXi1W3TST8Cw"
      }
    },
    {
      "cell_type": "code",
      "source": [
        "print(y_train['Y'].unique())\n",
        "print(y_train['Y'].unique())"
      ],
      "metadata": {
        "colab": {
          "base_uri": "https://localhost:8080/"
        },
        "id": "ggVHLMR5z_Uk",
        "outputId": "e8e01ad9-e63e-4f45-8a32-b8fc2f30e429"
      },
      "execution_count": 102,
      "outputs": [
        {
          "output_type": "stream",
          "name": "stdout",
          "text": [
            "[1 0]\n",
            "[1 0]\n"
          ]
        }
      ]
    },
    {
      "cell_type": "code",
      "source": [
        "from imblearn.over_sampling import SMOTE\n",
        "smote = SMOTE(random_state=0,  k_neighbors=2)\n",
        "X_train_resampled, y_train_resampled = smote.fit_resample(X_train, y_train)\n"
      ],
      "metadata": {
        "id": "9BSPe-QpUNJj"
      },
      "execution_count": 103,
      "outputs": []
    },
    {
      "cell_type": "code",
      "source": [
        "def percentage(part, whole):\n",
        "  return 100 * float(part) / float(whole)\n",
        "\n",
        "anamoly_resampled, not_anamoly_resampled = y_train_resampled.value_counts()\n",
        "print(f'Anamoly Resampled {anamoly_resampled}')\n",
        "print(f'Not-Anamoly Resampled {not_anamoly_resampled}')\n",
        "print(f'Subscribe Resampled proportion {round(percentage(anamoly_resampled,anamoly_resampled + not_anamoly_resampled), 2)}%')\n",
        "\n",
        "y_train_resampled.value_counts().plot(kind=\"bar\", title=\"Anamoly Resampled vs Not Anamoly Resampled\");"
      ],
      "metadata": {
        "colab": {
          "base_uri": "https://localhost:8080/",
          "height": 372
        },
        "id": "XWoDIx0yVd_w",
        "outputId": "8a1228f3-e214-4fff-a345-f5bacc5dfde2"
      },
      "execution_count": 104,
      "outputs": [
        {
          "output_type": "stream",
          "name": "stdout",
          "text": [
            "Anamoly Resampled 8089\n",
            "Not-Anamoly Resampled 8089\n",
            "Subscribe Resampled proportion 50.0%\n"
          ]
        },
        {
          "output_type": "display_data",
          "data": {
            "text/plain": [
              "<Figure size 432x288 with 1 Axes>"
            ],
            "image/png": "[encoded data removed]"
          },
          "metadata": {
            "needs_background": "light"
          }
        }
      ]
    },
    {
      "cell_type": "code",
      "source": [
        "print(y_train_resampled.head(100))"
      ],
      "metadata": {
        "colab": {
          "base_uri": "https://localhost:8080/"
        },
        "id": "sWdvn1NHZxVY",
        "outputId": "405403fd-fe65-4215-9e2e-581b440eeb82"
      },
      "execution_count": 105,
      "outputs": [
        {
          "output_type": "stream",
          "name": "stdout",
          "text": [
            "    Y\n",
            "0   1\n",
            "1   1\n",
            "2   1\n",
            "3   1\n",
            "4   1\n",
            ".. ..\n",
            "95  1\n",
            "96  1\n",
            "97  1\n",
            "98  1\n",
            "99  1\n",
            "\n",
            "[100 rows x 1 columns]\n"
          ]
        }
      ]
    },
    {
      "cell_type": "markdown",
      "source": [
        "# Weighting"
      ],
      "metadata": {
        "id": "9gopJ6cNgIPF"
      }
    },
    {
      "cell_type": "code",
      "source": [
        "anamoly_count, not_anamoly_count = np.bincount(y_train.Y)\n",
        "total_count = len(y_train.Y)\n",
        "\n",
        "weight_anamoly = ((1 / anamoly_count) * (total_count) / 2.0 )\n",
        "weight_not_anamoly = (((1 / not_anamoly_count) * (total_count) / 2.0 )) \n",
        "print(\"Anamoly:  \" + str(weight_anamoly))\n",
        "print(\"Not anamoly:  \" + str(weight_not_anamoly))\n",
        "class_weights = {0: weight_anamoly, 1: weight_not_anamoly}"
      ],
      "metadata": {
        "colab": {
          "base_uri": "https://localhost:8080/"
        },
        "id": "s9LNU4j_hhCi",
        "outputId": "7d1a0686-ee2e-46b7-f1ff-df23bc90b60e"
      },
      "execution_count": 108,
      "outputs": [
        {
          "output_type": "stream",
          "name": "stdout",
          "text": [
            "Anamoly:  1348.6666666666665\n",
            "Not anamoly:  0.5001854370132278\n"
          ]
        }
      ]
    },
    {
      "cell_type": "code",
      "source": [
        "from imblearn.ensemble import BalancedRandomForestClassifier\n",
        "\n",
        "clf = BalancedRandomForestClassifier(max_depth=2, random_state=0,class_weight=class_weights)\n",
        "clf.fit(X_train, y_train) \n",
        "predictions = clf.predict(X_test)\n",
        "fig, (ax1) = plt.subplots(1, 1,figsize=(20,6))\n",
        "plot_cm(ax1,y_test, predictions,\"random forest\")"
      ],
      "metadata": {
        "colab": {
          "base_uri": "https://localhost:8080/",
          "height": 454
        },
        "id": "a3W1CaE6gK5R",
        "outputId": "5b42e144-88dc-41e3-e592-21e0a946bff6"
      },
      "execution_count": 110,
      "outputs": [
        {
          "output_type": "stream",
          "name": "stderr",
          "text": [
            "/usr/local/lib/python3.7/dist-packages/ipykernel_launcher.py:4: DataConversionWarning: A column-vector y was passed when a 1d array was expected. Please change the shape of y to (n_samples,), for example using ravel().\n",
            "  after removing the cwd from sys.path.\n"
          ]
        },
        {
          "output_type": "display_data",
          "data": {
            "text/plain": [
              "<Figure size 1440x432 with 2 Axes>"
            ],
            "image/png": "[encoded data removed]"
          },
          "metadata": {
            "needs_background": "light"
          }
        }
      ]
    },
    {
      "cell_type": "markdown",
      "source": [
        "# ML"
      ],
      "metadata": {
        "id": "q0qZ9863qsJ4"
      }
    },
    {
      "cell_type": "code",
      "source": [
        "from sklearn.metrics import precision_score\n",
        "from sklearn.metrics import recall_score\n",
        "\n",
        "models = {}\n",
        "\n",
        "models['LR'] = LogisticRegression()\n",
        "models['LDA'] = LinearDiscriminantAnalysis()\n",
        "models['KNN'] = KNeighborsClassifier()\n",
        "models['CART'] = DecisionTreeClassifier()\n",
        "models['NB'] = GaussianNB()\n",
        "models['SVM'] = SVC(gamma='auto')\n",
        "\n",
        "accuracy, precision, recall, predictions = {}, {}, {}, {}\n",
        "for key in models.keys():\n",
        "    models[key].fit(X_train_resampled, y_train_resampled['Y'])\n",
        "    predictions[key] = models[key].predict(X_test)\n",
        "    \n",
        "    accuracy[key] = accuracy_score(predictions[key], y_test['Y'])\n",
        "    precision[key] = precision_score(predictions[key], y_test['Y'])\n",
        "    recall[key] = recall_score(predictions[key], y_test['Y'])"
      ],
      "metadata": {
        "id": "OE2fKk8EzXEJ",
        "colab": {
          "base_uri": "https://localhost:8080/"
        },
        "outputId": "07d3c5f9-1404-4fcc-8d3c-76b231071b27"
      },
      "execution_count": 112,
      "outputs": [
        {
          "output_type": "stream",
          "name": "stderr",
          "text": [
            "/usr/local/lib/python3.7/dist-packages/sklearn/metrics/_classification.py:1318: UndefinedMetricWarning: Recall is ill-defined and being set to 0.0 due to no true samples. Use `zero_division` parameter to control this behavior.\n",
            "  _warn_prf(average, modifier, msg_start, len(result))\n"
          ]
        }
      ]
    },
    {
      "cell_type": "code",
      "source": [
        "import pandas as pd\n",
        "\n",
        "df_model = pd.DataFrame(index=models.keys(), columns=['Accuracy'])\n",
        "df_model = pd.DataFrame(index=models.keys(), columns=['Accuracy', 'Precision', 'Recall'])\n",
        "df_model['Accuracy'] = accuracy.values()\n",
        "df_model['Precision'] = precision.values()\n",
        "df_model['Recall'] = recall.values()\n",
        "\n",
        "print(df_model)\n",
        "\n",
        "plt.rc('xtick', labelsize=20) \n",
        "plt.rc('ytick', labelsize=20) \n",
        "ax  = df_model.plot.bar(rot=45,figsize=(20,12),title=\"Compare Supervised Learning Methods\")\n",
        "ax.legend(ncol= len(models.keys()), bbox_to_anchor=(0, 1), loc='lower left', prop={'size': 15})\n",
        "plt.tight_layout()"
      ],
      "metadata": {
        "colab": {
          "base_uri": "https://localhost:8080/",
          "height": 926
        },
        "id": "YnLQnDCT2Gy7",
        "outputId": "1e1c5ead-6dba-4984-ef2e-d66049d697ee"
      },
      "execution_count": 113,
      "outputs": [
        {
          "output_type": "stream",
          "name": "stdout",
          "text": [
            "      Accuracy  Precision    Recall\n",
            "LR    0.038835        0.0  0.000000\n",
            "LDA   0.961165        1.0  0.961165\n",
            "KNN   0.970874        1.0  0.970588\n",
            "CART  0.961165        1.0  0.961165\n",
            "NB    1.000000        1.0  1.000000\n",
            "SVM   0.990291        1.0  0.990000\n"
          ]
        },
        {
          "output_type": "display_data",
          "data": {
            "text/plain": [
              "<Figure size 1440x864 with 1 Axes>"
            ],
            "image/png": "[encoded data removed]"
          },
          "metadata": {
            "needs_background": "light"
          }
        }
      ]
    },
    {
      "cell_type": "code",
      "source": [
        "fig, (ax1, ax2) = plt.subplots(1, 2,figsize=(20,6))\n",
        "plot_cm(ax1,y_test, predictions['KNN'],\"Correlation Matrix KNN\")\n",
        "plot_cm(ax2,y_test, predictions['LR'],\"Correlation Matrix LR\")"
      ],
      "metadata": {
        "colab": {
          "base_uri": "https://localhost:8080/",
          "height": 399
        },
        "id": "QVcMTmaP2VKz",
        "outputId": "b9b49c2a-4d7b-4dac-8b8c-034c749df809"
      },
      "execution_count": 114,
      "outputs": [
        {
          "output_type": "display_data",
          "data": {
            "text/plain": [
              "<Figure size 1440x432 with 4 Axes>"
            ],
            "image/png": "[encoded data removed]"
          },
          "metadata": {
            "needs_background": "light"
          }
        }
      ]
    }
  ]
}