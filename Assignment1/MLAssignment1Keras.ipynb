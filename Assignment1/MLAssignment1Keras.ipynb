{
  "nbformat": 4,
  "nbformat_minor": 0,
  "metadata": {
    "colab": {
      "name": "MLAssignment1Keras.ipynb",
      "provenance": [],
      "authorship_tag": "ABX9TyNutyWelCandbrFcxx1hWCT",
      "include_colab_link": true
    },
    "kernelspec": {
      "name": "python3",
      "display_name": "Python 3"
    },
    "language_info": {
      "name": "python"
    }
  },
  "cells": [
    {
      "cell_type": "markdown",
      "metadata": {
        "id": "view-in-github",
        "colab_type": "text"
      },
      "source": [
        "<a href=\"https://colab.research.google.com/github/claredavies/DataEngAPITesting/blob/master/Assignment1/MLAssignment1Keras.ipynb\" target=\"_parent\"><img src=\"https://colab.research.google.com/assets/colab-badge.svg\" alt=\"Open In Colab\"/></a>"
      ]
    },
    {
      "cell_type": "markdown",
      "source": [
        "Import Libraries"
      ],
      "metadata": {
        "id": "ghuSVxQcld_W"
      }
    },
    {
      "cell_type": "code",
      "execution_count": 6,
      "metadata": {
        "id": "NQ3Tvi02khtt"
      },
      "outputs": [],
      "source": [
        "# Import libraries for data wrangling, preprocessing and visualization\n",
        "import numpy as np\n",
        "import pandas as pd\n",
        "import matplotlib.pyplot as plt\n",
        "import seaborn as sns\n",
        "%matplotlib inline\n",
        "from sklearn.model_selection import train_test_split\n",
        "from sklearn.preprocessing import LabelEncoder\n",
        "from sklearn.preprocessing import StandardScaler\n",
        "from sklearn.pipeline import Pipeline"
      ]
    },
    {
      "cell_type": "code",
      "source": [
        "# Importing libraries for building the neural network\n",
        "from keras.models import Sequential\n",
        "from keras.layers import Dense\n",
        "from keras.wrappers.scikit_learn import KerasClassifier\n",
        "from sklearn.model_selection import StratifiedKFold\n",
        "from sklearn.model_selection import cross_val_score"
      ],
      "metadata": {
        "id": "WuM7LOSelGtQ"
      },
      "execution_count": 2,
      "outputs": []
    },
    {
      "cell_type": "markdown",
      "source": [
        "Read in file"
      ],
      "metadata": {
        "id": "NorRjdPLlj-7"
      }
    },
    {
      "cell_type": "code",
      "source": [
        "from google.colab import files\n",
        "uploaded = files.upload()\n",
        "dataset = pd.read_csv('bank-additional-full.csv', sep=';', delimiter=None, header='infer', names=None, index_col=None)"
      ],
      "metadata": {
        "colab": {
          "resources": {
            "http://localhost:8080/nbextensions/google.colab/files.js": {
              "data": "Ly8gQ29weXJpZ2h0IDIwMTcgR29vZ2xlIExMQwovLwovLyBMaWNlbnNlZCB1bmRlciB0aGUgQXBhY2hlIExpY2Vuc2UsIFZlcnNpb24gMi4wICh0aGUgIkxpY2Vuc2UiKTsKLy8geW91IG1heSBub3QgdXNlIHRoaXMgZmlsZSBleGNlcHQgaW4gY29tcGxpYW5jZSB3aXRoIHRoZSBMaWNlbnNlLgovLyBZb3UgbWF5IG9idGFpbiBhIGNvcHkgb2YgdGhlIExpY2Vuc2UgYXQKLy8KLy8gICAgICBodHRwOi8vd3d3LmFwYWNoZS5vcmcvbGljZW5zZXMvTElDRU5TRS0yLjAKLy8KLy8gVW5sZXNzIHJlcXVpcmVkIGJ5IGFwcGxpY2FibGUgbGF3IG9yIGFncmVlZCB0byBpbiB3cml0aW5nLCBzb2Z0d2FyZQovLyBkaXN0cmlidXRlZCB1bmRlciB0aGUgTGljZW5zZSBpcyBkaXN0cmlidXRlZCBvbiBhbiAiQVMgSVMiIEJBU0lTLAovLyBXSVRIT1VUIFdBUlJBTlRJRVMgT1IgQ09ORElUSU9OUyBPRiBBTlkgS0lORCwgZWl0aGVyIGV4cHJlc3Mgb3IgaW1wbGllZC4KLy8gU2VlIHRoZSBMaWNlbnNlIGZvciB0aGUgc3BlY2lmaWMgbGFuZ3VhZ2UgZ292ZXJuaW5nIHBlcm1pc3Npb25zIGFuZAovLyBsaW1pdGF0aW9ucyB1bmRlciB0aGUgTGljZW5zZS4KCi8qKgogKiBAZmlsZW92ZXJ2aWV3IEhlbHBlcnMgZm9yIGdvb2dsZS5jb2xhYiBQeXRob24gbW9kdWxlLgogKi8KKGZ1bmN0aW9uKHNjb3BlKSB7CmZ1bmN0aW9uIHNwYW4odGV4dCwgc3R5bGVBdHRyaWJ1dGVzID0ge30pIHsKICBjb25zdCBlbGVtZW50ID0gZG9jdW1lbnQuY3JlYXRlRWxlbWVudCgnc3BhbicpOwogIGVsZW1lbnQudGV4dENvbnRlbnQgPSB0ZXh0OwogIGZvciAoY29uc3Qga2V5IG9mIE9iamVjdC5rZXlzKHN0eWxlQXR0cmlidXRlcykpIHsKICAgIGVsZW1lbnQuc3R5bGVba2V5XSA9IHN0eWxlQXR0cmlidXRlc1trZXldOwogIH0KICByZXR1cm4gZWxlbWVudDsKfQoKLy8gTWF4IG51bWJlciBvZiBieXRlcyB3aGljaCB3aWxsIGJlIHVwbG9hZGVkIGF0IGEgdGltZS4KY29uc3QgTUFYX1BBWUxPQURfU0laRSA9IDEwMCAqIDEwMjQ7CgpmdW5jdGlvbiBfdXBsb2FkRmlsZXMoaW5wdXRJZCwgb3V0cHV0SWQpIHsKICBjb25zdCBzdGVwcyA9IHVwbG9hZEZpbGVzU3RlcChpbnB1dElkLCBvdXRwdXRJZCk7CiAgY29uc3Qgb3V0cHV0RWxlbWVudCA9IGRvY3VtZW50LmdldEVsZW1lbnRCeUlkKG91dHB1dElkKTsKICAvLyBDYWNoZSBzdGVwcyBvbiB0aGUgb3V0cHV0RWxlbWVudCB0byBtYWtlIGl0IGF2YWlsYWJsZSBmb3IgdGhlIG5leHQgY2FsbAogIC8vIHRvIHVwbG9hZEZpbGVzQ29udGludWUgZnJvbSBQeXRob24uCiAgb3V0cHV0RWxlbWVudC5zdGVwcyA9IHN0ZXBzOwoKICByZXR1cm4gX3VwbG9hZEZpbGVzQ29udGludWUob3V0cHV0SWQpOwp9CgovLyBUaGlzIGlzIHJvdWdobHkgYW4gYXN5bmMgZ2VuZXJhdG9yIChub3Qgc3VwcG9ydGVkIGluIHRoZSBicm93c2VyIHlldCksCi8vIHdoZXJlIHRoZXJlIGFyZSBtdWx0aXBsZSBhc3luY2hyb25vdXMgc3RlcHMgYW5kIHRoZSBQeXRob24gc2lkZSBpcyBnb2luZwovLyB0byBwb2xsIGZvciBjb21wbGV0aW9uIG9mIGVhY2ggc3RlcC4KLy8gVGhpcyB1c2VzIGEgUHJvbWlzZSB0byBibG9jayB0aGUgcHl0aG9uIHNpZGUgb24gY29tcGxldGlvbiBvZiBlYWNoIHN0ZXAsCi8vIHRoZW4gcGFzc2VzIHRoZSByZXN1bHQgb2YgdGhlIHByZXZpb3VzIHN0ZXAgYXMgdGhlIGlucHV0IHRvIHRoZSBuZXh0IHN0ZXAuCmZ1bmN0aW9uIF91cGxvYWRGaWxlc0NvbnRpbnVlKG91dHB1dElkKSB7CiAgY29uc3Qgb3V0cHV0RWxlbWVudCA9IGRvY3VtZW50LmdldEVsZW1lbnRCeUlkKG91dHB1dElkKTsKICBjb25zdCBzdGVwcyA9IG91dHB1dEVsZW1lbnQuc3RlcHM7CgogIGNvbnN0IG5leHQgPSBzdGVwcy5uZXh0KG91dHB1dEVsZW1lbnQubGFzdFByb21pc2VWYWx1ZSk7CiAgcmV0dXJuIFByb21pc2UucmVzb2x2ZShuZXh0LnZhbHVlLnByb21pc2UpLnRoZW4oKHZhbHVlKSA9PiB7CiAgICAvLyBDYWNoZSB0aGUgbGFzdCBwcm9taXNlIHZhbHVlIHRvIG1ha2UgaXQgYXZhaWxhYmxlIHRvIHRoZSBuZXh0CiAgICAvLyBzdGVwIG9mIHRoZSBnZW5lcmF0b3IuCiAgICBvdXRwdXRFbGVtZW50Lmxhc3RQcm9taXNlVmFsdWUgPSB2YWx1ZTsKICAgIHJldHVybiBuZXh0LnZhbHVlLnJlc3BvbnNlOwogIH0pOwp9CgovKioKICogR2VuZXJhdG9yIGZ1bmN0aW9uIHdoaWNoIGlzIGNhbGxlZCBiZXR3ZWVuIGVhY2ggYXN5bmMgc3RlcCBvZiB0aGUgdXBsb2FkCiAqIHByb2Nlc3MuCiAqIEBwYXJhbSB7c3RyaW5nfSBpbnB1dElkIEVsZW1lbnQgSUQgb2YgdGhlIGlucHV0IGZpbGUgcGlja2VyIGVsZW1lbnQuCiAqIEBwYXJhbSB7c3RyaW5nfSBvdXRwdXRJZCBFbGVtZW50IElEIG9mIHRoZSBvdXRwdXQgZGlzcGxheS4KICogQHJldHVybiB7IUl0ZXJhYmxlPCFPYmplY3Q+fSBJdGVyYWJsZSBvZiBuZXh0IHN0ZXBzLgogKi8KZnVuY3Rpb24qIHVwbG9hZEZpbGVzU3RlcChpbnB1dElkLCBvdXRwdXRJZCkgewogIGNvbnN0IGlucHV0RWxlbWVudCA9IGRvY3VtZW50LmdldEVsZW1lbnRCeUlkKGlucHV0SWQpOwogIGlucHV0RWxlbWVudC5kaXNhYmxlZCA9IGZhbHNlOwoKICBjb25zdCBvdXRwdXRFbGVtZW50ID0gZG9jdW1lbnQuZ2V0RWxlbWVudEJ5SWQob3V0cHV0SWQpOwogIG91dHB1dEVsZW1lbnQuaW5uZXJIVE1MID0gJyc7CgogIGNvbnN0IHBpY2tlZFByb21pc2UgPSBuZXcgUHJvbWlzZSgocmVzb2x2ZSkgPT4gewogICAgaW5wdXRFbGVtZW50LmFkZEV2ZW50TGlzdGVuZXIoJ2NoYW5nZScsIChlKSA9PiB7CiAgICAgIHJlc29sdmUoZS50YXJnZXQuZmlsZXMpOwogICAgfSk7CiAgfSk7CgogIGNvbnN0IGNhbmNlbCA9IGRvY3VtZW50LmNyZWF0ZUVsZW1lbnQoJ2J1dHRvbicpOwogIGlucHV0RWxlbWVudC5wYXJlbnRFbGVtZW50LmFwcGVuZENoaWxkKGNhbmNlbCk7CiAgY2FuY2VsLnRleHRDb250ZW50ID0gJ0NhbmNlbCB1cGxvYWQnOwogIGNvbnN0IGNhbmNlbFByb21pc2UgPSBuZXcgUHJvbWlzZSgocmVzb2x2ZSkgPT4gewogICAgY2FuY2VsLm9uY2xpY2sgPSAoKSA9PiB7CiAgICAgIHJlc29sdmUobnVsbCk7CiAgICB9OwogIH0pOwoKICAvLyBXYWl0IGZvciB0aGUgdXNlciB0byBwaWNrIHRoZSBmaWxlcy4KICBjb25zdCBmaWxlcyA9IHlpZWxkIHsKICAgIHByb21pc2U6IFByb21pc2UucmFjZShbcGlja2VkUHJvbWlzZSwgY2FuY2VsUHJvbWlzZV0pLAogICAgcmVzcG9uc2U6IHsKICAgICAgYWN0aW9uOiAnc3RhcnRpbmcnLAogICAgfQogIH07CgogIGNhbmNlbC5yZW1vdmUoKTsKCiAgLy8gRGlzYWJsZSB0aGUgaW5wdXQgZWxlbWVudCBzaW5jZSBmdXJ0aGVyIHBpY2tzIGFyZSBub3QgYWxsb3dlZC4KICBpbnB1dEVsZW1lbnQuZGlzYWJsZWQgPSB0cnVlOwoKICBpZiAoIWZpbGVzKSB7CiAgICByZXR1cm4gewogICAgICByZXNwb25zZTogewogICAgICAgIGFjdGlvbjogJ2NvbXBsZXRlJywKICAgICAgfQogICAgfTsKICB9CgogIGZvciAoY29uc3QgZmlsZSBvZiBmaWxlcykgewogICAgY29uc3QgbGkgPSBkb2N1bWVudC5jcmVhdGVFbGVtZW50KCdsaScpOwogICAgbGkuYXBwZW5kKHNwYW4oZmlsZS5uYW1lLCB7Zm9udFdlaWdodDogJ2JvbGQnfSkpOwogICAgbGkuYXBwZW5kKHNwYW4oCiAgICAgICAgYCgke2ZpbGUudHlwZSB8fCAnbi9hJ30pIC0gJHtmaWxlLnNpemV9IGJ5dGVzLCBgICsKICAgICAgICBgbGFzdCBtb2RpZmllZDogJHsKICAgICAgICAgICAgZmlsZS5sYXN0TW9kaWZpZWREYXRlID8gZmlsZS5sYXN0TW9kaWZpZWREYXRlLnRvTG9jYWxlRGF0ZVN0cmluZygpIDoKICAgICAgICAgICAgICAgICAgICAgICAgICAgICAgICAgICAgJ24vYSd9IC0gYCkpOwogICAgY29uc3QgcGVyY2VudCA9IHNwYW4oJzAlIGRvbmUnKTsKICAgIGxpLmFwcGVuZENoaWxkKHBlcmNlbnQpOwoKICAgIG91dHB1dEVsZW1lbnQuYXBwZW5kQ2hpbGQobGkpOwoKICAgIGNvbnN0IGZpbGVEYXRhUHJvbWlzZSA9IG5ldyBQcm9taXNlKChyZXNvbHZlKSA9PiB7CiAgICAgIGNvbnN0IHJlYWRlciA9IG5ldyBGaWxlUmVhZGVyKCk7CiAgICAgIHJlYWRlci5vbmxvYWQgPSAoZSkgPT4gewogICAgICAgIHJlc29sdmUoZS50YXJnZXQucmVzdWx0KTsKICAgICAgfTsKICAgICAgcmVhZGVyLnJlYWRBc0FycmF5QnVmZmVyKGZpbGUpOwogICAgfSk7CiAgICAvLyBXYWl0IGZvciB0aGUgZGF0YSB0byBiZSByZWFkeS4KICAgIGxldCBmaWxlRGF0YSA9IHlpZWxkIHsKICAgICAgcHJvbWlzZTogZmlsZURhdGFQcm9taXNlLAogICAgICByZXNwb25zZTogewogICAgICAgIGFjdGlvbjogJ2NvbnRpbnVlJywKICAgICAgfQogICAgfTsKCiAgICAvLyBVc2UgYSBjaHVua2VkIHNlbmRpbmcgdG8gYXZvaWQgbWVzc2FnZSBzaXplIGxpbWl0cy4gU2VlIGIvNjIxMTU2NjAuCiAgICBsZXQgcG9zaXRpb24gPSAwOwogICAgZG8gewogICAgICBjb25zdCBsZW5ndGggPSBNYXRoLm1pbihmaWxlRGF0YS5ieXRlTGVuZ3RoIC0gcG9zaXRpb24sIE1BWF9QQVlMT0FEX1NJWkUpOwogICAgICBjb25zdCBjaHVuayA9IG5ldyBVaW50OEFycmF5KGZpbGVEYXRhLCBwb3NpdGlvbiwgbGVuZ3RoKTsKICAgICAgcG9zaXRpb24gKz0gbGVuZ3RoOwoKICAgICAgY29uc3QgYmFzZTY0ID0gYnRvYShTdHJpbmcuZnJvbUNoYXJDb2RlLmFwcGx5KG51bGwsIGNodW5rKSk7CiAgICAgIHlpZWxkIHsKICAgICAgICByZXNwb25zZTogewogICAgICAgICAgYWN0aW9uOiAnYXBwZW5kJywKICAgICAgICAgIGZpbGU6IGZpbGUubmFtZSwKICAgICAgICAgIGRhdGE6IGJhc2U2NCwKICAgICAgICB9LAogICAgICB9OwoKICAgICAgbGV0IHBlcmNlbnREb25lID0gZmlsZURhdGEuYnl0ZUxlbmd0aCA9PT0gMCA/CiAgICAgICAgICAxMDAgOgogICAgICAgICAgTWF0aC5yb3VuZCgocG9zaXRpb24gLyBmaWxlRGF0YS5ieXRlTGVuZ3RoKSAqIDEwMCk7CiAgICAgIHBlcmNlbnQudGV4dENvbnRlbnQgPSBgJHtwZXJjZW50RG9uZX0lIGRvbmVgOwoKICAgIH0gd2hpbGUgKHBvc2l0aW9uIDwgZmlsZURhdGEuYnl0ZUxlbmd0aCk7CiAgfQoKICAvLyBBbGwgZG9uZS4KICB5aWVsZCB7CiAgICByZXNwb25zZTogewogICAgICBhY3Rpb246ICdjb21wbGV0ZScsCiAgICB9CiAgfTsKfQoKc2NvcGUuZ29vZ2xlID0gc2NvcGUuZ29vZ2xlIHx8IHt9OwpzY29wZS5nb29nbGUuY29sYWIgPSBzY29wZS5nb29nbGUuY29sYWIgfHwge307CnNjb3BlLmdvb2dsZS5jb2xhYi5fZmlsZXMgPSB7CiAgX3VwbG9hZEZpbGVzLAogIF91cGxvYWRGaWxlc0NvbnRpbnVlLAp9Owp9KShzZWxmKTsK",
              "ok": true,
              "headers": [
                [
                  "content-type",
                  "application/javascript"
                ]
              ],
              "status": 200,
              "status_text": ""
            }
          },
          "base_uri": "https://localhost:8080/",
          "height": 73
        },
        "id": "ygLXNzm0kqOd",
        "outputId": "d3bcf7cf-87d6-4f3c-9cd2-5bc6f65acc6e"
      },
      "execution_count": 3,
      "outputs": [
        {
          "output_type": "display_data",
          "data": {
            "text/html": [
              "\n",
              "     <input type=\"file\" id=\"files-69d627f5-5d59-4dc5-a3f7-f8d65ee355b6\" name=\"files[]\" multiple disabled\n",
              "        style=\"border:none\" />\n",
              "     <output id=\"result-69d627f5-5d59-4dc5-a3f7-f8d65ee355b6\">\n",
              "      Upload widget is only available when the cell has been executed in the\n",
              "      current browser session. Please rerun this cell to enable.\n",
              "      </output>\n",
              "      <script src=\"/nbextensions/google.colab/files.js\"></script> "
            ],
            "text/plain": [
              "<IPython.core.display.HTML object>"
            ]
          },
          "metadata": {}
        },
        {
          "output_type": "stream",
          "name": "stdout",
          "text": [
            "Saving bank-additional-full.csv to bank-additional-full.csv\n"
          ]
        }
      ]
    },
    {
      "cell_type": "code",
      "source": [
        "sns.set_style('dark')\n",
        "import matplotlib as mpl\n",
        "mpl.style.use(['https://gist.githubusercontent.com/BrendanMartin/01e71bb9550774e2ccff3af7574c0020/raw/6fa9681c7d0232d34c9271de9be150e584e606fe/lds_default.mplstyle'])\n",
        "mpl.rcParams.update({\"figure.figsize\": (8,6), \"axes.titlepad\": 22.0})"
      ],
      "metadata": {
        "id": "4ZABjDz-ktKa"
      },
      "execution_count": 4,
      "outputs": []
    },
    {
      "cell_type": "markdown",
      "source": [
        "Data Exploration"
      ],
      "metadata": {
        "id": "-xf2eo28k0cl"
      }
    },
    {
      "cell_type": "code",
      "source": [
        "dataset.rename(columns = {'y':'target'}, inplace = True)\n",
        "\n",
        "print('Target variables  : ', dataset['target'])\n",
        "(unique, counts) = np.unique(dataset['target'], return_counts=True)\n",
        "\n",
        "print('Unique values of the target variable', unique)\n",
        "print('Counts of the target variable :', counts)\n",
        "\n",
        "sns.countplot(data = dataset,x = 'target')\n",
        "plt.title('Target Variable Counts in Dataset')\n",
        "plt.show()"
      ],
      "metadata": {
        "colab": {
          "base_uri": "https://localhost:8080/",
          "height": 577
        },
        "id": "njHi6P16kzvF",
        "outputId": "4336a6f1-2559-4085-9bb6-4dd2abbf2680"
      },
      "execution_count": 16,
      "outputs": [
        {
          "output_type": "stream",
          "name": "stdout",
          "text": [
            "Target variables  :  0        1\n",
            "1        1\n",
            "2        1\n",
            "3        1\n",
            "4        1\n",
            "        ..\n",
            "41183    2\n",
            "41184    1\n",
            "41185    1\n",
            "41186    2\n",
            "41187    1\n",
            "Name: target, Length: 41188, dtype: int64\n",
            "Unique values of the target variable [1 2]\n",
            "Counts of the target variable : [36548  4640]\n"
          ]
        },
        {
          "output_type": "display_data",
          "data": {
            "image/png": "[encoded data removed]",
            "text/plain": [
              "<Figure size 432x288 with 1 Axes>"
            ]
          },
          "metadata": {
            "needs_background": "light"
          }
        }
      ]
    },
    {
      "cell_type": "markdown",
      "source": [
        "Turn categories to numerical"
      ],
      "metadata": {
        "id": "pv0kR7n_k_bh"
      }
    },
    {
      "cell_type": "code",
      "source": [
        "dataset['target'] = pd.factorize(dataset['target'])[0] + 1\n",
        "dataset['job'] = pd.factorize(dataset['job'])[0] + 1\n",
        "dataset['marital'] = pd.factorize(dataset['marital'])[0] + 1\n",
        "dataset['education'] = pd.factorize(dataset['education'])[0] + 1\n",
        "dataset['default'] = pd.factorize(dataset['default'])[0] + 1\n",
        "dataset['housing'] = pd.factorize(dataset['housing'])[0] + 1\n",
        "dataset['default'] = pd.factorize(dataset['default'])[0] + 1\n",
        "dataset['loan'] = pd.factorize(dataset['loan'])[0] + 1\n",
        "dataset['contact'] = pd.factorize(dataset['contact'])[0] + 1\n",
        "dataset['month'] = pd.factorize(dataset['month'])[0] + 1\n",
        "dataset['day_of_week'] = pd.factorize(dataset['day_of_week'])[0] + 1\n",
        "dataset['poutcome'] = pd.factorize(dataset['contact'])[0] + 1\n",
        "\n",
        "# Should remove - duration as only for benchmark\n",
        "dataset = dataset.drop('duration', 1)"
      ],
      "metadata": {
        "id": "-5feJt43k9gQ"
      },
      "execution_count": 17,
      "outputs": []
    },
    {
      "cell_type": "code",
      "source": [
        "seed = 5\n",
        "np.random.seed(seed)\n",
        "dataset.info()"
      ],
      "metadata": {
        "colab": {
          "base_uri": "https://localhost:8080/"
        },
        "id": "_DweI32alKE1",
        "outputId": "5bff2db5-d4ce-4e76-d1c5-caa801405fc5"
      },
      "execution_count": 18,
      "outputs": [
        {
          "output_type": "stream",
          "name": "stdout",
          "text": [
            "<class 'pandas.core.frame.DataFrame'>\n",
            "RangeIndex: 41188 entries, 0 to 41187\n",
            "Data columns (total 21 columns):\n",
            " #   Column          Non-Null Count  Dtype  \n",
            "---  ------          --------------  -----  \n",
            " 0   age             41188 non-null  int64  \n",
            " 1   job             41188 non-null  int64  \n",
            " 2   marital         41188 non-null  int64  \n",
            " 3   education       41188 non-null  int64  \n",
            " 4   default         41188 non-null  int64  \n",
            " 5   housing         41188 non-null  int64  \n",
            " 6   loan            41188 non-null  int64  \n",
            " 7   contact         41188 non-null  int64  \n",
            " 8   month           41188 non-null  int64  \n",
            " 9   day_of_week     41188 non-null  int64  \n",
            " 10  duration        41188 non-null  int64  \n",
            " 11  campaign        41188 non-null  int64  \n",
            " 12  pdays           41188 non-null  int64  \n",
            " 13  previous        41188 non-null  int64  \n",
            " 14  poutcome        41188 non-null  int64  \n",
            " 15  emp.var.rate    41188 non-null  float64\n",
            " 16  cons.price.idx  41188 non-null  float64\n",
            " 17  cons.conf.idx   41188 non-null  float64\n",
            " 18  euribor3m       41188 non-null  float64\n",
            " 19  nr.employed     41188 non-null  float64\n",
            " 20  target          41188 non-null  int64  \n",
            "dtypes: float64(5), int64(16)\n",
            "memory usage: 6.6 MB\n"
          ]
        }
      ]
    },
    {
      "cell_type": "code",
      "source": [
        "# X = dataset.drop(\"target\",1)   #Feature Matrix\n",
        "X = dataset.iloc[:,0:8]\n",
        "y = dataset[\"target\"]          #Target Variable\n",
        "\n",
        "print(X.head())\n",
        "print(Y.head())"
      ],
      "metadata": {
        "colab": {
          "base_uri": "https://localhost:8080/"
        },
        "id": "rk2I_uiUmZSn",
        "outputId": "25084077-415e-47fb-9425-11851a7d9e37"
      },
      "execution_count": 26,
      "outputs": [
        {
          "output_type": "stream",
          "name": "stdout",
          "text": [
            "   age  job  marital  education  default  housing  loan  contact\n",
            "0   56    1        1          1        1        1     1        1\n",
            "1   57    2        1          2        2        1     1        1\n",
            "2   37    2        1          2        1        2     1        1\n",
            "3   40    3        1          3        1        1     1        1\n",
            "4   56    2        1          2        1        1     2        1\n",
            "0    1\n",
            "1    1\n",
            "2    1\n",
            "3    1\n",
            "4    1\n",
            "Name: target, dtype: int64\n"
          ]
        }
      ]
    },
    {
      "cell_type": "markdown",
      "source": [
        "Standardize"
      ],
      "metadata": {
        "id": "_SmIz3VQsPes"
      }
    },
    {
      "cell_type": "code",
      "source": [
        "from sklearn.preprocessing import StandardScaler\n",
        "standardizer = StandardScaler()\n",
        "X = standardizer.fit_transform(X)"
      ],
      "metadata": {
        "id": "KEcaVqe8m1KE"
      },
      "execution_count": 27,
      "outputs": []
    },
    {
      "cell_type": "code",
      "source": [
        "from sklearn.model_selection import train_test_split\n",
        "X_train, X_test, y_train, y_test = train_test_split(X, y, test_size=0.3)"
      ],
      "metadata": {
        "id": "C-iiIqh9qozv"
      },
      "execution_count": 28,
      "outputs": []
    },
    {
      "cell_type": "code",
      "source": [
        "from keras import Sequential\n",
        "from keras.layers import Dense\n",
        "\n",
        "classifier = Sequential()\n",
        "#First Hidden Layer\n",
        "classifier.add(Dense(4, activation='relu', kernel_initializer='random_normal', input_dim=8))\n",
        "#Second  Hidden Layer\n",
        "classifier.add(Dense(4, activation='relu', kernel_initializer='random_normal'))\n",
        "#Output Layer\n",
        "classifier.add(Dense(1, activation='sigmoid', kernel_initializer='random_normal'))\n",
        "\n",
        "#Compiling the neural network\n",
        "classifier.compile(optimizer ='adam',loss='binary_crossentropy', metrics =['accuracy'])\n",
        "#Fitting the data to the training dataset\n",
        "# We iterate over 100 epochs to train the model. An epoch is an iteration over the entire data set.\n",
        "classifier.fit(X_train,y_train, batch_size=10, epochs=100)\n",
        "\n",
        "eval_model=classifier.evaluate(X_train, y_train)\n",
        "eval_model"
      ],
      "metadata": {
        "colab": {
          "base_uri": "https://localhost:8080/"
        },
        "id": "9tawFztTscKL",
        "outputId": "8128f1be-db4e-4ad3-db43-1787f791604a"
      },
      "execution_count": 29,
      "outputs": [
        {
          "output_type": "stream",
          "name": "stdout",
          "text": [
            "Epoch 1/100\n",
            "2884/2884 [==============================] - 7s 2ms/step - loss: -13.5743 - accuracy: 0.8864\n",
            "Epoch 2/100\n",
            "2884/2884 [==============================] - 6s 2ms/step - loss: -155.5860 - accuracy: 0.8866\n",
            "Epoch 3/100\n",
            "2884/2884 [==============================] - 5s 2ms/step - loss: -531.9291 - accuracy: 0.8866\n",
            "Epoch 4/100\n",
            "2884/2884 [==============================] - 5s 2ms/step - loss: -1210.1111 - accuracy: 0.8866\n",
            "Epoch 5/100\n",
            "2884/2884 [==============================] - 5s 2ms/step - loss: -2258.8640 - accuracy: 0.8866\n",
            "Epoch 6/100\n",
            "2884/2884 [==============================] - 5s 2ms/step - loss: -3737.9644 - accuracy: 0.8866\n",
            "Epoch 7/100\n",
            "2884/2884 [==============================] - 6s 2ms/step - loss: -5721.8394 - accuracy: 0.8866\n",
            "Epoch 8/100\n",
            "2884/2884 [==============================] - 6s 2ms/step - loss: -8264.9336 - accuracy: 0.8866\n",
            "Epoch 9/100\n",
            "2884/2884 [==============================] - 9s 3ms/step - loss: -11468.9727 - accuracy: 0.8866\n",
            "Epoch 10/100\n",
            "2884/2884 [==============================] - 8s 3ms/step - loss: -15390.4561 - accuracy: 0.8866\n",
            "Epoch 11/100\n",
            "2884/2884 [==============================] - 5s 2ms/step - loss: -20052.8613 - accuracy: 0.8866\n",
            "Epoch 12/100\n",
            "2884/2884 [==============================] - 5s 2ms/step - loss: -25470.5918 - accuracy: 0.8866\n",
            "Epoch 13/100\n",
            "2884/2884 [==============================] - 6s 2ms/step - loss: -31797.9355 - accuracy: 0.8866\n",
            "Epoch 14/100\n",
            "2884/2884 [==============================] - 6s 2ms/step - loss: -39088.2227 - accuracy: 0.8866\n",
            "Epoch 15/100\n",
            "2884/2884 [==============================] - 6s 2ms/step - loss: -47448.7266 - accuracy: 0.8866\n",
            "Epoch 16/100\n",
            "2884/2884 [==============================] - 6s 2ms/step - loss: -56833.5312 - accuracy: 0.8866\n",
            "Epoch 17/100\n",
            "2884/2884 [==============================] - 6s 2ms/step - loss: -67361.0859 - accuracy: 0.8866\n",
            "Epoch 18/100\n",
            "2884/2884 [==============================] - 6s 2ms/step - loss: -79180.1172 - accuracy: 0.8866\n",
            "Epoch 19/100\n",
            "2884/2884 [==============================] - 6s 2ms/step - loss: -92381.2969 - accuracy: 0.8866\n",
            "Epoch 20/100\n",
            "2884/2884 [==============================] - 8s 3ms/step - loss: -106706.0938 - accuracy: 0.8866\n",
            "Epoch 21/100\n",
            "2884/2884 [==============================] - 7s 2ms/step - loss: -122415.8672 - accuracy: 0.8866\n",
            "Epoch 22/100\n",
            "2884/2884 [==============================] - 9s 3ms/step - loss: -139511.2344 - accuracy: 0.8866\n",
            "Epoch 23/100\n",
            "2884/2884 [==============================] - 8s 3ms/step - loss: -158113.8906 - accuracy: 0.8866\n",
            "Epoch 24/100\n",
            "2884/2884 [==============================] - 7s 2ms/step - loss: -178473.5469 - accuracy: 0.8866\n",
            "Epoch 25/100\n",
            "2884/2884 [==============================] - 7s 2ms/step - loss: -200270.9531 - accuracy: 0.8866\n",
            "Epoch 26/100\n",
            "2884/2884 [==============================] - 5s 2ms/step - loss: -223776.0000 - accuracy: 0.8866\n",
            "Epoch 27/100\n",
            "2884/2884 [==============================] - 7s 2ms/step - loss: -249010.0625 - accuracy: 0.8866\n",
            "Epoch 28/100\n",
            "2884/2884 [==============================] - 6s 2ms/step - loss: -276203.4375 - accuracy: 0.8866\n",
            "Epoch 29/100\n",
            "2884/2884 [==============================] - 6s 2ms/step - loss: -305321.4062 - accuracy: 0.8866\n",
            "Epoch 30/100\n",
            "2884/2884 [==============================] - 6s 2ms/step - loss: -336526.7500 - accuracy: 0.8866\n",
            "Epoch 31/100\n",
            "2884/2884 [==============================] - 6s 2ms/step - loss: -370046.7500 - accuracy: 0.8866\n",
            "Epoch 32/100\n",
            "2884/2884 [==============================] - 6s 2ms/step - loss: -405013.0000 - accuracy: 0.8866\n",
            "Epoch 33/100\n",
            "2884/2884 [==============================] - 6s 2ms/step - loss: -442118.7188 - accuracy: 0.8866\n",
            "Epoch 34/100\n",
            "2884/2884 [==============================] - 5s 2ms/step - loss: -481756.4375 - accuracy: 0.8866\n",
            "Epoch 35/100\n",
            "2884/2884 [==============================] - 5s 2ms/step - loss: -523906.6562 - accuracy: 0.8866\n",
            "Epoch 36/100\n",
            "2884/2884 [==============================] - 5s 2ms/step - loss: -568495.5625 - accuracy: 0.8866\n",
            "Epoch 37/100\n",
            "2884/2884 [==============================] - 6s 2ms/step - loss: -615347.3750 - accuracy: 0.8866\n",
            "Epoch 38/100\n",
            "2884/2884 [==============================] - 6s 2ms/step - loss: -664397.0000 - accuracy: 0.8866\n",
            "Epoch 39/100\n",
            "2884/2884 [==============================] - 6s 2ms/step - loss: -716097.2500 - accuracy: 0.8866\n",
            "Epoch 40/100\n",
            "2884/2884 [==============================] - 6s 2ms/step - loss: -770630.6875 - accuracy: 0.8866\n",
            "Epoch 41/100\n",
            "2884/2884 [==============================] - 6s 2ms/step - loss: -826885.6250 - accuracy: 0.8866\n",
            "Epoch 42/100\n",
            "2884/2884 [==============================] - 6s 2ms/step - loss: -885848.7500 - accuracy: 0.8866\n",
            "Epoch 43/100\n",
            "2884/2884 [==============================] - 10s 3ms/step - loss: -948049.6875 - accuracy: 0.8866\n",
            "Epoch 44/100\n",
            "2884/2884 [==============================] - 6s 2ms/step - loss: -1012667.0625 - accuracy: 0.8866\n",
            "Epoch 45/100\n",
            "2884/2884 [==============================] - 10s 4ms/step - loss: -1080494.8750 - accuracy: 0.8866\n",
            "Epoch 46/100\n",
            "2884/2884 [==============================] - 12s 4ms/step - loss: -1151717.1250 - accuracy: 0.8866\n",
            "Epoch 47/100\n",
            "2884/2884 [==============================] - 5s 2ms/step - loss: -1225914.7500 - accuracy: 0.8866\n",
            "Epoch 48/100\n",
            "2884/2884 [==============================] - 6s 2ms/step - loss: -1302654.6250 - accuracy: 0.8866\n",
            "Epoch 49/100\n",
            "2884/2884 [==============================] - 5s 2ms/step - loss: -1382425.2500 - accuracy: 0.8866\n",
            "Epoch 50/100\n",
            "2884/2884 [==============================] - 8s 3ms/step - loss: -1464754.5000 - accuracy: 0.8866\n",
            "Epoch 51/100\n",
            "2884/2884 [==============================] - 7s 2ms/step - loss: -1551777.5000 - accuracy: 0.8866\n",
            "Epoch 52/100\n",
            "2884/2884 [==============================] - 5s 2ms/step - loss: -1641595.2500 - accuracy: 0.8866\n",
            "Epoch 53/100\n",
            "2884/2884 [==============================] - 5s 2ms/step - loss: -1734159.8750 - accuracy: 0.8866\n",
            "Epoch 54/100\n",
            "2884/2884 [==============================] - 7s 3ms/step - loss: -1830598.2500 - accuracy: 0.8866\n",
            "Epoch 55/100\n",
            "2884/2884 [==============================] - 5s 2ms/step - loss: -1930439.8750 - accuracy: 0.8866\n",
            "Epoch 56/100\n",
            "2884/2884 [==============================] - 5s 2ms/step - loss: -2034427.3750 - accuracy: 0.8866\n",
            "Epoch 57/100\n",
            "2884/2884 [==============================] - 5s 2ms/step - loss: -2141581.0000 - accuracy: 0.8866\n",
            "Epoch 58/100\n",
            "2884/2884 [==============================] - 5s 2ms/step - loss: -2253010.7500 - accuracy: 0.8866\n",
            "Epoch 59/100\n",
            "2884/2884 [==============================] - 5s 2ms/step - loss: -2367918.2500 - accuracy: 0.8866\n",
            "Epoch 60/100\n",
            "2884/2884 [==============================] - 5s 2ms/step - loss: -2486712.0000 - accuracy: 0.8866\n",
            "Epoch 61/100\n",
            "2884/2884 [==============================] - 5s 2ms/step - loss: -2608229.0000 - accuracy: 0.8866\n",
            "Epoch 62/100\n",
            "2884/2884 [==============================] - 5s 2ms/step - loss: -2734331.7500 - accuracy: 0.8866\n",
            "Epoch 63/100\n",
            "2884/2884 [==============================] - 5s 2ms/step - loss: -2863637.2500 - accuracy: 0.8866\n",
            "Epoch 64/100\n",
            "2884/2884 [==============================] - 5s 2ms/step - loss: -2997080.0000 - accuracy: 0.8866\n",
            "Epoch 65/100\n",
            "2884/2884 [==============================] - 6s 2ms/step - loss: -3135784.7500 - accuracy: 0.8866\n",
            "Epoch 66/100\n",
            "2884/2884 [==============================] - 6s 2ms/step - loss: -3277855.0000 - accuracy: 0.8866\n",
            "Epoch 67/100\n",
            "2884/2884 [==============================] - 5s 2ms/step - loss: -3424540.2500 - accuracy: 0.8866\n",
            "Epoch 68/100\n",
            "2884/2884 [==============================] - 6s 2ms/step - loss: -3574962.5000 - accuracy: 0.8866\n",
            "Epoch 69/100\n",
            "2884/2884 [==============================] - 5s 2ms/step - loss: -3730469.2500 - accuracy: 0.8866\n",
            "Epoch 70/100\n",
            "2884/2884 [==============================] - 6s 2ms/step - loss: -3890290.0000 - accuracy: 0.8866\n",
            "Epoch 71/100\n",
            "2884/2884 [==============================] - 5s 2ms/step - loss: -4054859.5000 - accuracy: 0.8866\n",
            "Epoch 72/100\n",
            "2884/2884 [==============================] - 5s 2ms/step - loss: -4223917.5000 - accuracy: 0.8866\n",
            "Epoch 73/100\n",
            "2884/2884 [==============================] - 5s 2ms/step - loss: -4396143.5000 - accuracy: 0.8866\n",
            "Epoch 74/100\n",
            "2884/2884 [==============================] - 6s 2ms/step - loss: -4574610.0000 - accuracy: 0.8866\n",
            "Epoch 75/100\n",
            "2884/2884 [==============================] - 6s 2ms/step - loss: -4756720.5000 - accuracy: 0.8866\n",
            "Epoch 76/100\n",
            "2884/2884 [==============================] - 6s 2ms/step - loss: -4943293.5000 - accuracy: 0.8866\n",
            "Epoch 77/100\n",
            "2884/2884 [==============================] - 6s 2ms/step - loss: -5135025.5000 - accuracy: 0.8866\n",
            "Epoch 78/100\n",
            "2884/2884 [==============================] - 6s 2ms/step - loss: -5332348.5000 - accuracy: 0.8866\n",
            "Epoch 79/100\n",
            "2884/2884 [==============================] - 6s 2ms/step - loss: -5536787.5000 - accuracy: 0.8866\n",
            "Epoch 80/100\n",
            "2884/2884 [==============================] - 6s 2ms/step - loss: -5746058.0000 - accuracy: 0.8866\n",
            "Epoch 81/100\n",
            "2884/2884 [==============================] - 6s 2ms/step - loss: -5957551.5000 - accuracy: 0.8866\n",
            "Epoch 82/100\n",
            "2884/2884 [==============================] - 5s 2ms/step - loss: -6176681.0000 - accuracy: 0.8866\n",
            "Epoch 83/100\n",
            "2884/2884 [==============================] - 5s 2ms/step - loss: -6397315.0000 - accuracy: 0.8866\n",
            "Epoch 84/100\n",
            "2884/2884 [==============================] - 6s 2ms/step - loss: -6625965.0000 - accuracy: 0.8866\n",
            "Epoch 85/100\n",
            "2884/2884 [==============================] - 6s 2ms/step - loss: -6859399.5000 - accuracy: 0.8866\n",
            "Epoch 86/100\n",
            "2884/2884 [==============================] - 6s 2ms/step - loss: -7098229.0000 - accuracy: 0.8866\n",
            "Epoch 87/100\n",
            "2884/2884 [==============================] - 5s 2ms/step - loss: -7342553.0000 - accuracy: 0.8866\n",
            "Epoch 88/100\n",
            "2884/2884 [==============================] - 6s 2ms/step - loss: -7593807.0000 - accuracy: 0.8866\n",
            "Epoch 89/100\n",
            "2884/2884 [==============================] - 5s 2ms/step - loss: -7850380.0000 - accuracy: 0.8866\n",
            "Epoch 90/100\n",
            "2884/2884 [==============================] - 5s 2ms/step - loss: -8109255.0000 - accuracy: 0.8866\n",
            "Epoch 91/100\n",
            "2884/2884 [==============================] - 5s 2ms/step - loss: -8372943.0000 - accuracy: 0.8866\n",
            "Epoch 92/100\n",
            "2884/2884 [==============================] - 5s 2ms/step - loss: -8646683.0000 - accuracy: 0.8866\n",
            "Epoch 93/100\n",
            "2884/2884 [==============================] - 5s 2ms/step - loss: -8926361.0000 - accuracy: 0.8866\n",
            "Epoch 94/100\n",
            "2884/2884 [==============================] - 6s 2ms/step - loss: -9209302.0000 - accuracy: 0.8866\n",
            "Epoch 95/100\n",
            "2884/2884 [==============================] - 5s 2ms/step - loss: -9501605.0000 - accuracy: 0.8866\n",
            "Epoch 96/100\n",
            "2884/2884 [==============================] - 5s 2ms/step - loss: -9799754.0000 - accuracy: 0.8866\n",
            "Epoch 97/100\n",
            "2884/2884 [==============================] - 5s 2ms/step - loss: -10099953.0000 - accuracy: 0.8866\n",
            "Epoch 98/100\n",
            "2884/2884 [==============================] - 6s 2ms/step - loss: -10407712.0000 - accuracy: 0.8866\n",
            "Epoch 99/100\n",
            "2884/2884 [==============================] - 5s 2ms/step - loss: -10720566.0000 - accuracy: 0.8866\n",
            "Epoch 100/100\n",
            "2884/2884 [==============================] - 5s 2ms/step - loss: -11039701.0000 - accuracy: 0.8866\n",
            "901/901 [==============================] - 2s 2ms/step - loss: -11204865.0000 - accuracy: 0.8866\n"
          ]
        },
        {
          "output_type": "execute_result",
          "data": {
            "text/plain": [
              "[-11204865.0, 0.8865804076194763]"
            ]
          },
          "metadata": {},
          "execution_count": 29
        }
      ]
    },
    {
      "cell_type": "markdown",
      "source": [
        "Evaluate"
      ],
      "metadata": {
        "id": "CnaX-YUltrTI"
      }
    },
    {
      "cell_type": "code",
      "source": [
        "# Predict the output for our test dataset. \n",
        "# If the prediction is greater than 0.5 then the output is 1 else the output is 0\n",
        "y_pred=classifier.predict(X_test)\n",
        "y_pred =(y_pred>0.5)\n",
        "\n",
        "from sklearn.metrics import confusion_matrix\n",
        "cm = confusion_matrix(y_test, y_pred)\n",
        "print(cm)"
      ],
      "metadata": {
        "colab": {
          "base_uri": "https://localhost:8080/"
        },
        "id": "wQQMqgHTtI6o",
        "outputId": "07738ba6-826d-469a-c97b-9d6410c6dab4"
      },
      "execution_count": 30,
      "outputs": [
        {
          "output_type": "stream",
          "name": "stdout",
          "text": [
            "[[10987     0]\n",
            " [ 1370     0]]\n"
          ]
        }
      ]
    },
    {
      "cell_type": "markdown",
      "source": [
        "Visualizing Neural Networks"
      ],
      "metadata": {
        "id": "OfSVp2Mpt-Ga"
      }
    },
    {
      "cell_type": "code",
      "source": [
        "from IPython.display import SVG\n",
        "import tensorflow as tf\n",
        "from keras.utils.vis_utils import plot_model\n",
        "\n",
        "SVG(model_to_dot(classifier, show_shapes=True).create(prog=\"dot\", format=\"svg\"))"
      ],
      "metadata": {
        "colab": {
          "base_uri": "https://localhost:8080/",
          "height": 561
        },
        "id": "jWVFKJBMtv6Z",
        "outputId": "13c26ae7-ac17-4153-c350-05db59c38e83"
      },
      "execution_count": 39,
      "outputs": [
        {
          "output_type": "execute_result",
          "data": {
            "text/plain": [
              "<IPython.core.display.SVG object>"
            ],
            "image/svg+xml": "<svg height=\"405pt\" viewBox=\"0.00 0.00 336.00 304.00\" width=\"448pt\" xmlns=\"http://www.w3.org/2000/svg\" xmlns:xlink=\"http://www.w3.org/1999/xlink\">\n<g class=\"graph\" id=\"graph0\" transform=\"scale(1.3333 1.3333) rotate(0) translate(4 300)\">\n<title>G</title>\n<polygon fill=\"#ffffff\" points=\"-4,4 -4,-300 332,-300 332,4 -4,4\" stroke=\"transparent\"/>\n<!-- 140482878140368 -->\n<g class=\"node\" id=\"node1\">\n<title>140482878140368</title>\n<polygon fill=\"none\" points=\"0,-249.5 0,-295.5 328,-295.5 328,-249.5 0,-249.5\" stroke=\"#000000\"/>\n<text fill=\"#000000\" font-family=\"Times,serif\" font-size=\"14.00\" text-anchor=\"middle\" x=\"54.5\" y=\"-268.8\">dense_60_input</text>\n<polyline fill=\"none\" points=\"109,-249.5 109,-295.5 \" stroke=\"#000000\"/>\n<text fill=\"#000000\" font-family=\"Times,serif\" font-size=\"14.00\" text-anchor=\"middle\" x=\"149\" y=\"-268.8\">InputLayer</text>\n<polyline fill=\"none\" points=\"189,-249.5 189,-295.5 \" stroke=\"#000000\"/>\n<text fill=\"#000000\" font-family=\"Times,serif\" font-size=\"14.00\" text-anchor=\"middle\" x=\"218\" y=\"-280.3\">input:</text>\n<polyline fill=\"none\" points=\"189,-272.5 247,-272.5 \" stroke=\"#000000\"/>\n<text fill=\"#000000\" font-family=\"Times,serif\" font-size=\"14.00\" text-anchor=\"middle\" x=\"218\" y=\"-257.3\">output:</text>\n<polyline fill=\"none\" points=\"247,-249.5 247,-295.5 \" stroke=\"#000000\"/>\n<text fill=\"#000000\" font-family=\"Times,serif\" font-size=\"14.00\" text-anchor=\"middle\" x=\"287.5\" y=\"-280.3\">[(None, 8)]</text>\n<polyline fill=\"none\" points=\"247,-272.5 328,-272.5 \" stroke=\"#000000\"/>\n<text fill=\"#000000\" font-family=\"Times,serif\" font-size=\"14.00\" text-anchor=\"middle\" x=\"287.5\" y=\"-257.3\">[(None, 8)]</text>\n</g>\n<!-- 140482878566928 -->\n<g class=\"node\" id=\"node2\">\n<title>140482878566928</title>\n<polygon fill=\"none\" points=\"37.5,-166.5 37.5,-212.5 290.5,-212.5 290.5,-166.5 37.5,-166.5\" stroke=\"#000000\"/>\n<text fill=\"#000000\" font-family=\"Times,serif\" font-size=\"14.00\" text-anchor=\"middle\" x=\"73\" y=\"-185.8\">dense_60</text>\n<polyline fill=\"none\" points=\"108.5,-166.5 108.5,-212.5 \" stroke=\"#000000\"/>\n<text fill=\"#000000\" font-family=\"Times,serif\" font-size=\"14.00\" text-anchor=\"middle\" x=\"134.5\" y=\"-185.8\">Dense</text>\n<polyline fill=\"none\" points=\"160.5,-166.5 160.5,-212.5 \" stroke=\"#000000\"/>\n<text fill=\"#000000\" font-family=\"Times,serif\" font-size=\"14.00\" text-anchor=\"middle\" x=\"189.5\" y=\"-197.3\">input:</text>\n<polyline fill=\"none\" points=\"160.5,-189.5 218.5,-189.5 \" stroke=\"#000000\"/>\n<text fill=\"#000000\" font-family=\"Times,serif\" font-size=\"14.00\" text-anchor=\"middle\" x=\"189.5\" y=\"-174.3\">output:</text>\n<polyline fill=\"none\" points=\"218.5,-166.5 218.5,-212.5 \" stroke=\"#000000\"/>\n<text fill=\"#000000\" font-family=\"Times,serif\" font-size=\"14.00\" text-anchor=\"middle\" x=\"254.5\" y=\"-197.3\">(None, 8)</text>\n<polyline fill=\"none\" points=\"218.5,-189.5 290.5,-189.5 \" stroke=\"#000000\"/>\n<text fill=\"#000000\" font-family=\"Times,serif\" font-size=\"14.00\" text-anchor=\"middle\" x=\"254.5\" y=\"-174.3\">(None, 4)</text>\n</g>\n<!-- 140482878140368&#45;&gt;140482878566928 -->\n<g class=\"edge\" id=\"edge1\">\n<title>140482878140368-&gt;140482878566928</title>\n<path d=\"M164,-249.3799C164,-241.1745 164,-231.7679 164,-222.8786\" fill=\"none\" stroke=\"#000000\"/>\n<polygon fill=\"#000000\" points=\"167.5001,-222.784 164,-212.784 160.5001,-222.784 167.5001,-222.784\" stroke=\"#000000\"/>\n</g>\n<!-- 140482878567568 -->\n<g class=\"node\" id=\"node3\">\n<title>140482878567568</title>\n<polygon fill=\"none\" points=\"37.5,-83.5 37.5,-129.5 290.5,-129.5 290.5,-83.5 37.5,-83.5\" stroke=\"#000000\"/>\n<text fill=\"#000000\" font-family=\"Times,serif\" font-size=\"14.00\" text-anchor=\"middle\" x=\"73\" y=\"-102.8\">dense_61</text>\n<polyline fill=\"none\" points=\"108.5,-83.5 108.5,-129.5 \" stroke=\"#000000\"/>\n<text fill=\"#000000\" font-family=\"Times,serif\" font-size=\"14.00\" text-anchor=\"middle\" x=\"134.5\" y=\"-102.8\">Dense</text>\n<polyline fill=\"none\" points=\"160.5,-83.5 160.5,-129.5 \" stroke=\"#000000\"/>\n<text fill=\"#000000\" font-family=\"Times,serif\" font-size=\"14.00\" text-anchor=\"middle\" x=\"189.5\" y=\"-114.3\">input:</text>\n<polyline fill=\"none\" points=\"160.5,-106.5 218.5,-106.5 \" stroke=\"#000000\"/>\n<text fill=\"#000000\" font-family=\"Times,serif\" font-size=\"14.00\" text-anchor=\"middle\" x=\"189.5\" y=\"-91.3\">output:</text>\n<polyline fill=\"none\" points=\"218.5,-83.5 218.5,-129.5 \" stroke=\"#000000\"/>\n<text fill=\"#000000\" font-family=\"Times,serif\" font-size=\"14.00\" text-anchor=\"middle\" x=\"254.5\" y=\"-114.3\">(None, 4)</text>\n<polyline fill=\"none\" points=\"218.5,-106.5 290.5,-106.5 \" stroke=\"#000000\"/>\n<text fill=\"#000000\" font-family=\"Times,serif\" font-size=\"14.00\" text-anchor=\"middle\" x=\"254.5\" y=\"-91.3\">(None, 4)</text>\n</g>\n<!-- 140482878566928&#45;&gt;140482878567568 -->\n<g class=\"edge\" id=\"edge2\">\n<title>140482878566928-&gt;140482878567568</title>\n<path d=\"M164,-166.3799C164,-158.1745 164,-148.7679 164,-139.8786\" fill=\"none\" stroke=\"#000000\"/>\n<polygon fill=\"#000000\" points=\"167.5001,-139.784 164,-129.784 160.5001,-139.784 167.5001,-139.784\" stroke=\"#000000\"/>\n</g>\n<!-- 140482878498768 -->\n<g class=\"node\" id=\"node4\">\n<title>140482878498768</title>\n<polygon fill=\"none\" points=\"37.5,-.5 37.5,-46.5 290.5,-46.5 290.5,-.5 37.5,-.5\" stroke=\"#000000\"/>\n<text fill=\"#000000\" font-family=\"Times,serif\" font-size=\"14.00\" text-anchor=\"middle\" x=\"73\" y=\"-19.8\">dense_62</text>\n<polyline fill=\"none\" points=\"108.5,-.5 108.5,-46.5 \" stroke=\"#000000\"/>\n<text fill=\"#000000\" font-family=\"Times,serif\" font-size=\"14.00\" text-anchor=\"middle\" x=\"134.5\" y=\"-19.8\">Dense</text>\n<polyline fill=\"none\" points=\"160.5,-.5 160.5,-46.5 \" stroke=\"#000000\"/>\n<text fill=\"#000000\" font-family=\"Times,serif\" font-size=\"14.00\" text-anchor=\"middle\" x=\"189.5\" y=\"-31.3\">input:</text>\n<polyline fill=\"none\" points=\"160.5,-23.5 218.5,-23.5 \" stroke=\"#000000\"/>\n<text fill=\"#000000\" font-family=\"Times,serif\" font-size=\"14.00\" text-anchor=\"middle\" x=\"189.5\" y=\"-8.3\">output:</text>\n<polyline fill=\"none\" points=\"218.5,-.5 218.5,-46.5 \" stroke=\"#000000\"/>\n<text fill=\"#000000\" font-family=\"Times,serif\" font-size=\"14.00\" text-anchor=\"middle\" x=\"254.5\" y=\"-31.3\">(None, 4)</text>\n<polyline fill=\"none\" points=\"218.5,-23.5 290.5,-23.5 \" stroke=\"#000000\"/>\n<text fill=\"#000000\" font-family=\"Times,serif\" font-size=\"14.00\" text-anchor=\"middle\" x=\"254.5\" y=\"-8.3\">(None, 1)</text>\n</g>\n<!-- 140482878567568&#45;&gt;140482878498768 -->\n<g class=\"edge\" id=\"edge3\">\n<title>140482878567568-&gt;140482878498768</title>\n<path d=\"M164,-83.3799C164,-75.1745 164,-65.7679 164,-56.8786\" fill=\"none\" stroke=\"#000000\"/>\n<polygon fill=\"#000000\" points=\"167.5001,-56.784 164,-46.784 160.5001,-56.784 167.5001,-56.784\" stroke=\"#000000\"/>\n</g>\n</g>\n</svg>"
          },
          "metadata": {},
          "execution_count": 39
        }
      ]
    }
  ]
}