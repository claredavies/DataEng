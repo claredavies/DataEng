{
  "nbformat": 4,
  "nbformat_minor": 0,
  "metadata": {
    "colab": {
      "name": "DataEngDemoWinterSchool2022.ipynb",
      "provenance": [],
      "collapsed_sections": [
        "p0HCb5_9e3pb"
      ],
      "authorship_tag": "ABX9TyNQdyVqJhadaAZtqEcBn5zI",
      "include_colab_link": true
    },
    "kernelspec": {
      "name": "python3",
      "display_name": "Python 3"
    },
    "language_info": {
      "name": "python"
    }
  },
  "cells": [
    {
      "cell_type": "markdown",
      "metadata": {
        "id": "view-in-github",
        "colab_type": "text"
      },
      "source": [
        "<a href=\"https://colab.research.google.com/github/claredavies/DataEngAPITesting/blob/master/ParseTestsAndAnalyse/DataEngDemoWinterSchool2022.ipynb\" target=\"_parent\"><img src=\"https://colab.research.google.com/assets/colab-badge.svg\" alt=\"Open In Colab\"/></a>"
      ]
    },
    {
      "cell_type": "markdown",
      "source": [
        "# Classes Needed"
      ],
      "metadata": {
        "id": "sa_PBOOqbJhb"
      }
    },
    {
      "cell_type": "code",
      "source": [
        "class TestCase:\n",
        "    def __init__(self, request_type=None, request_uri=None, request_body=None, response_code=None,\n",
        "                 response_time_microseconds=None):\n",
        "        self.request_type = request_type\n",
        "        self.request_uri = request_uri\n",
        "        self.request_body = request_body\n",
        "        self.response_code = response_code\n",
        "        self.response_time_microseconds = response_time_microseconds\n",
        "\n",
        "    def _set_request_type(self, request_type):\n",
        "        self._request_type = request_type\n",
        "\n",
        "    def _set_request_uri(self, request_uri):\n",
        "        self._request_uri = request_uri\n",
        "\n",
        "    def _set_request_body(self, request_body):\n",
        "        self._request_body = request_body\n",
        "\n",
        "    def _set_response_code(self, response_code):\n",
        "        self._response_code = response_code\n",
        "\n",
        "    def _set_response_time_microseconds(self, response_time_microseconds):\n",
        "        self._response_time_microseconds = response_time_microseconds"
      ],
      "metadata": {
        "id": "C-YHixzfYWCN"
      },
      "execution_count": 1,
      "outputs": []
    },
    {
      "cell_type": "code",
      "source": [
        "class TestRequest:\n",
        "    def __init__(self, request_type='', request_uri='', request_body='', request_time=''):\n",
        "        self.request_type = request_type\n",
        "        self.request_uri = request_uri\n",
        "        self.request_body = request_body\n",
        "        self.request_time = request_time\n",
        "\n",
        "    def _set_request_type(self, request_type):\n",
        "        self._request_type = request_type\n",
        "\n",
        "    def _set_request_uri(self, request_uri):\n",
        "        self._request_uri = request_uri\n",
        "\n",
        "    def _set_request_body(self, request_body):\n",
        "        self._request_body = request_body\n",
        "\n",
        "    def _set_request_time(self, request_time):\n",
        "        self._request_time = request_time"
      ],
      "metadata": {
        "id": "B-6LPI05YdwV"
      },
      "execution_count": 2,
      "outputs": []
    },
    {
      "cell_type": "code",
      "source": [
        "class TestResponse:\n",
        "    def __init__(self, response_code='', response_time=''):\n",
        "        self.response_code = response_code\n",
        "        self.response_time = response_time\n",
        "\n",
        "    def _set_response_code(self, response_code):\n",
        "        self._response_code = response_code\n",
        "\n",
        "    def _set_response_time(self, response_time):\n",
        "        self._response_time = response_time"
      ],
      "metadata": {
        "id": "cq4qS-nIYiKs"
      },
      "execution_count": 3,
      "outputs": []
    },
    {
      "cell_type": "markdown",
      "source": [
        "# Parsing Restler File"
      ],
      "metadata": {
        "id": "4CTovecObQZp"
      }
    },
    {
      "cell_type": "code",
      "execution_count": 4,
      "metadata": {
        "colab": {
          "base_uri": "https://localhost:8080/"
        },
        "id": "N_FomMGtYHAO",
        "outputId": "4adaa369-8599-4361-b76b-a46c6f582d23"
      },
      "outputs": [
        {
          "output_type": "stream",
          "name": "stdout",
          "text": [
            "Handling invalid request:  \n",
            "\n",
            "Handling invalid request:  \n",
            "\n",
            "Handling invalid request:  \n",
            "\n",
            "Handling invalid request:  \n",
            "\n",
            "Handling invalid request:  \n",
            "\n",
            "Handling invalid request:  \n",
            "\n",
            "Handling invalid request:  \n",
            "\n",
            "Handling invalid request:  \n",
            "\n",
            "Handling invalid request:  \n",
            "\n",
            "Handling invalid request:  \n",
            "\n",
            "Handling invalid request:  \n",
            "\n",
            "Handling invalid request:  \n",
            "\n",
            "Handling invalid request:  \n",
            "\n",
            "Handling invalid request:  \n",
            "\n",
            "Handling invalid request:  \n",
            "\n",
            "Handling invalid request:  \n",
            "\n",
            "Handling invalid request:  \n",
            "\n",
            "Handling invalid request:  \n",
            "\n",
            "Handling invalid request:  \n",
            "\n",
            "Handling invalid request:  \n",
            "\n",
            "Handling invalid request:  \n",
            "\n",
            "Handling invalid request:  \n",
            "\n",
            "Handling invalid request:  \n",
            "\n",
            "Handling invalid request:  \n",
            "\n",
            "Handling invalid request:  \n",
            "\n",
            "Handling invalid request:  \n",
            "\n",
            "Handling invalid request:  \n",
            "\n",
            "Handling invalid request:  \n",
            "\n",
            "Handling invalid request:  \n",
            "\n",
            "Handling invalid request:  \n",
            "\n",
            "Handling invalid request:  \n",
            "\n",
            "Handling invalid request:  \n",
            "\n",
            "Handling invalid request:  \n",
            "\n",
            "Handling invalid request:  \n",
            "\n",
            "Handling invalid request:  \n",
            "\n",
            "Handling invalid request:  \n",
            "\n",
            "Handling invalid request:  \n",
            "\n",
            "Handling invalid request:  \n",
            "\n",
            "Handling invalid request:  \n",
            "\n",
            "Handling invalid request:  \n",
            "\n",
            "Handling invalid request:  \n",
            "\n",
            "Handling invalid request:  \n",
            "\n",
            "Handling invalid request:  \n",
            "\n",
            "Handling invalid request:  \n",
            "\n",
            "Handling invalid request:  \n",
            "\n",
            "Handling invalid request:  \n",
            "\n",
            "  request_type request_uri  ... response_code response_time_microseconds\n",
            "0          GET  /petclinic  ...           302                      16000\n",
            "1         HEAD  /petclinic  ...           302                      23000\n",
            "2         POST  /petclinic  ...           302                      16000\n",
            "3          PUT  /petclinic  ...           302                          0\n",
            "4       DELETE  /petclinic  ...           302                      15000\n",
            "\n",
            "[5 rows x 5 columns]\n"
          ]
        }
      ],
      "source": [
        "import os\n",
        "from datetime import datetime\n",
        "import pandas as pd\n",
        "\n",
        "list_test_cases = []\n",
        "\n",
        "# Method which extracts the request_type, request_uri, request_body & request_time (stored as TestRequest object)\n",
        "def extract_sending_request_info(current_line):\n",
        "    found = current_line.rstrip()\n",
        "    splitted = found.split()\n",
        "    time_sent = splitted[1]\n",
        "    time_sent = time_sent[:-1]\n",
        "    body = ''\n",
        "    try:\n",
        "        request_type = splitted[3]\n",
        "        request_type = request_type[1:]\n",
        "        request_uri = splitted[4]\n",
        "        # There is a body if 'application/json\\\\r\\\\nContent-Length' is contained in the line found and contains { & }\n",
        "        if 'application/json\\\\r\\\\nContent-Length' in current_line:\n",
        "            found = found.replace(request_uri, '')\n",
        "            first = found.find(\"{\")\n",
        "            second = current_line.rfind(\"}\")\n",
        "            if first != -1 and second != -1:\n",
        "                # if here contains 'application/json\\\\r\\\\nContent-Length', { & } (has request body)\n",
        "                body = found[(first - 1) + 1:second]\n",
        "                # Remove un-needed \\n,\\r and ' from body\n",
        "                body = body.replace(\"\\\\n\", \"\")\n",
        "                body = body.replace(\"\\\\r\", \"\")\n",
        "                body = body.replace(\"'\", \"\")\n",
        "        # Store info extracted as TestRequest Object\n",
        "        current_test_request = TestRequest()\n",
        "        current_test_request.request_type = request_type\n",
        "        current_test_request.request_uri = request_uri\n",
        "        current_test_request.request_body = body\n",
        "        current_test_request.request_time = time_sent\n",
        "        return current_test_request\n",
        "    # Line to handle certain cases where line contains sending but not an actual request\n",
        "    except IndexError:\n",
        "        print(\"Handling invalid request:  \\n\")\n",
        "        return None\n",
        "\n",
        "# Method which extracts the response code and response time (stored as TestResponse object)\n",
        "def extract_response_request_info(current_line):\n",
        "    found = current_line.rstrip()\n",
        "    splitted = found.split()\n",
        "    response_code = splitted[4]\n",
        "    response_time = splitted[1]\n",
        "    response_time = response_time[:-1]\n",
        "    current_test_response = TestResponse()\n",
        "    current_test_response.response_code = response_code\n",
        "    current_test_response.response_time = response_time\n",
        "    return current_test_response\n",
        "\n",
        "# Method which converts the date text to needed datetime format and then calculates time\n",
        "# between when request sent and received in microseconds\n",
        "def get_reponse_time_microseconds(request_time_sent, response_time_received):\n",
        "    time_received = datetime.strptime(response_time_received, '%H:%M:%S.%f')\n",
        "    time_sent = datetime.strptime(request_time_sent, '%H:%M:%S.%f')\n",
        "    response_time = time_received - time_sent\n",
        "    return response_time.microseconds\n",
        "\n",
        "# Main function which reads in restler_output.txt file and extracts the test case (request_type, request_uri, request_body, response_code and\n",
        "# response_time_microseconds)\n",
        "\n",
        "def main():\n",
        "    # Reading in file\n",
        "    abs_file_path = \"restler_output.txt\"\n",
        "\n",
        "    with open(abs_file_path, \"r\") as fp:\n",
        "        test_request = TestRequest()\n",
        "        test_response = TestResponse()\n",
        "        for line in fp:\n",
        "            # Extracting sent part of request\n",
        "            if \"Sending\" in line:\n",
        "                test_request = extract_sending_request_info(line)\n",
        "            # Extracting received part of request (following line)\n",
        "            if \"Received\" in line:\n",
        "                test_response = extract_response_request_info(line)\n",
        "                # Getting time between sent and received request\n",
        "                time_microsecond = get_reponse_time_microseconds(test_request.request_time, test_response.response_time)\n",
        "                test_case = TestCase(test_request.request_type, test_request.request_uri, test_request.request_body,\n",
        "                                     test_response.response_code, time_microsecond)\n",
        "                # Adding to list of test cases\n",
        "                list_test_cases.append(test_case)\n",
        "\n",
        "    # Storing list as dataframe (easy to view info and export to CSV)\n",
        "    df = pd.DataFrame([t.__dict__ for t in list_test_cases])\n",
        "    print(df.head())\n",
        "    # script_dir = os.path.dirname(__file__)\n",
        "    rel_path = \"test_cases_produced_restler.csv\"\n",
        "    # abs_file_path_csv = os.path.join(script_dir, rel_path)\n",
        "    df.to_csv(rel_path)\n",
        "\n",
        "\n",
        "if __name__ == \"__main__\":\n",
        "    main()"
      ]
    },
    {
      "cell_type": "markdown",
      "source": [
        "# Parsing Generative File"
      ],
      "metadata": {
        "id": "p0HCb5_9e3pb"
      }
    },
    {
      "cell_type": "code",
      "source": [
        "import os\n",
        "import pandas as pd\n",
        "import requests\n",
        "\n",
        "list_test_requests = []\n",
        "\n",
        "rel_path_generative_model_cases = \"generative_model_test_cases_produced.txt\"\n",
        "\n",
        "# opening the file in read mode\n",
        "file = open(rel_path_generative_model_cases, \"r\")\n",
        "for line in file:\n",
        "    if line != \"\\n\":\n",
        "        found = line.rstrip()\n",
        "        splitted = found.split()\n",
        "        try:\n",
        "            request_type = splitted[1]\n",
        "            uri = splitted[2]\n",
        "            body = ''\n",
        "            first = found.find(\"{\")\n",
        "            second = line.rfind(\"}\")\n",
        "            if first != -1 and second != -1:\n",
        "                body = found[(first - 1) + 1:(second+1)]\n",
        "                body = body.replace(\" \", \"\")\n",
        "            test_request = TestRequest(request_type, uri, body, 0)\n",
        "            # Adding to list of test cases\n",
        "            list_test_requests.append(test_request)\n",
        "        except IndexError:\n",
        "            print(\"handling non-valid line\")\n",
        "\n",
        "\n",
        "df_test_request = pd.DataFrame([t.__dict__ for t in list_test_requests])\n",
        "print(df_test_request[\"request_body\"].head())\n",
        "\n",
        "list_test_cases = []\n",
        "uri = \"http://localhost:9966\"\n",
        "for index, row in df_test_request.iterrows():\n",
        "    api_url = uri + row['request_uri']\n",
        "    request_type = row['request_type']\n",
        "    response = ''\n",
        "    if request_type == 'GET':\n",
        "        response = requests.get(api_url,row['request_body'])\n",
        "    elif request_type == 'PUT':\n",
        "        response = requests.put(api_url, row['request_body'])\n",
        "    elif request_type == 'POST':\n",
        "        response = requests.post(api_url, row['request_body'])\n",
        "    elif request_type == 'DELETE':\n",
        "        response = requests.delete(api_url)\n",
        "    elif request_type == 'HEAD':\n",
        "        response = requests.head(api_url)\n",
        "    try:\n",
        "        response_code = response.status_code\n",
        "        time_microseconds = response.elapsed.total_seconds()*1000000\n",
        "\n",
        "        test_case = TestCase(request_type, row['request_uri'], row['request_body'],\n",
        "                             response_code, time_microseconds)\n",
        "        list_test_cases.append(test_case)\n",
        "    except AttributeError:\n",
        "        print(response)\n",
        "\n",
        "\n",
        "df_test_cases = pd.DataFrame([t.__dict__ for t in list_test_cases])\n",
        "\n",
        "script_dir = os.path.dirname(__file__)\n",
        "rel_path = \"parsed_requests_generative_model_produced.csv\"\n",
        "abs_file_path_csv = os.path.join(script_dir, rel_path)\n",
        "df_test_cases.to_csv(abs_file_path_csv)"
      ],
      "metadata": {
        "id": "AE1P4CKCg-Ot"
      },
      "execution_count": null,
      "outputs": []
    },
    {
      "cell_type": "markdown",
      "source": [
        "# Analyse Results"
      ],
      "metadata": {
        "id": "CGF_VlDshOKD"
      }
    },
    {
      "cell_type": "code",
      "source": [
        "from os import path\n",
        "import pandas as pd\n",
        "import numpy as np\n",
        "import matplotlib.pyplot as plt\n",
        "\n",
        "\n",
        "def add_general_uri_column(test_dataframe, restAPIs):\n",
        "    general_request_uri = []\n",
        "    for index, row in test_dataframe.iterrows():\n",
        "        found = False\n",
        "        if row['request_uri'] == '/petclinic/':\n",
        "            general_request_uri.append('/petclinic/')\n",
        "            found = True\n",
        "        if row['request_uri'] == '/petclinic':\n",
        "            general_request_uri.append('/petclinic')\n",
        "            found = True\n",
        "        if row['request_uri'] == '/petclinic/api/':\n",
        "            general_request_uri.append('/petclinic/api/')\n",
        "            found = True\n",
        "        if row['request_uri'] == '/':\n",
        "            general_request_uri.append('/')\n",
        "            found = True\n",
        "        if row['request_uri'] == '/pet':\n",
        "            general_request_uri.append('/pet')\n",
        "            found = True\n",
        "        if row['request_uri'] == '/petcl':\n",
        "            general_request_uri.append('/petcl')\n",
        "            found = True\n",
        "        if row['request_uri'] == '/petclinic/api/special':\n",
        "            general_request_uri.append('/petcl')\n",
        "            found = True\n",
        "        if not found:\n",
        "            for uri in restAPIs:\n",
        "                if uri in row['request_uri']:\n",
        "                    general_request_uri.append(uri)\n",
        "                    found = True\n",
        "                    pass\n",
        "        if found == False:\n",
        "            print(\"row not found :\" + row['request_uri'])\n",
        "\n",
        "    test_dataframe['general_request_uri'] = general_request_uri\n",
        "\n",
        "\n",
        "\n",
        "# Reading in file\n",
        "abs_file_path_restler_test_cases = \"test_cases_produced_restler.csv\"\n",
        "abs_file_path_generative_test_cases = \"parsed_requests_generative_model_produced.csv\"\n",
        "\n",
        "df_restler_test_cases = pd.read_csv(abs_file_path_restler_test_cases)\n",
        "df_generative_test_cases = pd.read_csv(abs_file_path_generative_test_cases)\n",
        "\n",
        "restAPIs = ['/petclinic/actuator', '/petclinic/error', '/petclinic/api/pets', '/petclinic/api/pettypes',\n",
        "            '/petclinic/api/owners', '/petclinic/api/specialties', '/petclinic/api/users', '/petclinic/api/vets',\n",
        "            '/petclinic/api/visits', '/petclinic/health', '/petclinic/api/petid']\n",
        "\n",
        "add_general_uri_column(df_restler_test_cases, restAPIs)\n",
        "add_general_uri_column(df_generative_test_cases, restAPIs)\n",
        "\n",
        "# Number of request by type for each endpoint\n",
        "request_type_count_restler = df_restler_test_cases.groupby(\n",
        "    ['general_request_uri', 'request_type']).size().reset_index(\n",
        "    name='request_type_count')\n",
        "request_type_count_restler = pd.DataFrame(request_type_count_restler)\n",
        "request_type_count_generative = df_generative_test_cases.groupby(\n",
        "    ['general_request_uri', 'request_type']).size().reset_index(\n",
        "    name='request_type_count')\n",
        "request_type_count_generative = pd.DataFrame(request_type_count_generative)\n",
        "\n",
        "# Number of request by type for each endpoint\n",
        "response_code_count_restler = df_restler_test_cases.groupby(\n",
        "    ['general_request_uri', 'response_code']).size().reset_index(\n",
        "    name='response_code_count')\n",
        "response_code_count_restler = pd.DataFrame(response_code_count_restler)\n",
        "response_code_count_generative = df_generative_test_cases.groupby(\n",
        "    ['general_request_uri', 'response_code']).size().reset_index(\n",
        "    name='response_code_count')\n",
        "response_code_count_generative = pd.DataFrame(response_code_count_generative)\n",
        "\n",
        "# Need to combine into 1 table where see for each endpoint the types of requests and responses\n",
        "df_general_request_request_type_response_type_restler = pd.merge(request_type_count_restler,\n",
        "                                                                  response_code_count_restler)\n",
        "rel_path_restler_test_cases = \"test_cases_analysis_restler.csv\"\n",
        "df_general_request_request_type_response_type_restler.to_csv(rel_path_restler_test_cases)\n",
        "\n",
        "df_general_request_request_type_response_type_generative = pd.merge(request_type_count_generative,\n",
        "                                                                    response_code_count_generative)\n",
        "rel_path_generative_test_cases = \"test_cases_analysis_generative.csv\"\n",
        "df_general_request_request_type_response_type_generative.to_csv(rel_path_generative_test_cases)"
      ],
      "metadata": {
        "id": "dr61ZmaJfFn9"
      },
      "execution_count": 5,
      "outputs": []
    },
    {
      "cell_type": "markdown",
      "source": [
        "Restler Analysis"
      ],
      "metadata": {
        "id": "TGTj3B1WiBfs"
      }
    },
    {
      "cell_type": "code",
      "source": [
        "total_time_to_run_restler_seconds = 3600\n",
        "total_number_test_cases_restler = len(df_restler_test_cases.index)\n",
        "print(\"Total number of test cases restler:   \" + str(total_number_test_cases_restler))\n",
        "df_restler_unique = df_restler_test_cases.drop_duplicates(subset=['request_uri', 'request_type', 'request_body'])\n",
        "total_number_unique_test_cases_restler = len(df_restler_unique.index)\n",
        "print(\"Total unique test cases restler:   \" + str(total_number_unique_test_cases_restler))\n",
        "print(\"Counts for response codes restler: \")\n",
        "print(pd.value_counts(df_restler_test_cases['response_code']))\n",
        "print(\"Average response time restler:  \" + str(\n",
        "    (sum(df_restler_test_cases['response_time_microseconds']) / total_number_test_cases_restler) / 1000000))\n",
        "print(\"Uniqueness % (Number of unique tests / Total tests generated) restler:  \" + str(\n",
        "    (total_number_unique_test_cases_restler / total_number_test_cases_restler) * 100))\n",
        "print(\"Number of tests run per second (Number of tests run / Total time) restler:  \" + str(\n",
        "    total_number_test_cases_restler / total_time_to_run_restler_seconds))"
      ],
      "metadata": {
        "colab": {
          "base_uri": "https://localhost:8080/"
        },
        "id": "jPg0a0i-h1DR",
        "outputId": "54f0115b-0543-43ac-f0b5-9d5d1dc8cbe9"
      },
      "execution_count": 6,
      "outputs": [
        {
          "output_type": "stream",
          "name": "stdout",
          "text": [
            "Total number of test cases restler:   45099\n",
            "Total unique test cases restler:   713\n",
            "Counts for response codes restler: \n",
            "200    40322\n",
            "201     2395\n",
            "400     1006\n",
            "404      770\n",
            "204      444\n",
            "302       84\n",
            "500       78\n",
            "Name: response_code, dtype: int64\n",
            "Average response time restler:  0.013478214594558637\n",
            "Uniqueness % (Number of unique tests / Total tests generated) restler:  1.5809663185436484\n",
            "Number of tests run per second (Number of tests run / Total time) restler:  12.5275\n"
          ]
        }
      ]
    },
    {
      "cell_type": "markdown",
      "source": [
        "Generative Analysis"
      ],
      "metadata": {
        "id": "eEw2kjpbiD30"
      }
    },
    {
      "cell_type": "code",
      "source": [
        "total_number_test_cases_generative_model = len(df_generative_test_cases.index)\n",
        "print(\"Total number of test cases generative model:   \" + str(total_number_test_cases_generative_model))\n",
        "df_generative_unique = df_generative_test_cases.drop_duplicates(subset=['request_uri', 'request_type', 'request_body'])\n",
        "total_number_unique_test_cases_generative = len(df_generative_unique.index)\n",
        "print(\"Total unique test cases generative model:   \" + str(total_number_unique_test_cases_generative))\n",
        "print(\"Counts for response codes generative model: \")\n",
        "print(pd.value_counts(df_generative_test_cases['response_code']))\n",
        "print(\"Average response time generative model:  \" + str((sum(\n",
        "    df_generative_test_cases['response_time_microseconds']) / total_number_test_cases_generative_model) / 1000000))\n",
        "print(\"Uniqueness % (Number of unique tests / Total tests generated) generative model:  \" + str(\n",
        "    (total_number_unique_test_cases_generative / total_number_test_cases_generative_model) * 100))"
      ],
      "metadata": {
        "colab": {
          "base_uri": "https://localhost:8080/"
        },
        "id": "VKJyajuQh-6i",
        "outputId": "b850e930-381b-420c-b311-6ebf21176a00"
      },
      "execution_count": 7,
      "outputs": [
        {
          "output_type": "stream",
          "name": "stdout",
          "text": [
            "Total number of test cases generative model:   2365\n",
            "Total unique test cases generative model:   787\n",
            "Counts for response codes generative model: \n",
            "400    1871\n",
            "200     252\n",
            "404     168\n",
            "500      72\n",
            "204       2\n",
            "Name: response_code, dtype: int64\n",
            "Average response time generative model:  0.007061792389006342\n",
            "Uniqueness % (Number of unique tests / Total tests generated) generative model:  33.276955602537\n"
          ]
        }
      ]
    },
    {
      "cell_type": "markdown",
      "source": [
        "Comparison Plots"
      ],
      "metadata": {
        "id": "RX94UR61iOEc"
      }
    },
    {
      "cell_type": "code",
      "source": [
        "plt.subplot(1, 3, 1)\n",
        "ax1 = pd.value_counts(df_restler_test_cases['general_request_uri']).plot.bar()\n",
        "plt.subplot(1, 3, 3)\n",
        "ax2 = pd.value_counts(df_generative_test_cases['general_request_uri']).plot.bar()\n",
        "\n",
        "ax1.title.set_text('General Request Count Restler')\n",
        "ax2.title.set_text('General Request Count Generative')"
      ],
      "metadata": {
        "colab": {
          "base_uri": "https://localhost:8080/",
          "height": 392
        },
        "id": "Jy9Z4lbNnvuP",
        "outputId": "f96e7590-b286-47e1-bc47-9f92897631b3"
      },
      "execution_count": null,
      "outputs": [
        {
          "output_type": "display_data",
          "data": {
            "image/png": "[encoded data removed]",
            "text/plain": [
              "<Figure size 432x288 with 2 Axes>"
            ]
          },
          "metadata": {
            "needs_background": "light"
          }
        }
      ]
    },
    {
      "cell_type": "code",
      "source": [
        "plt.subplot(1, 3, 1)\n",
        "ax3 = pd.value_counts(df_restler_test_cases['response_code']).plot.bar()\n",
        "plt.subplot(1, 3, 3)\n",
        "ax4 = pd.value_counts(df_generative_test_cases['response_code']).plot.bar()\n",
        "\n",
        "ax3.title.set_text('Response Code Count Restler')\n",
        "ax4.title.set_text('Response Code Count Generative')"
      ],
      "metadata": {
        "colab": {
          "base_uri": "https://localhost:8080/",
          "height": 290
        },
        "id": "wSpTG7xwqmJM",
        "outputId": "4e197973-fdba-444d-a547-dc80444cfa87"
      },
      "execution_count": null,
      "outputs": [
        {
          "output_type": "display_data",
          "data": {
            "image/png": "[encoded data removed]",
            "text/plain": [
              "<Figure size 432x288 with 2 Axes>"
            ]
          },
          "metadata": {
            "needs_background": "light"
          }
        }
      ]
    },
    {
      "cell_type": "code",
      "source": [
        "plt.subplot(1, 3, 1)\n",
        "ax5 = pd.value_counts(df_restler_test_cases['request_type']).plot.bar()\n",
        "plt.subplot(1, 3, 3)\n",
        "ax6 = pd.value_counts(df_generative_test_cases['request_type']).plot.bar()\n",
        "\n",
        "ax5.title.set_text('Request Type Count Restler')\n",
        "ax6.title.set_text('Request Type Count Generative')"
      ],
      "metadata": {
        "colab": {
          "base_uri": "https://localhost:8080/",
          "height": 315
        },
        "id": "A4Brfv0wiL3i",
        "outputId": "80a9bf5e-e2d7-40ef-ecf0-421d55bce74d"
      },
      "execution_count": null,
      "outputs": [
        {
          "output_type": "display_data",
          "data": {
            "image/png": "[encoded data removed]",
            "text/plain": [
              "<Figure size 432x288 with 2 Axes>"
            ]
          },
          "metadata": {
            "needs_background": "light"
          }
        }
      ]
    }
  ]
}