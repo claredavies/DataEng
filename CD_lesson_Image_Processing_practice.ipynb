{
  "nbformat": 4,
  "nbformat_minor": 0,
  "metadata": {
    "colab": {
      "provenance": [],
      "collapsed_sections": [],
      "include_colab_link": true
    },
    "kernelspec": {
      "name": "python3",
      "display_name": "Python 3"
    },
    "language_info": {
      "name": "python"
    }
  },
  "cells": [
    {
      "cell_type": "markdown",
      "metadata": {
        "id": "view-in-github",
        "colab_type": "text"
      },
      "source": [
        "<a href=\"https://colab.research.google.com/github/claredavies/DataEngAPITesting/blob/master/CD_lesson_Image_Processing_practice.ipynb\" target=\"_parent\"><img src=\"https://colab.research.google.com/assets/colab-badge.svg\" alt=\"Open In Colab\"/></a>"
      ]
    },
    {
      "cell_type": "code",
      "source": [
        "!git clone https://github.com/PBibiloni/11761.git"
      ],
      "metadata": {
        "colab": {
          "base_uri": "https://localhost:8080/"
        },
        "id": "mQMyacHtLAKU",
        "outputId": "dfede94a-22f7-460e-b42c-757f0add5868"
      },
      "execution_count": 1,
      "outputs": [
        {
          "output_type": "stream",
          "name": "stdout",
          "text": [
            "Cloning into '11761'...\n",
            "remote: Enumerating objects: 92, done.\u001b[K\n",
            "remote: Counting objects: 100% (92/92), done.\u001b[K\n",
            "remote: Compressing objects: 100% (51/51), done.\u001b[K\n",
            "remote: Total 92 (delta 46), reused 83 (delta 37), pack-reused 0\u001b[K\n",
            "Unpacking objects: 100% (92/92), done.\n"
          ]
        }
      ]
    },
    {
      "cell_type": "markdown",
      "source": [
        "# Lesson 1"
      ],
      "metadata": {
        "id": "VyK9MHgbsZkl"
      }
    },
    {
      "cell_type": "code",
      "source": [
        "!cd 11761 && git checkout lesson01"
      ],
      "metadata": {
        "colab": {
          "base_uri": "https://localhost:8080/"
        },
        "id": "S5by9OGisqL1",
        "outputId": "838d7612-c91e-49e3-d135-6fb543a22d93"
      },
      "execution_count": 11,
      "outputs": [
        {
          "output_type": "stream",
          "name": "stdout",
          "text": [
            "Switched to branch 'lesson01'\n",
            "Your branch is up to date with 'origin/lesson01'.\n"
          ]
        }
      ]
    },
    {
      "cell_type": "markdown",
      "source": [
        "Introduction"
      ],
      "metadata": {
        "id": "2082IoKYwT1c"
      }
    },
    {
      "cell_type": "code",
      "source": [
        "import time\n",
        "\n",
        "import cv2\n",
        "from matplotlib import pyplot as plt\n",
        "from google.colab.patches import cv2_imshow\n",
        "\n",
        "# 1) Load the `mandril` image with OpenCV (see `cv2.imread(...)`)\n",
        "img = cv2.imread('11761/samples/mandril.tiff')\n",
        "\n",
        "# 2) Find dtype, size (in pixels), and number of channels of the image (see `[img].dtype` and `[img].shape`)\n",
        "print(f'Loaded image: dtype (data type)={img.dtype}')\n",
        "\n",
        "# get dimensions of image\n",
        "dimensions = img.shape\n",
        " \n",
        "# height, width, number of channels in image\n",
        "height = img.shape[0]\n",
        "width = img.shape[1]\n",
        "channels = img.shape[2]\n",
        "\n",
        "print(f'Loaded image: dimensions={dimensions} .')\n",
        "print(f'Loaded image: height={height} px')\n",
        "print(f'Loaded image: width={width} px')\n",
        "print(f'Loaded image: channels={channels}')\n",
        "print(f'Loaded image: size={height} x {width} px')\n",
        "\n",
        "\n",
        "# 3) Transform from BGR to RGB and Grayscale (see `cv2.cvtColor(...)`, `cv2.COLOR_BGR2RGB`, `cv2.COLOR_BGR2GRAY`)\n",
        "\n",
        "\n",
        "# 4) Visualize with OpenCV (see `cv2.imshow(...)`, `cv2.waitKey(...)` and `cv2.destroyAllWindows(...)`)\n",
        "\n",
        "\n",
        "# 5) Visualize with Matplotlib (see `plt.imshow(...)` and `plt.show()`)\n",
        "\n",
        "\n",
        "# 6) Load video from file, and display it using OpenCV (see `cv2.VideoCapture(...)`)\n",
        "\n",
        "\n",
        "# 7) If available, load video from webcam, and display it using OpenCV (use `cv2.VideoCapture(0)`)"
      ],
      "metadata": {
        "colab": {
          "base_uri": "https://localhost:8080/"
        },
        "id": "-QkltJ4nssxs",
        "outputId": "c79c3953-32ce-422d-f070-cadf6766ae9b"
      },
      "execution_count": 32,
      "outputs": [
        {
          "output_type": "stream",
          "name": "stdout",
          "text": [
            "Loaded image: dtype (data type)=uint8\n",
            "Loaded image: dimensions=(512, 512, 3) .\n",
            "Loaded image: height=512 px\n",
            "Loaded image: width=512 px\n",
            "Loaded image: channels=3\n",
            "Loaded image: size=512 x 512 px\n"
          ]
        }
      ]
    },
    {
      "cell_type": "markdown",
      "source": [
        "# Lesson 2"
      ],
      "metadata": {
        "id": "i0hRiU5UsjUE"
      }
    },
    {
      "cell_type": "code",
      "source": [
        "!cd 11761 && git checkout lesson02"
      ],
      "metadata": {
        "colab": {
          "base_uri": "https://localhost:8080/"
        },
        "id": "PmpzSBhVQp9W",
        "outputId": "01a47379-ef42-48aa-87c1-9f2193f2c56d"
      },
      "execution_count": 12,
      "outputs": [
        {
          "output_type": "stream",
          "name": "stdout",
          "text": [
            "Switched to branch 'lesson02'\n",
            "Your branch is up to date with 'origin/lesson02'.\n"
          ]
        }
      ]
    },
    {
      "cell_type": "markdown",
      "source": [
        "Noise"
      ],
      "metadata": {
        "id": "0PkwjVzoRvcy"
      }
    },
    {
      "cell_type": "code",
      "source": [
        "!pwd\n",
        "!ls"
      ],
      "metadata": {
        "colab": {
          "base_uri": "https://localhost:8080/"
        },
        "id": "X6zk0UeoSb5b",
        "outputId": "79850215-430f-490b-d1cb-b1d19c69fa5c"
      },
      "execution_count": 14,
      "outputs": [
        {
          "output_type": "stream",
          "name": "stdout",
          "text": [
            "/content\n",
            "11761  sample_data\n"
          ]
        }
      ]
    },
    {
      "cell_type": "markdown",
      "source": [
        "Task 1 -Noise"
      ],
      "metadata": {
        "id": "TokmOhQ_S43p"
      }
    },
    {
      "cell_type": "code",
      "source": [
        "import cv2\n",
        "import numpy as np\n",
        "from matplotlib import pyplot as plt\n",
        "\n",
        "\n",
        "def additive_white_gaussian_noise(image: np.ndarray, std: float) -> np.ndarray:\n",
        "    \"\"\"Adds additive white Gaussian noise to an image.\"\"\"\n",
        "    # YOUR CODE HERE: see `np.random.normal(...)`\n",
        "    # ...\n",
        "\n",
        "\n",
        "def uniform_multiplicative_noise(image: np.ndarray, a: float, b: float) -> np.ndarray:\n",
        "    \"\"\"Adds uniform multiplicative noise to an image.\"\"\"\n",
        "    # YOUR CODE HERE: see `np.random.uniform(...)`\n",
        "    # ...\n",
        "\n",
        "\n",
        "def salt_and_pepper_noise(image: np.ndarray, p: float) -> np.ndarray:\n",
        "    \"\"\"Adds salt and pepper noise to an image.\"\"\"\n",
        "    # YOUR CODE HERE: see `np.random.uniform(...)` and `np.random.choice(...)`\n",
        "    # ...\n",
        "\n",
        "\n",
        "def shot_noise(image: np.ndarray) -> np.ndarray:\n",
        "    \"\"\"Add shot noise to an image.\"\"\"\n",
        "    # YOUR CODE HERE: see `np.random.poisson(...)`\n",
        "    # ...\n",
        "\n",
        "\n",
        "if __name__ == '__main__':\n",
        "    # Show effect on boat image.\n",
        "    img = cv2.imread('11761/samples/boat.tiff', cv2.IMREAD_GRAYSCALE)  # Read the image.\n",
        "    # img = np.float32(img) / 255\n",
        "    img = img.astype('float32')  # Convert to float32 to avoid overflow and rounding errors\n",
        "    results = {\n",
        "        'img': img,\n",
        "        'AWGN': additive_white_gaussian_noise(img, std=10.0),\n",
        "        'uniform_multiplicative': uniform_multiplicative_noise(img, a=0.7, b=1.3),\n",
        "        'salt_and_pepper': salt_and_pepper_noise(img, p=0.20),\n",
        "        'shot_noise': shot_noise(img),\n",
        "    }\n",
        "    results = {k: v for k, v in results.items() if v is not None}  # Remove None values.\n",
        "\n",
        "    # Visualize images\n",
        "    fig, axs = plt.subplots(2, 3)\n",
        "    # Remove default axis\n",
        "    for ax in axs.flatten():\n",
        "        ax.axis('off')\n",
        "    # Show one image per subplot\n",
        "    for ax, (title, img) in zip(axs.flatten(), results.items()):\n",
        "        ax.set_title(title)\n",
        "        ax.imshow(img, cmap='gray')\n",
        "    # Display figure\n",
        "    plt.show()"
      ],
      "metadata": {
        "colab": {
          "base_uri": "https://localhost:8080/",
          "height": 264
        },
        "id": "NESfwlvVRudb",
        "outputId": "0a431de0-f6ed-41a6-8958-104bc533c4e7"
      },
      "execution_count": 15,
      "outputs": [
        {
          "output_type": "display_data",
          "data": {
            "text/plain": [
              "<Figure size 432x288 with 6 Axes>"
            ],
            "image/png": "[encoded data removed]"
          },
          "metadata": {
            "needs_background": "light"
          }
        }
      ]
    },
    {
      "cell_type": "markdown",
      "source": [
        "**Task 2- Convolution**\n"
      ],
      "metadata": {
        "id": "A4JRTALlVNDo"
      }
    },
    {
      "cell_type": "code",
      "source": [
        "import numpy as np\n",
        "import cv2\n",
        "from matplotlib import pyplot as plt\n",
        "\n",
        "\n",
        "def convolution(image: np.ndarray, kernel: np.ndarray) -> np.ndarray:\n",
        "    \"\"\"Sequence of limits of each bin (e.g. [0.0, 85.0, 170.0, 255.0] for 3 bins).\"\"\"\n",
        "    # YOUR CODE HERE\n",
        "    # ...\n",
        "    img_sz_x, img_sz_y = image.shape\n",
        "    krn_sz_x, krn_sz_y = kernel.shape\n",
        "    out_sz_x = img_sz_x - krn_sz_x + 1  # Why?\n",
        "    out_sz_y = img_sz_y - krn_sz_y + 1  # Why?\n",
        "    out = np.zeros(shape=(out_sz_x, out_sz_y), dtype=image.dtype)\n",
        "    for i in range(out_sz_x):\n",
        "        for j in range(out_sz_y):\n",
        "            # YOUR CODE HERE\n",
        "            # ...\n",
        "    return out\n",
        "\n",
        "\n",
        "if __name__ == '__main__':\n",
        "    # Show effect on subset of boat image.\n",
        "    img = cv2.imread('11761/samples/boat.tiff', cv2.IMREAD_GRAYSCALE)  # Read the image.\n",
        "    img = img.astype('float32')     # Convert to float32 to avoid overflow and rounding errors\n",
        "    img = img[150:200, 150:200]     # Select a small window\n",
        "\n",
        "    kernels = {\n",
        "        'identity': np.array([[0, 0, 0], [0, 1, 0], [0, 0, 0]]),\n",
        "        'shift_left': np.array([[0, 0, 0], [1, 0, 0], [0, 0, 0]]),\n",
        "        'smooth': np.array([[1, 1, 1], [1, 1, 1], [1, 1, 1]]) / 9,\n",
        "        'sharpen': np.array([[-1, -1, -1], [-1, 17, -1], [-1, -1, -1]]) / 9,\n",
        "    }\n",
        "    results = {\n",
        "        name: convolution(img, kernel)\n",
        "        for name, kernel in kernels.items()\n",
        "    }\n",
        "    results = {k: v for k, v in results.items() if v is not None}  # Remove None values.\n",
        "\n",
        "    # Visualize images\n",
        "    fig, axs = plt.subplots(2, 2)\n",
        "    # Remove default axis\n",
        "    for ax in axs.flatten():\n",
        "        ax.axis('off')\n",
        "    # Show one image per subplot\n",
        "    for ax, (title, img) in zip(axs.flatten(), results.items()):\n",
        "        ax.set_title(title)\n",
        "        ax.imshow(img, cmap='gray')\n",
        "    # Display figure\n",
        "    plt.show()"
      ],
      "metadata": {
        "colab": {
          "base_uri": "https://localhost:8080/",
          "height": 131
        },
        "id": "YEjTiei-VFoY",
        "outputId": "6d6f9510-e777-4305-ac0c-73a1f41ed4ac"
      },
      "execution_count": 16,
      "outputs": [
        {
          "output_type": "error",
          "ename": "IndentationError",
          "evalue": "ignored",
          "traceback": [
            "\u001b[0;36m  File \u001b[0;32m\"<ipython-input-16-ab89d735e524>\"\u001b[0;36m, line \u001b[0;32m19\u001b[0m\n\u001b[0;31m    return out\u001b[0m\n\u001b[0m    ^\u001b[0m\n\u001b[0;31mIndentationError\u001b[0m\u001b[0;31m:\u001b[0m expected an indented block\n"
          ]
        }
      ]
    },
    {
      "cell_type": "markdown",
      "source": [
        "Task 3 - filters"
      ],
      "metadata": {
        "id": "0lZbCC76f7lp"
      }
    },
    {
      "cell_type": "code",
      "source": [
        "from typing import Tuple\n",
        "\n",
        "import cv2\n",
        "import numpy as np\n",
        "from matplotlib import pyplot as plt\n",
        "\n",
        "\n",
        "def kernel_squared_mean_filter(size: Tuple[int, int]) -> np.ndarray:\n",
        "    \"\"\"Returns a kernel the of given size for the mean filter.\"\"\"\n",
        "    # YOUR CODE HERE: see `np.ones(...)`\n",
        "    # ...\n",
        "    return np.ones(shape=size, dtype=np.float32) / np.prod(size)\n",
        "\n",
        "\n",
        "def kernel_gaussian_filter(size: Tuple[int, int], sigma: float) -> np.ndarray:\n",
        "    \"\"\"Returns a kernel of the given size for the Gaussian filter.\"\"\"\n",
        "    # YOUR CODE HERE: see `np.exp(...)`\n",
        "    # ...\n",
        "    kernel = np.zeros(shape=size, dtype=np.float32)\n",
        "    gaussian = np.exp((-1/2)*((x+y)/sigma)*\n",
        "    gaussian = np.exp(-((i-size[0]//2)**2 + (j-size[1]//2)**2)/(2*sigma**2))\n",
        "\n",
        "\n",
        "def kernel_sharpening(kernel_smoothing: np.ndarray, alpha: float) -> np.ndarray:\n",
        "    \"\"\"Returns a kernel for sharpening the image.\"\"\"\n",
        "    # YOUR CODE HERE: see `np.zeros(...)` and `np.zeros_like(...)`\n",
        "    # ...\n",
        "\n",
        "\n",
        "def kernel_horizontal_derivative() -> np.ndarray:\n",
        "    \"\"\"Returns a 3x1 kernel for the horizontal derivative using first order central difference coefficients. \"\"\"\n",
        "    # YOUR CODE HERE\n",
        "    # ...\n",
        "\n",
        "\n",
        "def kernel_vertical_derivative() -> np.ndarray:\n",
        "    \"\"\"Returns a 1x3 kernel for the vertical derivative using first order central difference coefficients. \"\"\"\n",
        "    # YOUR CODE HERE: see `np.transpose(...)`\n",
        "    # ...\n",
        "\n",
        "\n",
        "def kernel_sobel_horizontal() -> np.ndarray:\n",
        "    \"\"\"Returns the sobel operator for horizontal derivatives. \"\"\"\n",
        "    # YOUR CODE HERE\n",
        "    # ...\n",
        "\n",
        "\n",
        "def kernel_sobel_vertical() -> np.ndarray:\n",
        "    \"\"\"Returns the sobel operator for vertical derivatives. \"\"\"\n",
        "    # YOUR CODE HERE: see `np.transpose(...)`\n",
        "    # ...\n",
        "\n",
        "\n",
        "def kernel_LoG_filter() -> np.ndarray:\n",
        "    \"\"\"Returns a 3x3 kernel for the Laplacian of Gaussian filter.\"\"\"\n",
        "    # YOUR CODE HERE\n",
        "    # ...\n",
        "\n",
        "\n",
        "if __name__ == '__main__':\n",
        "    # Show effect on subset of boat image.\n",
        "    img = cv2.imread('samples/boat.tiff', cv2.IMREAD_GRAYSCALE)  # Read the image.\n",
        "    img = img.astype('float32')     # Convert to float32 to avoid overflow and rounding errors\n",
        "    img = img[150:200, 150:200]     # Select a small window\n",
        "\n",
        "    kernels = {\n",
        "        'kernel_squared_mean_filter': kernel_squared_mean_filter(size=(3, 3)),\n",
        "        'kernel_gaussian_filter': kernel_gaussian_filter(size=(3, 3), sigma=10.0),\n",
        "        'kernel_sharpening': kernel_sharpening(kernel_squared_mean_filter(size=(3, 3)), alpha=2),\n",
        "        'kernel_horizontal_derivative': kernel_horizontal_derivative(),\n",
        "        'kernel_vertical_derivative': kernel_vertical_derivative(),\n",
        "        'kernel_sobel_horizontal': kernel_sobel_horizontal(),\n",
        "        'kernel_sobel_vertical': kernel_sobel_vertical(),\n",
        "        'kernel_LoG_filter': kernel_LoG_filter(),\n",
        "    }\n",
        "    kernels = {k: v for k, v in kernels.items() if v is not None}  # Remove None values.\n",
        "\n",
        "    for name, kernel in kernels.items():\n",
        "        output = cv2.filter2D(src=img, ddepth=-1, kernel=kernel)\n",
        "        # Visualize images\n",
        "        fig, axs = plt.subplots(1, 2)\n",
        "        axs[0].set_title(name)\n",
        "        im = axs[0].imshow(kernel, cmap='gray')\n",
        "        plt.colorbar(im, ax=axs[0])\n",
        "        axs[1].imshow(output, cmap='gray')  # ddpeth=-1 means same as input\n",
        "        # Display figure\n",
        "        plt.show()"
      ],
      "metadata": {
        "colab": {
          "base_uri": "https://localhost:8080/",
          "height": 131
        },
        "id": "VIp3tiMxf5G7",
        "outputId": "e3fc4788-258f-4484-c390-8be0f89e77eb"
      },
      "execution_count": 17,
      "outputs": [
        {
          "output_type": "error",
          "ename": "SyntaxError",
          "evalue": "ignored",
          "traceback": [
            "\u001b[0;36m  File \u001b[0;32m\"<ipython-input-17-f83d0967b6e1>\"\u001b[0;36m, line \u001b[0;32m24\u001b[0m\n\u001b[0;31m    def kernel_sharpening(kernel_smoothing: np.ndarray, alpha: float) -> np.ndarray:\u001b[0m\n\u001b[0m      ^\u001b[0m\n\u001b[0;31mSyntaxError\u001b[0m\u001b[0;31m:\u001b[0m invalid syntax\n"
          ]
        }
      ]
    }
  ]
}