{
  "nbformat": 4,
  "nbformat_minor": 0,
  "metadata": {
    "colab": {
      "name": "Monitor_Latency_StatusCode_Supervised_KNN.ipynb",
      "provenance": [],
      "collapsed_sections": [
        "cnktYU80qXau",
        "xMnu0bg92kJE",
        "YBPU66OljaeE",
        "bXi1W3TST8Cw"
      ],
      "include_colab_link": true
    },
    "kernelspec": {
      "name": "python3",
      "display_name": "Python 3"
    },
    "language_info": {
      "name": "python"
    }
  },
  "cells": [
    {
      "cell_type": "markdown",
      "metadata": {
        "id": "view-in-github",
        "colab_type": "text"
      },
      "source": [
        "<a href=\"https://colab.research.google.com/github/claredavies/DataEngAPITesting/blob/master/AnamolyDetection/HTTP_Response/Supervised/Monitor_Latency_StatusCode_Supervised_KNN.ipynb\" target=\"_parent\"><img src=\"https://colab.research.google.com/assets/colab-badge.svg\" alt=\"Open In Colab\"/></a>"
      ]
    },
    {
      "cell_type": "markdown",
      "source": [
        "# Import libraries"
      ],
      "metadata": {
        "id": "cnktYU80qXau"
      }
    },
    {
      "cell_type": "code",
      "source": [
        "import pandas as pd\n",
        "from sklearn.neighbors import LocalOutlierFactor\n",
        "import matplotlib.pyplot as plt\n",
        "import numpy as np\n",
        "import seaborn as sns\n",
        "from sklearn.metrics import confusion_matrix\n",
        "!pip install pyod\n",
        "\n",
        "from pandas import read_csv\n",
        "from pandas.plotting import scatter_matrix\n",
        "from matplotlib import pyplot\n",
        "from sklearn.model_selection import train_test_split\n",
        "from sklearn.model_selection import cross_val_score\n",
        "from sklearn.model_selection import StratifiedKFold\n",
        "from sklearn.metrics import classification_report\n",
        "from sklearn.metrics import confusion_matrix\n",
        "from sklearn.metrics import accuracy_score\n",
        "from sklearn.linear_model import LogisticRegression\n",
        "from sklearn.tree import DecisionTreeClassifier\n",
        "from sklearn.neighbors import KNeighborsClassifier\n",
        "from sklearn.discriminant_analysis import LinearDiscriminantAnalysis\n",
        "from sklearn.naive_bayes import GaussianNB\n",
        "from sklearn.svm import SVC\n",
        "\n",
        "from sklearn.metrics import precision_score, recall_score, accuracy_score, f1_score, average_precision_score, roc_auc_score\n",
        "\n",
        "from pyod.models.mad import MAD\n",
        "from pyod.models.knn import KNN\n",
        "from pyod.models.lof import LOF"
      ],
      "metadata": {
        "id": "iJ3dnA3WMZ5R",
        "colab": {
          "base_uri": "https://localhost:8080/"
        },
        "outputId": "b3a20d31-4aff-40eb-d871-50b66561e0ee"
      },
      "execution_count": 63,
      "outputs": [
        {
          "output_type": "stream",
          "name": "stdout",
          "text": [
            "Requirement already satisfied: pyod in /usr/local/lib/python3.7/dist-packages (0.9.8)\n",
            "Requirement already satisfied: joblib in /usr/local/lib/python3.7/dist-packages (from pyod) (1.1.0)\n",
            "Requirement already satisfied: numpy>=1.13 in /usr/local/lib/python3.7/dist-packages (from pyod) (1.21.5)\n",
            "Requirement already satisfied: matplotlib in /usr/local/lib/python3.7/dist-packages (from pyod) (3.2.2)\n",
            "Requirement already satisfied: numba>=0.35 in /usr/local/lib/python3.7/dist-packages (from pyod) (0.51.2)\n",
            "Requirement already satisfied: scipy>=1.3.1 in /usr/local/lib/python3.7/dist-packages (from pyod) (1.4.1)\n",
            "Requirement already satisfied: scikit-learn>=0.20.0 in /usr/local/lib/python3.7/dist-packages (from pyod) (1.0.2)\n",
            "Requirement already satisfied: statsmodels in /usr/local/lib/python3.7/dist-packages (from pyod) (0.10.2)\n",
            "Requirement already satisfied: six in /usr/local/lib/python3.7/dist-packages (from pyod) (1.15.0)\n",
            "Requirement already satisfied: setuptools in /usr/local/lib/python3.7/dist-packages (from numba>=0.35->pyod) (57.4.0)\n",
            "Requirement already satisfied: llvmlite<0.35,>=0.34.0.dev0 in /usr/local/lib/python3.7/dist-packages (from numba>=0.35->pyod) (0.34.0)\n",
            "Requirement already satisfied: threadpoolctl>=2.0.0 in /usr/local/lib/python3.7/dist-packages (from scikit-learn>=0.20.0->pyod) (3.1.0)\n",
            "Requirement already satisfied: kiwisolver>=1.0.1 in /usr/local/lib/python3.7/dist-packages (from matplotlib->pyod) (1.4.0)\n",
            "Requirement already satisfied: python-dateutil>=2.1 in /usr/local/lib/python3.7/dist-packages (from matplotlib->pyod) (2.8.2)\n",
            "Requirement already satisfied: pyparsing!=2.0.4,!=2.1.2,!=2.1.6,>=2.0.1 in /usr/local/lib/python3.7/dist-packages (from matplotlib->pyod) (3.0.7)\n",
            "Requirement already satisfied: cycler>=0.10 in /usr/local/lib/python3.7/dist-packages (from matplotlib->pyod) (0.11.0)\n",
            "Requirement already satisfied: typing-extensions in /usr/local/lib/python3.7/dist-packages (from kiwisolver>=1.0.1->matplotlib->pyod) (3.10.0.2)\n",
            "Requirement already satisfied: patsy>=0.4.0 in /usr/local/lib/python3.7/dist-packages (from statsmodels->pyod) (0.5.2)\n",
            "Requirement already satisfied: pandas>=0.19 in /usr/local/lib/python3.7/dist-packages (from statsmodels->pyod) (1.3.5)\n",
            "Requirement already satisfied: pytz>=2017.3 in /usr/local/lib/python3.7/dist-packages (from pandas>=0.19->statsmodels->pyod) (2018.9)\n"
          ]
        }
      ]
    },
    {
      "cell_type": "markdown",
      "source": [
        "# Read in data"
      ],
      "metadata": {
        "id": "DuL0zY4sqYJJ"
      }
    },
    {
      "cell_type": "code",
      "source": [
        "train = pd.read_csv(\"train.csv\")\n",
        "print(train.head())"
      ],
      "metadata": {
        "colab": {
          "base_uri": "https://localhost:8080/"
        },
        "id": "XZF5lZMRrwHx",
        "outputId": "c2f32b21-ef52-4554-8957-3b7a339f21c2"
      },
      "execution_count": 96,
      "outputs": [
        {
          "output_type": "stream",
          "name": "stdout",
          "text": [
            "       Time Method  Code  Delay  Y\n",
            "0  11:00:00    GET   200  15000  1\n",
            "1  11:00:01   POST   201  15000  1\n",
            "2  11:00:02   POST   201  16000  1\n",
            "3  11:00:03    GET   200  16000  1\n",
            "4  11:00:04    GET   200  18000  1\n"
          ]
        }
      ]
    },
    {
      "cell_type": "code",
      "source": [
        "print(train['Code'].unique())"
      ],
      "metadata": {
        "colab": {
          "base_uri": "https://localhost:8080/"
        },
        "id": "osQT7qhGr7NS",
        "outputId": "2572ddc6-5e35-4eee-f328-d13cb05600c0"
      },
      "execution_count": 97,
      "outputs": [
        {
          "output_type": "stream",
          "name": "stdout",
          "text": [
            "[200 201 404 302 204 400 500]\n"
          ]
        }
      ]
    },
    {
      "cell_type": "markdown",
      "source": [
        "# Data Processing"
      ],
      "metadata": {
        "id": "N1P-n1TMqjja"
      }
    },
    {
      "cell_type": "code",
      "source": [
        "train['Code'].value_counts()"
      ],
      "metadata": {
        "colab": {
          "base_uri": "https://localhost:8080/"
        },
        "id": "DMGTcMErsDCS",
        "outputId": "10a0d167-8ffd-469d-f6e4-37f3068bda83"
      },
      "execution_count": 98,
      "outputs": [
        {
          "output_type": "execute_result",
          "data": {
            "text/plain": [
              "200    22514\n",
              "201     1497\n",
              "400      590\n",
              "404      484\n",
              "204      278\n",
              "302       46\n",
              "500       43\n",
              "Name: Code, dtype: int64"
            ]
          },
          "metadata": {},
          "execution_count": 98
        }
      ]
    },
    {
      "cell_type": "code",
      "source": [
        "one_hot_encoded_train = pd.get_dummies(train, columns = ['Code'])\n",
        "print(one_hot_encoded_train)"
      ],
      "metadata": {
        "colab": {
          "base_uri": "https://localhost:8080/"
        },
        "id": "gnadUxK_sK-L",
        "outputId": "85770408-555e-4c7d-f483-8a9f76939696"
      },
      "execution_count": 99,
      "outputs": [
        {
          "output_type": "stream",
          "name": "stdout",
          "text": [
            "           Time Method  Delay  Y  Code_200  Code_201  Code_204  Code_302  \\\n",
            "0      11:00:00    GET  15000  1         1         0         0         0   \n",
            "1      11:00:01   POST  15000  1         0         1         0         0   \n",
            "2      11:00:02   POST  16000  1         0         1         0         0   \n",
            "3      11:00:03    GET  16000  1         1         0         0         0   \n",
            "4      11:00:04    GET  18000  1         1         0         0         0   \n",
            "...         ...    ...    ... ..       ...       ...       ...       ...   \n",
            "25447  18:03:23    GET  15000  1         1         0         0         0   \n",
            "25448  18:03:24    GET  16000  1         1         0         0         0   \n",
            "25449  18:03:25    GET  15000  1         1         0         0         0   \n",
            "25450  18:03:26    GET  16000  1         1         0         0         0   \n",
            "25451  18:03:27    GET  15000  1         1         0         0         0   \n",
            "\n",
            "       Code_400  Code_404  Code_500  \n",
            "0             0         0         0  \n",
            "1             0         0         0  \n",
            "2             0         0         0  \n",
            "3             0         0         0  \n",
            "4             0         0         0  \n",
            "...         ...       ...       ...  \n",
            "25447         0         0         0  \n",
            "25448         0         0         0  \n",
            "25449         0         0         0  \n",
            "25450         0         0         0  \n",
            "25451         0         0         0  \n",
            "\n",
            "[25452 rows x 11 columns]\n"
          ]
        }
      ]
    },
    {
      "cell_type": "code",
      "source": [
        "one_hot_encoded_train = pd.get_dummies(one_hot_encoded_train, columns = ['Method'])"
      ],
      "metadata": {
        "id": "eQJEe8ScDtRe"
      },
      "execution_count": 100,
      "outputs": []
    },
    {
      "cell_type": "code",
      "source": [
        "train = one_hot_encoded_train.drop('Time', 1)"
      ],
      "metadata": {
        "id": "Jv3mtp_9sYNt",
        "colab": {
          "base_uri": "https://localhost:8080/"
        },
        "outputId": "f0508d16-9297-456f-fab8-1800f9b6b1b8"
      },
      "execution_count": 101,
      "outputs": [
        {
          "output_type": "stream",
          "name": "stderr",
          "text": [
            "/usr/local/lib/python3.7/dist-packages/ipykernel_launcher.py:1: FutureWarning: In a future version of pandas all arguments of DataFrame.drop except for the argument 'labels' will be keyword-only\n",
            "  \"\"\"Entry point for launching an IPython kernel.\n"
          ]
        }
      ]
    },
    {
      "cell_type": "code",
      "source": [
        "print(train.head)"
      ],
      "metadata": {
        "colab": {
          "base_uri": "https://localhost:8080/"
        },
        "id": "Ij6VZWtOMiK7",
        "outputId": "bb76c425-e416-4757-9881-8e40eadef7d7"
      },
      "execution_count": 102,
      "outputs": [
        {
          "output_type": "stream",
          "name": "stdout",
          "text": [
            "<bound method NDFrame.head of        Delay  Y  Code_200  Code_201  Code_204  Code_302  Code_400  Code_404  \\\n",
            "0      15000  1         1         0         0         0         0         0   \n",
            "1      15000  1         0         1         0         0         0         0   \n",
            "2      16000  1         0         1         0         0         0         0   \n",
            "3      16000  1         1         0         0         0         0         0   \n",
            "4      18000  1         1         0         0         0         0         0   \n",
            "...      ... ..       ...       ...       ...       ...       ...       ...   \n",
            "25447  15000  1         1         0         0         0         0         0   \n",
            "25448  16000  1         1         0         0         0         0         0   \n",
            "25449  15000  1         1         0         0         0         0         0   \n",
            "25450  16000  1         1         0         0         0         0         0   \n",
            "25451  15000  1         1         0         0         0         0         0   \n",
            "\n",
            "       Code_500  Method_DELETE  Method_GET  Method_HEAD  Method_OPTIONS  \\\n",
            "0             0              0           1            0               0   \n",
            "1             0              0           0            0               0   \n",
            "2             0              0           0            0               0   \n",
            "3             0              0           1            0               0   \n",
            "4             0              0           1            0               0   \n",
            "...         ...            ...         ...          ...             ...   \n",
            "25447         0              0           1            0               0   \n",
            "25448         0              0           1            0               0   \n",
            "25449         0              0           1            0               0   \n",
            "25450         0              0           1            0               0   \n",
            "25451         0              0           1            0               0   \n",
            "\n",
            "       Method_PATCH  Method_POST  Method_PUT  \n",
            "0                 0            0           0  \n",
            "1                 0            1           0  \n",
            "2                 0            1           0  \n",
            "3                 0            0           0  \n",
            "4                 0            0           0  \n",
            "...             ...          ...         ...  \n",
            "25447             0            0           0  \n",
            "25448             0            0           0  \n",
            "25449             0            0           0  \n",
            "25450             0            0           0  \n",
            "25451             0            0           0  \n",
            "\n",
            "[25452 rows x 16 columns]>\n"
          ]
        }
      ]
    },
    {
      "cell_type": "code",
      "source": [
        "y_train=train[[\"Y\"]]\n",
        "X_train=train.drop(\"Y\", 1)"
      ],
      "metadata": {
        "id": "5cRN0VN2MXfS",
        "colab": {
          "base_uri": "https://localhost:8080/"
        },
        "outputId": "af499fd5-02d3-4be7-98d3-71f4ce367d49"
      },
      "execution_count": 103,
      "outputs": [
        {
          "output_type": "stream",
          "name": "stderr",
          "text": [
            "/usr/local/lib/python3.7/dist-packages/ipykernel_launcher.py:2: FutureWarning: In a future version of pandas all arguments of DataFrame.drop except for the argument 'labels' will be keyword-only\n",
            "  \n"
          ]
        }
      ]
    },
    {
      "cell_type": "code",
      "source": [
        "test = pd.read_csv(\"test.csv\")\n",
        "one_hot_encoded_test = pd.get_dummies(test, columns = ['Code'])\n",
        "one_hot_encoded_test = pd.get_dummies(one_hot_encoded_test, columns = ['Method'])\n",
        "test = one_hot_encoded_test.drop('Time', 1)"
      ],
      "metadata": {
        "id": "GBF1UlMhh1sR",
        "colab": {
          "base_uri": "https://localhost:8080/"
        },
        "outputId": "ed14ea5a-53bd-4c75-92de-9241e70da2d3"
      },
      "execution_count": 104,
      "outputs": [
        {
          "output_type": "stream",
          "name": "stderr",
          "text": [
            "/usr/local/lib/python3.7/dist-packages/ipykernel_launcher.py:4: FutureWarning: In a future version of pandas all arguments of DataFrame.drop except for the argument 'labels' will be keyword-only\n",
            "  after removing the cwd from sys.path.\n"
          ]
        }
      ]
    },
    {
      "cell_type": "code",
      "source": [
        "y_test=test[[\"Y\"]]\n",
        "X_test=test.drop(\"Y\", 1)"
      ],
      "metadata": {
        "id": "3au1n5vBj0ts",
        "colab": {
          "base_uri": "https://localhost:8080/"
        },
        "outputId": "71e73e00-b917-41dd-896e-1eba856022f6"
      },
      "execution_count": 105,
      "outputs": [
        {
          "output_type": "stream",
          "name": "stderr",
          "text": [
            "/usr/local/lib/python3.7/dist-packages/ipykernel_launcher.py:2: FutureWarning: In a future version of pandas all arguments of DataFrame.drop except for the argument 'labels' will be keyword-only\n",
            "  \n"
          ]
        }
      ]
    },
    {
      "cell_type": "code",
      "source": [
        "print(y_train.head())\n",
        "print(X_train.head())"
      ],
      "metadata": {
        "colab": {
          "base_uri": "https://localhost:8080/"
        },
        "id": "Kn3eku7-yGt8",
        "outputId": "0e0435fa-fa75-4756-9b9a-ecd4f3fa7b8c"
      },
      "execution_count": 106,
      "outputs": [
        {
          "output_type": "stream",
          "name": "stdout",
          "text": [
            "   Y\n",
            "0  1\n",
            "1  1\n",
            "2  1\n",
            "3  1\n",
            "4  1\n",
            "   Delay  Code_200  Code_201  Code_204  Code_302  Code_400  Code_404  \\\n",
            "0  15000         1         0         0         0         0         0   \n",
            "1  15000         0         1         0         0         0         0   \n",
            "2  16000         0         1         0         0         0         0   \n",
            "3  16000         1         0         0         0         0         0   \n",
            "4  18000         1         0         0         0         0         0   \n",
            "\n",
            "   Code_500  Method_DELETE  Method_GET  Method_HEAD  Method_OPTIONS  \\\n",
            "0         0              0           1            0               0   \n",
            "1         0              0           0            0               0   \n",
            "2         0              0           0            0               0   \n",
            "3         0              0           1            0               0   \n",
            "4         0              0           1            0               0   \n",
            "\n",
            "   Method_PATCH  Method_POST  Method_PUT  \n",
            "0             0            0           0  \n",
            "1             0            1           0  \n",
            "2             0            1           0  \n",
            "3             0            0           0  \n",
            "4             0            0           0  \n"
          ]
        }
      ]
    },
    {
      "cell_type": "code",
      "source": [
        "y_train.loc[y_train[\"Y\"] == -1, \"Y\"] = 0\n",
        "y_test.loc[y_test[\"Y\"] == -1, \"Y\"] = 0"
      ],
      "metadata": {
        "colab": {
          "base_uri": "https://localhost:8080/"
        },
        "id": "ztYUinsHiAVJ",
        "outputId": "e3bdf63b-827d-40af-dc5f-5dc964def11a"
      },
      "execution_count": 107,
      "outputs": [
        {
          "output_type": "stream",
          "name": "stderr",
          "text": [
            "/usr/local/lib/python3.7/dist-packages/pandas/core/indexing.py:1732: SettingWithCopyWarning: \n",
            "A value is trying to be set on a copy of a slice from a DataFrame\n",
            "\n",
            "See the caveats in the documentation: https://pandas.pydata.org/pandas-docs/stable/user_guide/indexing.html#returning-a-view-versus-a-copy\n",
            "  self._setitem_single_block(indexer, value, name)\n",
            "/usr/local/lib/python3.7/dist-packages/pandas/core/indexing.py:723: SettingWithCopyWarning: \n",
            "A value is trying to be set on a copy of a slice from a DataFrame\n",
            "\n",
            "See the caveats in the documentation: https://pandas.pydata.org/pandas-docs/stable/user_guide/indexing.html#returning-a-view-versus-a-copy\n",
            "  iloc._setitem_with_indexer(indexer, value, self.name)\n"
          ]
        }
      ]
    },
    {
      "cell_type": "markdown",
      "source": [
        "# Metrics"
      ],
      "metadata": {
        "id": "xMnu0bg92kJE"
      }
    },
    {
      "cell_type": "code",
      "source": [
        "def get_cm(labels, predictions, p=0.5):\n",
        "  cm = confusion_matrix(labels, predictions > p)\n",
        "  return cm\n",
        "\n",
        "def plot_cm(ax,labels, predictions,title, p=0.5):\n",
        "  tick_labels = ['Y', 'N']\n",
        "  cm = get_cm(labels, predictions, p)\n",
        "  sns.heatmap(cm, annot=True, fmt=\"d\",ax=ax)\n",
        "  ax.title.set_text(title)\n",
        "  ax.set_xticklabels(tick_labels)\n",
        "  ax.set_yticklabels(tick_labels)"
      ],
      "metadata": {
        "id": "2sEhpK1QwMxg"
      },
      "execution_count": 83,
      "outputs": []
    },
    {
      "cell_type": "markdown",
      "source": [
        "# Resampling"
      ],
      "metadata": {
        "id": "bXi1W3TST8Cw"
      }
    },
    {
      "cell_type": "code",
      "source": [
        "def percentage(part, whole):\n",
        "  return 100 * float(part) / float(whole)\n",
        "\n",
        "anamoly, not_anamoly = y_train.value_counts()\n",
        "print(f'Anamoly Resampled {anamoly}')\n",
        "print(f'Not-Anamoly Resampled {not_anamoly}')\n",
        "print(f'Subscribe Resampled proportion {round(percentage(anamoly,anamoly + not_anamoly), 2)}%')\n",
        "\n",
        "y_train.value_counts().plot(kind=\"bar\", title=\"Anamoly vs Not Anamoly\");"
      ],
      "metadata": {
        "colab": {
          "base_uri": "https://localhost:8080/",
          "height": 0
        },
        "id": "wB_JSGjUjeiO",
        "outputId": "94e10bd2-ac2f-4d90-f4cd-aafeddc7cb7a"
      },
      "execution_count": 109,
      "outputs": [
        {
          "output_type": "stream",
          "name": "stdout",
          "text": [
            "Anamoly Resampled 25408\n",
            "Not-Anamoly Resampled 44\n",
            "Subscribe Resampled proportion 99.83%\n"
          ]
        },
        {
          "output_type": "display_data",
          "data": {
            "text/plain": [
              "<Figure size 432x288 with 1 Axes>"
            ],
            "image/png": "[encoded data removed]"
          },
          "metadata": {
            "needs_background": "light"
          }
        }
      ]
    },
    {
      "cell_type": "code",
      "source": [
        "print(y_train['Y'].unique())\n",
        "print(y_train['Y'].unique())"
      ],
      "metadata": {
        "colab": {
          "base_uri": "https://localhost:8080/"
        },
        "id": "ggVHLMR5z_Uk",
        "outputId": "8fcef49e-1312-4984-a45a-392da69f7bfc"
      },
      "execution_count": 110,
      "outputs": [
        {
          "output_type": "stream",
          "name": "stdout",
          "text": [
            "[1 0]\n",
            "[1 0]\n"
          ]
        }
      ]
    },
    {
      "cell_type": "code",
      "source": [
        "from imblearn.over_sampling import SMOTE\n",
        "smote = SMOTE(random_state=0,  k_neighbors=2)\n",
        "X_train_resampled, y_train_resampled = smote.fit_resample(X_train, y_train)\n"
      ],
      "metadata": {
        "id": "9BSPe-QpUNJj"
      },
      "execution_count": 111,
      "outputs": []
    },
    {
      "cell_type": "code",
      "source": [
        "def percentage(part, whole):\n",
        "  return 100 * float(part) / float(whole)\n",
        "\n",
        "anamoly_resampled, not_anamoly_resampled = y_train_resampled.value_counts()\n",
        "print(f'Anamoly Resampled {anamoly_resampled}')\n",
        "print(f'Not-Anamoly Resampled {not_anamoly_resampled}')\n",
        "print(f'Subscribe Resampled proportion {round(percentage(anamoly_resampled,anamoly_resampled + not_anamoly_resampled), 2)}%')\n",
        "\n",
        "y_train_resampled.value_counts().plot(kind=\"bar\", title=\"Anamoly Resampled vs Not Anamoly Resampled\");"
      ],
      "metadata": {
        "colab": {
          "base_uri": "https://localhost:8080/",
          "height": 0
        },
        "id": "XWoDIx0yVd_w",
        "outputId": "63dd754d-7351-4a9b-a742-9950ce42ea84"
      },
      "execution_count": 112,
      "outputs": [
        {
          "output_type": "stream",
          "name": "stdout",
          "text": [
            "Anamoly Resampled 25408\n",
            "Not-Anamoly Resampled 25408\n",
            "Subscribe Resampled proportion 50.0%\n"
          ]
        },
        {
          "output_type": "display_data",
          "data": {
            "text/plain": [
              "<Figure size 432x288 with 1 Axes>"
            ],
            "image/png": "[encoded data removed]"
          },
          "metadata": {
            "needs_background": "light"
          }
        }
      ]
    },
    {
      "cell_type": "code",
      "source": [
        "print(y_train_resampled.head(100))"
      ],
      "metadata": {
        "colab": {
          "base_uri": "https://localhost:8080/"
        },
        "id": "sWdvn1NHZxVY",
        "outputId": "b8c7ada4-6bce-4b28-8b97-cb396bb9d4c7"
      },
      "execution_count": 113,
      "outputs": [
        {
          "output_type": "stream",
          "name": "stdout",
          "text": [
            "    Y\n",
            "0   1\n",
            "1   1\n",
            "2   1\n",
            "3   1\n",
            "4   1\n",
            ".. ..\n",
            "95  1\n",
            "96  1\n",
            "97  1\n",
            "98  1\n",
            "99  1\n",
            "\n",
            "[100 rows x 1 columns]\n"
          ]
        }
      ]
    },
    {
      "cell_type": "markdown",
      "source": [
        "# Weighting"
      ],
      "metadata": {
        "id": "9gopJ6cNgIPF"
      }
    },
    {
      "cell_type": "code",
      "source": [
        "anamoly_count, not_anamoly_count = np.bincount(y_train.Y)\n",
        "total_count = len(y_train.Y)\n",
        "\n",
        "weight_anamoly = ((1 / anamoly_count) * (total_count) / 2.0 )\n",
        "weight_not_anamoly = (((1 / not_anamoly_count) * (total_count) / 2.0 )) \n",
        "print(\"Weight Anamoly:  \" + str(weight_anamoly))\n",
        "print(\"Weight Not Anamoly:  \" + str(weight_not_anamoly))\n",
        "class_weights = {0: weight_anamoly, 1: weight_not_anamoly}"
      ],
      "metadata": {
        "colab": {
          "base_uri": "https://localhost:8080/"
        },
        "id": "s9LNU4j_hhCi",
        "outputId": "4d218925-2585-41b3-d57f-988cf9a30ff9"
      },
      "execution_count": 114,
      "outputs": [
        {
          "output_type": "stream",
          "name": "stdout",
          "text": [
            "Weight Anamoly:  289.22727272727275\n",
            "Weight Not Anamoly:  0.5008658690176322\n"
          ]
        }
      ]
    },
    {
      "cell_type": "markdown",
      "source": [
        "# ML"
      ],
      "metadata": {
        "id": "q0qZ9863qsJ4"
      }
    },
    {
      "cell_type": "code",
      "source": [
        "from sklearn.metrics import precision_score\n",
        "from sklearn.metrics import recall_score\n",
        "from sklearn.metrics import roc_auc_score\n",
        "from sklearn.metrics import f1_score\n",
        "from imblearn.ensemble import BalancedRandomForestClassifier\n",
        "\n",
        "models = {}\n",
        "\n",
        "models['LR'] = LogisticRegression(solver='lbfgs',class_weight=class_weights)\n",
        "models['RandomForest'] = BalancedRandomForestClassifier(max_depth=2, random_state=0,class_weight=class_weights)\n",
        "models['KNN'] = KNeighborsClassifier( weights='distance')\n",
        "models['SVM'] = SVC(gamma='auto',class_weight=class_weights)\n",
        "\n",
        "accuracy, f1, roc_auc, predictions, AnamolyCorrectFraction, NonAnamolyCorrectFraction = {}, {}, {}, {}, {}, {}\n",
        "for key in models.keys():\n",
        "    models[key].fit(X_train, y_train['Y'])\n",
        "    predictions[key] = models[key].predict(X_test)\n",
        "\n",
        "    accuracy[key] = accuracy_score(y_test['Y'], predictions[key])\n",
        "    f1[key] = f1_score(y_test['Y'], predictions[key])\n",
        "    roc_auc[key] = roc_auc_score(y_test['Y'], predictions[key])\n",
        "    tn, fp, fn, tp = confusion_matrix(y_test, predictions[key]).ravel()\n",
        "    AnamolyCorrectFraction[key] = (tn/(tn+fp))\n",
        "    NonAnamolyCorrectFraction[key] = (tp/(tp+fn))\n"
      ],
      "metadata": {
        "id": "OE2fKk8EzXEJ"
      },
      "execution_count": 116,
      "outputs": []
    },
    {
      "cell_type": "code",
      "source": [
        "import pandas as pd\n",
        "pd.set_option('display.max_rows', 500)\n",
        "pd.set_option('display.max_columns', 500)\n",
        "pd.set_option('display.width', 1000)\n",
        "\n",
        "df_model = pd.DataFrame(index=models.keys(), columns=['Accuracy', 'f1_score', 'roc_auc','AnamolyCorrectFraction','NonAnamolyCorrectFraction'])\n",
        "df_model['Accuracy'] = accuracy.values()\n",
        "df_model['f1_score'] = f1.values()\n",
        "df_model['roc_auc'] = roc_auc.values()\n",
        "df_model['AnamolyCorrectFraction'] =  AnamolyCorrectFraction.values()\n",
        "df_model['NonAnamolyCorrectFraction'] = NonAnamolyCorrectFraction.values()\n",
        "\n",
        "print(df_model)\n",
        "\n",
        "plt.rc('xtick', labelsize=20) \n",
        "plt.rc('ytick', labelsize=20) \n",
        "ax  = df_model.plot.bar(rot=45,figsize=(20,12),title=\"Compare Supervised Learning Methods\")\n",
        "ax.legend(ncol= len(models.keys()), bbox_to_anchor=(0, 1), loc='lower left', prop={'size': 10})\n",
        "plt.tight_layout()"
      ],
      "metadata": {
        "colab": {
          "base_uri": "https://localhost:8080/",
          "height": 571
        },
        "id": "YnLQnDCT2Gy7",
        "outputId": "8689d2ef-36f2-4c26-fb8f-c3e11eba99dd"
      },
      "execution_count": 117,
      "outputs": [
        {
          "output_type": "stream",
          "name": "stdout",
          "text": [
            "              Accuracy  f1_score   roc_auc  AnamolyCorrectFraction  NonAnamolyCorrectFraction\n",
            "LR            0.998427  0.999212  0.999213                     1.0                   0.998426\n",
            "RandomForest  0.084303  0.154271  0.541791                     1.0                   0.083583\n",
            "KNN           1.000000  1.000000  1.000000                     1.0                   1.000000\n",
            "SVM           1.000000  1.000000  1.000000                     1.0                   1.000000\n"
          ]
        },
        {
          "output_type": "display_data",
          "data": {
            "text/plain": [
              "<Figure size 1440x864 with 1 Axes>"
            ],
            "image/png": "[encoded data removed]"
          },
          "metadata": {
            "needs_background": "light"
          }
        }
      ]
    },
    {
      "cell_type": "code",
      "source": [
        "evaluation_df = pd.DataFrame(confusion_matrix(y_test, predictions['KNN']), \n",
        "             columns=['Predicted Negative', 'Predicted Positive'], \n",
        "             index=['Actual Negative', 'Actual Positive'])"
      ],
      "metadata": {
        "id": "4fsJck7yL85Q"
      },
      "execution_count": 118,
      "outputs": []
    },
    {
      "cell_type": "code",
      "source": [
        "print(evaluation_df)"
      ],
      "metadata": {
        "colab": {
          "base_uri": "https://localhost:8080/"
        },
        "id": "1S2Rhl2XMMid",
        "outputId": "14e9aa45-b930-4182-d919-c6936fed8194"
      },
      "execution_count": 119,
      "outputs": [
        {
          "output_type": "stream",
          "name": "stdout",
          "text": [
            "                 Predicted Negative  Predicted Positive\n",
            "Actual Negative                   5                   0\n",
            "Actual Positive                   0                6353\n"
          ]
        }
      ]
    },
    {
      "cell_type": "code",
      "source": [
        "fig, (ax1, ax2) = plt.subplots(1, 2,figsize=(20,6))\n",
        "plot_cm(ax1,y_test, predictions['KNN'],\"Correlation Matrix KNN\")\n",
        "plot_cm(ax2,y_test, predictions['LR'],\"Correlation Matrix LR\")"
      ],
      "metadata": {
        "colab": {
          "base_uri": "https://localhost:8080/",
          "height": 265
        },
        "id": "QVcMTmaP2VKz",
        "outputId": "a24c969d-8648-4a77-c2e6-1252a8c168e7"
      },
      "execution_count": 120,
      "outputs": [
        {
          "output_type": "display_data",
          "data": {
            "text/plain": [
              "<Figure size 1440x432 with 4 Axes>"
            ],
            "image/png": "[encoded data removed]"
          },
          "metadata": {
            "needs_background": "light"
          }
        }
      ]
    }
  ]
}