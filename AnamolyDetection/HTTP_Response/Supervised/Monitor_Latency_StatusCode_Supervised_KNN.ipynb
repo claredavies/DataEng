{
  "nbformat": 4,
  "nbformat_minor": 0,
  "metadata": {
    "colab": {
      "name": "Monitor_Latency_StatusCode_Supervised_KNN.ipynb",
      "provenance": [],
      "collapsed_sections": [],
      "include_colab_link": true
    },
    "kernelspec": {
      "name": "python3",
      "display_name": "Python 3"
    },
    "language_info": {
      "name": "python"
    }
  },
  "cells": [
    {
      "cell_type": "markdown",
      "metadata": {
        "id": "view-in-github",
        "colab_type": "text"
      },
      "source": [
        "<a href=\"https://colab.research.google.com/github/claredavies/DataEngAPITesting/blob/master/AnamolyDetection/HTTP_Response/Supervised/Monitor_Latency_StatusCode_Supervised_KNN.ipynb\" target=\"_parent\"><img src=\"https://colab.research.google.com/assets/colab-badge.svg\" alt=\"Open In Colab\"/></a>"
      ]
    },
    {
      "cell_type": "markdown",
      "source": [
        "# Import libraries"
      ],
      "metadata": {
        "id": "cnktYU80qXau"
      }
    },
    {
      "cell_type": "code",
      "source": [
        "import pandas as pd\n",
        "from sklearn.neighbors import LocalOutlierFactor\n",
        "import matplotlib.pyplot as plt\n",
        "import numpy as np\n",
        "import seaborn as sns\n",
        "from sklearn.metrics import confusion_matrix\n",
        "!pip install pyod\n",
        "\n",
        "from pandas import read_csv\n",
        "from pandas.plotting import scatter_matrix\n",
        "from matplotlib import pyplot\n",
        "from sklearn.model_selection import train_test_split\n",
        "from sklearn.model_selection import cross_val_score\n",
        "from sklearn.model_selection import StratifiedKFold\n",
        "from sklearn.metrics import classification_report\n",
        "from sklearn.metrics import confusion_matrix\n",
        "from sklearn.metrics import accuracy_score\n",
        "from sklearn.linear_model import LogisticRegression\n",
        "from sklearn.tree import DecisionTreeClassifier\n",
        "from sklearn.neighbors import KNeighborsClassifier\n",
        "from sklearn.discriminant_analysis import LinearDiscriminantAnalysis\n",
        "from sklearn.naive_bayes import GaussianNB\n",
        "from sklearn.svm import SVC\n",
        "\n",
        "from pyod.models.mad import MAD\n",
        "from pyod.models.knn import KNN\n",
        "from pyod.models.lof import LOF"
      ],
      "metadata": {
        "id": "iJ3dnA3WMZ5R",
        "colab": {
          "base_uri": "https://localhost:8080/"
        },
        "outputId": "de7b248f-b19c-4978-81a0-a4f5c2ce2a98"
      },
      "execution_count": 1,
      "outputs": [
        {
          "output_type": "stream",
          "name": "stdout",
          "text": [
            "Collecting pyod\n",
            "  Downloading pyod-1.0.0.tar.gz (118 kB)\n",
            "\u001b[?25l\r\u001b[K     |██▊                             | 10 kB 16.7 MB/s eta 0:00:01\r\u001b[K     |█████▌                          | 20 kB 13.7 MB/s eta 0:00:01\r\u001b[K     |████████▎                       | 30 kB 9.5 MB/s eta 0:00:01\r\u001b[K     |███████████                     | 40 kB 8.4 MB/s eta 0:00:01\r\u001b[K     |█████████████▉                  | 51 kB 4.7 MB/s eta 0:00:01\r\u001b[K     |████████████████▌               | 61 kB 5.5 MB/s eta 0:00:01\r\u001b[K     |███████████████████▎            | 71 kB 5.5 MB/s eta 0:00:01\r\u001b[K     |██████████████████████          | 81 kB 5.3 MB/s eta 0:00:01\r\u001b[K     |████████████████████████▉       | 92 kB 5.8 MB/s eta 0:00:01\r\u001b[K     |███████████████████████████▋    | 102 kB 5.2 MB/s eta 0:00:01\r\u001b[K     |██████████████████████████████▍ | 112 kB 5.2 MB/s eta 0:00:01\r\u001b[K     |████████████████████████████████| 118 kB 5.2 MB/s \n",
            "\u001b[?25hRequirement already satisfied: joblib in /usr/local/lib/python3.7/dist-packages (from pyod) (1.1.0)\n",
            "Requirement already satisfied: matplotlib in /usr/local/lib/python3.7/dist-packages (from pyod) (3.2.2)\n",
            "Requirement already satisfied: numpy>=1.13 in /usr/local/lib/python3.7/dist-packages (from pyod) (1.21.6)\n",
            "Requirement already satisfied: numba>=0.35 in /usr/local/lib/python3.7/dist-packages (from pyod) (0.51.2)\n",
            "Requirement already satisfied: scipy>=1.3.1 in /usr/local/lib/python3.7/dist-packages (from pyod) (1.4.1)\n",
            "Requirement already satisfied: scikit_learn>=0.20.0 in /usr/local/lib/python3.7/dist-packages (from pyod) (1.0.2)\n",
            "Requirement already satisfied: six in /usr/local/lib/python3.7/dist-packages (from pyod) (1.15.0)\n",
            "Requirement already satisfied: statsmodels in /usr/local/lib/python3.7/dist-packages (from pyod) (0.10.2)\n",
            "Requirement already satisfied: llvmlite<0.35,>=0.34.0.dev0 in /usr/local/lib/python3.7/dist-packages (from numba>=0.35->pyod) (0.34.0)\n",
            "Requirement already satisfied: setuptools in /usr/local/lib/python3.7/dist-packages (from numba>=0.35->pyod) (57.4.0)\n",
            "Requirement already satisfied: threadpoolctl>=2.0.0 in /usr/local/lib/python3.7/dist-packages (from scikit_learn>=0.20.0->pyod) (3.1.0)\n",
            "Requirement already satisfied: cycler>=0.10 in /usr/local/lib/python3.7/dist-packages (from matplotlib->pyod) (0.11.0)\n",
            "Requirement already satisfied: kiwisolver>=1.0.1 in /usr/local/lib/python3.7/dist-packages (from matplotlib->pyod) (1.4.2)\n",
            "Requirement already satisfied: pyparsing!=2.0.4,!=2.1.2,!=2.1.6,>=2.0.1 in /usr/local/lib/python3.7/dist-packages (from matplotlib->pyod) (3.0.8)\n",
            "Requirement already satisfied: python-dateutil>=2.1 in /usr/local/lib/python3.7/dist-packages (from matplotlib->pyod) (2.8.2)\n",
            "Requirement already satisfied: typing-extensions in /usr/local/lib/python3.7/dist-packages (from kiwisolver>=1.0.1->matplotlib->pyod) (4.2.0)\n",
            "Requirement already satisfied: patsy>=0.4.0 in /usr/local/lib/python3.7/dist-packages (from statsmodels->pyod) (0.5.2)\n",
            "Requirement already satisfied: pandas>=0.19 in /usr/local/lib/python3.7/dist-packages (from statsmodels->pyod) (1.3.5)\n",
            "Requirement already satisfied: pytz>=2017.3 in /usr/local/lib/python3.7/dist-packages (from pandas>=0.19->statsmodels->pyod) (2022.1)\n",
            "Building wheels for collected packages: pyod\n",
            "  Building wheel for pyod (setup.py) ... \u001b[?25l\u001b[?25hdone\n",
            "  Created wheel for pyod: filename=pyod-1.0.0-py3-none-any.whl size=144471 sha256=f495106514747c97f254e0bbe17efc3c6164a6c946377f5577834012339407aa\n",
            "  Stored in directory: /root/.cache/pip/wheels/37/e6/25/8098880dadf78bf063ee9b37477b1a9317e8bb0fc06e623187\n",
            "Successfully built pyod\n",
            "Installing collected packages: pyod\n",
            "Successfully installed pyod-1.0.0\n"
          ]
        }
      ]
    },
    {
      "cell_type": "markdown",
      "source": [
        "# Read in data"
      ],
      "metadata": {
        "id": "DuL0zY4sqYJJ"
      }
    },
    {
      "cell_type": "code",
      "source": [
        "train = pd.read_csv(\"train.csv\")\n",
        "test = pd.read_csv(\"test.csv\")\n",
        "print(train.head())"
      ],
      "metadata": {
        "colab": {
          "base_uri": "https://localhost:8080/"
        },
        "id": "XZF5lZMRrwHx",
        "outputId": "80970b60-7d21-4428-9de4-ee8e69906934"
      },
      "execution_count": 3,
      "outputs": [
        {
          "output_type": "stream",
          "name": "stdout",
          "text": [
            "       Time Method  Code  Delay  Y\n",
            "0  11:00:00    GET   200  15000  1\n",
            "1  11:00:01   POST   201  15000  1\n",
            "2  11:00:02   POST   201  16000  1\n",
            "3  11:00:03    GET   200  16000  1\n",
            "4  11:00:04    GET   200  18000  1\n"
          ]
        }
      ]
    },
    {
      "cell_type": "code",
      "source": [
        "print(train['Code'].unique())"
      ],
      "metadata": {
        "colab": {
          "base_uri": "https://localhost:8080/"
        },
        "id": "osQT7qhGr7NS",
        "outputId": "0d72e74a-cfb5-4639-ed31-02ff93be8c9e"
      },
      "execution_count": 4,
      "outputs": [
        {
          "output_type": "stream",
          "name": "stdout",
          "text": [
            "[200 201 404 302 204 400 500]\n"
          ]
        }
      ]
    },
    {
      "cell_type": "markdown",
      "source": [
        "# Data Processing"
      ],
      "metadata": {
        "id": "N1P-n1TMqjja"
      }
    },
    {
      "cell_type": "code",
      "source": [
        "train['Code'].value_counts()"
      ],
      "metadata": {
        "colab": {
          "base_uri": "https://localhost:8080/"
        },
        "id": "DMGTcMErsDCS",
        "outputId": "98241823-12b0-4c32-e41d-dde135ac3dee"
      },
      "execution_count": 5,
      "outputs": [
        {
          "output_type": "execute_result",
          "data": {
            "text/plain": [
              "200    22514\n",
              "201     1497\n",
              "400      590\n",
              "404      484\n",
              "204      278\n",
              "302       46\n",
              "500       43\n",
              "Name: Code, dtype: int64"
            ]
          },
          "metadata": {},
          "execution_count": 5
        }
      ]
    },
    {
      "cell_type": "code",
      "source": [
        "one_hot_encoded_train = pd.get_dummies(train, columns = ['Code'])\n",
        "print(one_hot_encoded_train)"
      ],
      "metadata": {
        "colab": {
          "base_uri": "https://localhost:8080/"
        },
        "id": "gnadUxK_sK-L",
        "outputId": "ee1468cd-4b5d-4ace-94e2-75353e088b11"
      },
      "execution_count": 6,
      "outputs": [
        {
          "output_type": "stream",
          "name": "stdout",
          "text": [
            "           Time Method  Delay  Y  Code_200  Code_201  Code_204  Code_302  \\\n",
            "0      11:00:00    GET  15000  1         1         0         0         0   \n",
            "1      11:00:01   POST  15000  1         0         1         0         0   \n",
            "2      11:00:02   POST  16000  1         0         1         0         0   \n",
            "3      11:00:03    GET  16000  1         1         0         0         0   \n",
            "4      11:00:04    GET  18000  1         1         0         0         0   \n",
            "...         ...    ...    ... ..       ...       ...       ...       ...   \n",
            "25447  18:03:23    GET  15000  1         1         0         0         0   \n",
            "25448  18:03:24    GET  16000  1         1         0         0         0   \n",
            "25449  18:03:25    GET  15000  1         1         0         0         0   \n",
            "25450  18:03:26    GET  16000  1         1         0         0         0   \n",
            "25451  18:03:27    GET  15000  1         1         0         0         0   \n",
            "\n",
            "       Code_400  Code_404  Code_500  \n",
            "0             0         0         0  \n",
            "1             0         0         0  \n",
            "2             0         0         0  \n",
            "3             0         0         0  \n",
            "4             0         0         0  \n",
            "...         ...       ...       ...  \n",
            "25447         0         0         0  \n",
            "25448         0         0         0  \n",
            "25449         0         0         0  \n",
            "25450         0         0         0  \n",
            "25451         0         0         0  \n",
            "\n",
            "[25452 rows x 11 columns]\n"
          ]
        }
      ]
    },
    {
      "cell_type": "code",
      "source": [
        "train = one_hot_encoded_train[[\"Delay\", \"Code_200\", \"Code_201\", \"Code_204\", \"Code_302\", \"Code_400\", \"Code_404\", \"Code_500\",\"Y\"]]"
      ],
      "metadata": {
        "id": "Jv3mtp_9sYNt"
      },
      "execution_count": 7,
      "outputs": []
    },
    {
      "cell_type": "code",
      "source": [
        "print(train.head)"
      ],
      "metadata": {
        "colab": {
          "base_uri": "https://localhost:8080/"
        },
        "id": "Ij6VZWtOMiK7",
        "outputId": "12d54e01-a53e-4444-d70e-be630c16e425"
      },
      "execution_count": 8,
      "outputs": [
        {
          "output_type": "stream",
          "name": "stdout",
          "text": [
            "<bound method NDFrame.head of        Delay  Code_200  Code_201  Code_204  Code_302  Code_400  Code_404  \\\n",
            "0      15000         1         0         0         0         0         0   \n",
            "1      15000         0         1         0         0         0         0   \n",
            "2      16000         0         1         0         0         0         0   \n",
            "3      16000         1         0         0         0         0         0   \n",
            "4      18000         1         0         0         0         0         0   \n",
            "...      ...       ...       ...       ...       ...       ...       ...   \n",
            "25447  15000         1         0         0         0         0         0   \n",
            "25448  16000         1         0         0         0         0         0   \n",
            "25449  15000         1         0         0         0         0         0   \n",
            "25450  16000         1         0         0         0         0         0   \n",
            "25451  15000         1         0         0         0         0         0   \n",
            "\n",
            "       Code_500  Y  \n",
            "0             0  1  \n",
            "1             0  1  \n",
            "2             0  1  \n",
            "3             0  1  \n",
            "4             0  1  \n",
            "...         ... ..  \n",
            "25447         0  1  \n",
            "25448         0  1  \n",
            "25449         0  1  \n",
            "25450         0  1  \n",
            "25451         0  1  \n",
            "\n",
            "[25452 rows x 9 columns]>\n"
          ]
        }
      ]
    },
    {
      "cell_type": "code",
      "source": [
        "X_train=train[[\"Delay\", \"Code_200\", \"Code_201\", \"Code_204\", \"Code_302\", \"Code_400\", \"Code_404\", \"Code_500\"]]\n",
        "y_train=train[[\"Y\"]]"
      ],
      "metadata": {
        "id": "5cRN0VN2MXfS"
      },
      "execution_count": 9,
      "outputs": []
    },
    {
      "cell_type": "code",
      "source": [
        "test = pd.read_csv(\"test.csv\")\n",
        "one_hot_encoded_test = pd.get_dummies(test, columns = ['Code'])"
      ],
      "metadata": {
        "id": "GBF1UlMhh1sR"
      },
      "execution_count": 11,
      "outputs": []
    },
    {
      "cell_type": "code",
      "source": [
        "test = one_hot_encoded_test[[\"Delay\", \"Code_200\", \"Code_201\", \"Code_204\", \"Code_302\", \"Code_400\", \"Code_404\", \"Code_500\",\"Y\"]]"
      ],
      "metadata": {
        "id": "meHjXBPiL19j"
      },
      "execution_count": 12,
      "outputs": []
    },
    {
      "cell_type": "code",
      "source": [
        "X_test=test[[\"Delay\", \"Code_200\", \"Code_201\", \"Code_204\", \"Code_302\", \"Code_400\", \"Code_404\", \"Code_500\"]]\n",
        "y_test=test[[\"Y\"]]"
      ],
      "metadata": {
        "id": "3au1n5vBj0ts"
      },
      "execution_count": 13,
      "outputs": []
    },
    {
      "cell_type": "code",
      "source": [
        "print(y_train.head())\n",
        "print(X_train.head())\n"
      ],
      "metadata": {
        "colab": {
          "base_uri": "https://localhost:8080/"
        },
        "id": "Kn3eku7-yGt8",
        "outputId": "ab33ead3-a07d-480d-e6e3-679b6914291d"
      },
      "execution_count": 14,
      "outputs": [
        {
          "output_type": "stream",
          "name": "stdout",
          "text": [
            "   Y\n",
            "0  1\n",
            "1  1\n",
            "2  1\n",
            "3  1\n",
            "4  1\n",
            "   Delay  Code_200  Code_201  Code_204  Code_302  Code_400  Code_404  Code_500\n",
            "0  15000         1         0         0         0         0         0         0\n",
            "1  15000         0         1         0         0         0         0         0\n",
            "2  16000         0         1         0         0         0         0         0\n",
            "3  16000         1         0         0         0         0         0         0\n",
            "4  18000         1         0         0         0         0         0         0\n"
          ]
        }
      ]
    },
    {
      "cell_type": "code",
      "source": [
        "y_train.loc[y_train[\"Y\"] == -1, \"Y\"] = 0\n",
        "y_test.loc[y_test[\"Y\"] == -1, \"Y\"] = 0"
      ],
      "metadata": {
        "colab": {
          "base_uri": "https://localhost:8080/"
        },
        "id": "ztYUinsHiAVJ",
        "outputId": "67f9ee7d-c72f-4356-8116-00e6bfd8a5ed"
      },
      "execution_count": 15,
      "outputs": [
        {
          "output_type": "stream",
          "name": "stderr",
          "text": [
            "/usr/local/lib/python3.7/dist-packages/pandas/core/indexing.py:1732: SettingWithCopyWarning: \n",
            "A value is trying to be set on a copy of a slice from a DataFrame\n",
            "\n",
            "See the caveats in the documentation: https://pandas.pydata.org/pandas-docs/stable/user_guide/indexing.html#returning-a-view-versus-a-copy\n",
            "  self._setitem_single_block(indexer, value, name)\n",
            "/usr/local/lib/python3.7/dist-packages/pandas/core/indexing.py:723: SettingWithCopyWarning: \n",
            "A value is trying to be set on a copy of a slice from a DataFrame\n",
            "\n",
            "See the caveats in the documentation: https://pandas.pydata.org/pandas-docs/stable/user_guide/indexing.html#returning-a-view-versus-a-copy\n",
            "  iloc._setitem_with_indexer(indexer, value, self.name)\n"
          ]
        }
      ]
    },
    {
      "cell_type": "markdown",
      "source": [
        "# Metrics"
      ],
      "metadata": {
        "id": "xMnu0bg92kJE"
      }
    },
    {
      "cell_type": "code",
      "source": [
        "def get_cm(labels, predictions, p=0.5):\n",
        "  cm = confusion_matrix(labels, predictions > p)\n",
        "  return cm\n",
        "\n",
        "def plot_cm(ax,labels, predictions,title, p=0.5):\n",
        "  tick_labels = ['Y', 'N']\n",
        "  cm = get_cm(labels, predictions, p)\n",
        "  sns.heatmap(cm, annot=True, fmt=\"d\",ax=ax)\n",
        "  ax.title.set_text(title)\n",
        "  ax.set_xticklabels(tick_labels)\n",
        "  ax.set_yticklabels(tick_labels)"
      ],
      "metadata": {
        "id": "2sEhpK1QwMxg"
      },
      "execution_count": 16,
      "outputs": []
    },
    {
      "cell_type": "markdown",
      "source": [
        "# Data Exploration"
      ],
      "metadata": {
        "id": "YBPU66OljaeE"
      }
    },
    {
      "cell_type": "code",
      "source": [
        "def percentage(part, whole):\n",
        "  return 100 * float(part) / float(whole)\n",
        "\n",
        "anamoly, not_anamoly = y_train.value_counts()\n",
        "print(f'Anamoly Resampled {anamoly}')\n",
        "print(f'Not-Anamoly Resampled {not_anamoly}')\n",
        "print(f'Subscribe Resampled proportion {round(percentage(anamoly,anamoly + not_anamoly), 2)}%')\n",
        "\n",
        "y_train.value_counts().plot(kind=\"bar\", title=\"Anamoly vs Not Anamoly\");"
      ],
      "metadata": {
        "colab": {
          "base_uri": "https://localhost:8080/",
          "height": 355
        },
        "id": "wB_JSGjUjeiO",
        "outputId": "e32e8c9d-7eba-472a-f730-4210078444d0"
      },
      "execution_count": 17,
      "outputs": [
        {
          "output_type": "stream",
          "name": "stdout",
          "text": [
            "Anamoly Resampled 25408\n",
            "Not-Anamoly Resampled 44\n",
            "Subscribe Resampled proportion 99.83%\n"
          ]
        },
        {
          "output_type": "display_data",
          "data": {
            "text/plain": [
              "<Figure size 432x288 with 1 Axes>"
            ],
            "image/png": "[encoded data removed]"
          },
          "metadata": {
            "needs_background": "light"
          }
        }
      ]
    },
    {
      "cell_type": "markdown",
      "source": [
        "# Resampling"
      ],
      "metadata": {
        "id": "bXi1W3TST8Cw"
      }
    },
    {
      "cell_type": "code",
      "source": [
        "print(y_train['Y'].unique())\n",
        "print(y_train['Y'].unique())"
      ],
      "metadata": {
        "colab": {
          "base_uri": "https://localhost:8080/"
        },
        "id": "ggVHLMR5z_Uk",
        "outputId": "c44bf58c-2d9b-4f36-f96d-ed822333c3c2"
      },
      "execution_count": 18,
      "outputs": [
        {
          "output_type": "stream",
          "name": "stdout",
          "text": [
            "[1 0]\n",
            "[1 0]\n"
          ]
        }
      ]
    },
    {
      "cell_type": "code",
      "source": [
        "from imblearn.over_sampling import SMOTE\n",
        "smote = SMOTE(random_state=0,  k_neighbors=2)\n",
        "X_train_resampled, y_train_resampled = smote.fit_resample(X_train, y_train)\n"
      ],
      "metadata": {
        "id": "9BSPe-QpUNJj"
      },
      "execution_count": 19,
      "outputs": []
    },
    {
      "cell_type": "code",
      "source": [
        "def percentage(part, whole):\n",
        "  return 100 * float(part) / float(whole)\n",
        "\n",
        "anamoly_resampled, not_anamoly_resampled = y_train_resampled.value_counts()\n",
        "print(f'Anamoly Resampled {anamoly_resampled}')\n",
        "print(f'Not-Anamoly Resampled {not_anamoly_resampled}')\n",
        "print(f'Subscribe Resampled proportion {round(percentage(anamoly_resampled,anamoly_resampled + not_anamoly_resampled), 2)}%')\n",
        "\n",
        "y_train_resampled.value_counts().plot(kind=\"bar\", title=\"Anamoly Resampled vs Not Anamoly Resampled\");"
      ],
      "metadata": {
        "colab": {
          "base_uri": "https://localhost:8080/",
          "height": 355
        },
        "id": "XWoDIx0yVd_w",
        "outputId": "ce3fdd8a-5cbe-4004-9d7f-dcf5fe3a882e"
      },
      "execution_count": 20,
      "outputs": [
        {
          "output_type": "stream",
          "name": "stdout",
          "text": [
            "Anamoly Resampled 25408\n",
            "Not-Anamoly Resampled 25408\n",
            "Subscribe Resampled proportion 50.0%\n"
          ]
        },
        {
          "output_type": "display_data",
          "data": {
            "text/plain": [
              "<Figure size 432x288 with 1 Axes>"
            ],
            "image/png": "[encoded data removed]"
          },
          "metadata": {
            "needs_background": "light"
          }
        }
      ]
    },
    {
      "cell_type": "code",
      "source": [
        "print(y_train_resampled.head(100))"
      ],
      "metadata": {
        "colab": {
          "base_uri": "https://localhost:8080/"
        },
        "id": "sWdvn1NHZxVY",
        "outputId": "6020fb23-7598-4eef-cc64-356052d5318c"
      },
      "execution_count": 21,
      "outputs": [
        {
          "output_type": "stream",
          "name": "stdout",
          "text": [
            "    Y\n",
            "0   1\n",
            "1   1\n",
            "2   1\n",
            "3   1\n",
            "4   1\n",
            ".. ..\n",
            "95  1\n",
            "96  1\n",
            "97  1\n",
            "98  1\n",
            "99  1\n",
            "\n",
            "[100 rows x 1 columns]\n"
          ]
        }
      ]
    },
    {
      "cell_type": "markdown",
      "source": [
        "# Weighting"
      ],
      "metadata": {
        "id": "9gopJ6cNgIPF"
      }
    },
    {
      "cell_type": "code",
      "source": [
        "anamoly_count, not_anamoly_count = np.bincount(y_train.Y)\n",
        "total_count = len(y_train.Y)\n",
        "\n",
        "weight_anamoly = ((1 / anamoly_count) * (total_count) / 2.0 )\n",
        "weight_not_anamoly = (((1 / not_anamoly_count) * (total_count) / 2.0 )) \n",
        "print(\"Anamoly:  \" + str(weight_anamoly))\n",
        "print(\"Not anamoly:  \" + str(weight_not_anamoly))\n",
        "class_weights = {0: weight_anamoly, 1: weight_not_anamoly}"
      ],
      "metadata": {
        "colab": {
          "base_uri": "https://localhost:8080/"
        },
        "id": "s9LNU4j_hhCi",
        "outputId": "d2ea8c98-f5b2-41d9-d14d-a787e68a7fd9"
      },
      "execution_count": 22,
      "outputs": [
        {
          "output_type": "stream",
          "name": "stdout",
          "text": [
            "Anamoly:  289.22727272727275\n",
            "Not anamoly:  0.5008658690176322\n"
          ]
        }
      ]
    },
    {
      "cell_type": "code",
      "source": [
        "from imblearn.ensemble import BalancedRandomForestClassifier\n",
        "\n",
        "clf = BalancedRandomForestClassifier(max_depth=2, random_state=0,class_weight=class_weights)\n",
        "clf.fit(X_train, y_train) \n",
        "predictions = clf.predict(X_test)\n",
        "fig, (ax1) = plt.subplots(1, 1,figsize=(20,6))\n",
        "plot_cm(ax1,y_test, predictions,\"random forest\")"
      ],
      "metadata": {
        "colab": {
          "base_uri": "https://localhost:8080/",
          "height": 0
        },
        "id": "a3W1CaE6gK5R",
        "outputId": "b6a264d5-6b6b-4bdc-bab7-a4c13b349f71"
      },
      "execution_count": 23,
      "outputs": [
        {
          "output_type": "stream",
          "name": "stderr",
          "text": [
            "/usr/local/lib/python3.7/dist-packages/ipykernel_launcher.py:4: DataConversionWarning: A column-vector y was passed when a 1d array was expected. Please change the shape of y to (n_samples,), for example using ravel().\n",
            "  after removing the cwd from sys.path.\n"
          ]
        },
        {
          "output_type": "display_data",
          "data": {
            "text/plain": [
              "<Figure size 1440x432 with 2 Axes>"
            ],
            "image/png": "[encoded data removed]"
          },
          "metadata": {
            "needs_background": "light"
          }
        }
      ]
    },
    {
      "cell_type": "markdown",
      "source": [
        "# ML"
      ],
      "metadata": {
        "id": "q0qZ9863qsJ4"
      }
    },
    {
      "cell_type": "code",
      "source": [
        "from sklearn.metrics import precision_score\n",
        "from sklearn.metrics import recall_score\n",
        "\n",
        "models = {}\n",
        "\n",
        "models['LR'] = LogisticRegression()\n",
        "models['LDA'] = LinearDiscriminantAnalysis()\n",
        "models['KNN'] = KNeighborsClassifier()\n",
        "models['CART'] = DecisionTreeClassifier()\n",
        "models['NB'] = GaussianNB()\n",
        "models['SVM'] = SVC(gamma='auto')\n",
        "\n",
        "accuracy, precision, recall, predictions = {}, {}, {}, {}\n",
        "for key in models.keys():\n",
        "    models[key].fit(X_train_resampled, y_train_resampled['Y'])\n",
        "    predictions[key] = models[key].predict(X_test)\n",
        "    \n",
        "    accuracy[key] = accuracy_score(predictions[key], y_test['Y'])\n",
        "    precision[key] = precision_score(predictions[key], y_test['Y'])\n",
        "    recall[key] = recall_score(predictions[key], y_test['Y'])"
      ],
      "metadata": {
        "id": "OE2fKk8EzXEJ"
      },
      "execution_count": 24,
      "outputs": []
    },
    {
      "cell_type": "code",
      "source": [
        "import pandas as pd\n",
        "\n",
        "df_model = pd.DataFrame(index=models.keys(), columns=['Accuracy'])\n",
        "df_model = pd.DataFrame(index=models.keys(), columns=['Accuracy', 'Precision', 'Recall'])\n",
        "df_model['Accuracy'] = accuracy.values()\n",
        "df_model['Precision'] = precision.values()\n",
        "df_model['Recall'] = recall.values()\n",
        "\n",
        "print(df_model)\n",
        "\n",
        "plt.rc('xtick', labelsize=20) \n",
        "plt.rc('ytick', labelsize=20) \n",
        "ax  = df_model.plot.bar(rot=45,figsize=(20,12),title=\"Compare Supervised Learning Methods\")\n",
        "ax.legend(ncol= len(models.keys()), bbox_to_anchor=(0, 1), loc='lower left', prop={'size': 15})\n",
        "plt.tight_layout()"
      ],
      "metadata": {
        "colab": {
          "base_uri": "https://localhost:8080/",
          "height": 926
        },
        "id": "YnLQnDCT2Gy7",
        "outputId": "6d6bf2e4-342f-411b-8afa-c0a10ecfb3e9"
      },
      "execution_count": 25,
      "outputs": [
        {
          "output_type": "stream",
          "name": "stdout",
          "text": [
            "      Accuracy  Precision    Recall\n",
            "LR    0.862693   0.862742  0.999818\n",
            "LDA   0.999214   0.999528  0.999685\n",
            "KNN   0.999685   1.000000  0.999685\n",
            "CART  0.986474   0.986620  0.999840\n",
            "NB    0.960208   0.960334  0.999836\n",
            "SVM   0.986474   0.986620  0.999840\n"
          ]
        },
        {
          "output_type": "display_data",
          "data": {
            "text/plain": [
              "<Figure size 1440x864 with 1 Axes>"
            ],
            "image/png": "[encoded data removed]"
          },
          "metadata": {
            "needs_background": "light"
          }
        }
      ]
    },
    {
      "cell_type": "code",
      "source": [
        "fig, (ax1, ax2) = plt.subplots(1, 2,figsize=(20,6))\n",
        "plot_cm(ax1,y_test, predictions['KNN'],\"Correlation Matrix KNN\")\n",
        "plot_cm(ax2,y_test, predictions['LR'],\"Correlation Matrix LR\")"
      ],
      "metadata": {
        "colab": {
          "base_uri": "https://localhost:8080/",
          "height": 399
        },
        "id": "QVcMTmaP2VKz",
        "outputId": "a4438ff2-aec1-4dbb-f2be-266467982ab9"
      },
      "execution_count": 26,
      "outputs": [
        {
          "output_type": "display_data",
          "data": {
            "text/plain": [
              "<Figure size 1440x432 with 4 Axes>"
            ],
            "image/png": "[encoded data removed]"
          },
          "metadata": {
            "needs_background": "light"
          }
        }
      ]
    },
    {
      "cell_type": "markdown",
      "source": [
        "# Metrics"
      ],
      "metadata": {
        "id": "3bOahgoNOYD4"
      }
    },
    {
      "cell_type": "code",
      "source": [
        "import sklearn.metrics as metrics\n",
        "# calculate the fpr and tpr for all thresholds of the classification\n",
        "probs = models[\"KNN\"].predict_proba(X_test)\n",
        "prob = probs[:, 1]\n",
        "fper, tper, thresholds = metrics.roc_curve(y_test, prob)\n",
        "\n",
        "def plot_roc_curve(fper, tper):\n",
        "    plt.plot(fper, tper, color='red', label='ROC')\n",
        "    plt.plot([0, 1], [0, 1], color='green', linestyle='--')\n",
        "    plt.xlabel('False Positive Rate')\n",
        "    plt.ylabel('True Positive Rate')\n",
        "    plt.title('Receiver Operating Characteristic Curve')\n",
        "    plt.legend()\n",
        "    plt.show()\n",
        "\n",
        "plot_roc_curve(fper, tper)"
      ],
      "metadata": {
        "colab": {
          "base_uri": "https://localhost:8080/",
          "height": 304
        },
        "id": "Fkv5DyhJOb96",
        "outputId": "c1e5312e-9d5d-4876-c003-53be19115c5f"
      },
      "execution_count": 35,
      "outputs": [
        {
          "output_type": "display_data",
          "data": {
            "text/plain": [
              "<Figure size 432x288 with 1 Axes>"
            ],
            "image/png": "[encoded data removed]"
          },
          "metadata": {
            "needs_background": "light"
          }
        }
      ]
    }
  ]
}