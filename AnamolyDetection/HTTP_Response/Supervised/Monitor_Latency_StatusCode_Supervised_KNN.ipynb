{
  "nbformat": 4,
  "nbformat_minor": 0,
  "metadata": {
    "colab": {
      "name": "Monitor_Latency_StatusCode_Supervised_KNN.ipynb",
      "provenance": [],
      "collapsed_sections": [],
      "include_colab_link": true
    },
    "kernelspec": {
      "name": "python3",
      "display_name": "Python 3"
    },
    "language_info": {
      "name": "python"
    }
  },
  "cells": [
    {
      "cell_type": "markdown",
      "metadata": {
        "id": "view-in-github",
        "colab_type": "text"
      },
      "source": [
        "<a href=\"https://colab.research.google.com/github/claredavies/DataEngAPITesting/blob/master/AnamolyDetection/HTTP_Response/Supervised/Monitor_Latency_StatusCode_Supervised_KNN.ipynb\" target=\"_parent\"><img src=\"https://colab.research.google.com/assets/colab-badge.svg\" alt=\"Open In Colab\"/></a>"
      ]
    },
    {
      "cell_type": "markdown",
      "source": [
        "# Import libraries"
      ],
      "metadata": {
        "id": "cnktYU80qXau"
      }
    },
    {
      "cell_type": "code",
      "source": [
        "import pandas as pd\n",
        "from sklearn.neighbors import LocalOutlierFactor\n",
        "import matplotlib.pyplot as plt\n",
        "import numpy as np\n",
        "import seaborn as sns\n",
        "from sklearn.metrics import confusion_matrix\n",
        "!pip install pyod\n",
        "\n",
        "from pandas import read_csv\n",
        "from pandas.plotting import scatter_matrix\n",
        "from matplotlib import pyplot\n",
        "from sklearn.model_selection import train_test_split\n",
        "from sklearn.model_selection import cross_val_score\n",
        "from sklearn.model_selection import StratifiedKFold\n",
        "from sklearn.metrics import classification_report\n",
        "from sklearn.metrics import confusion_matrix\n",
        "from sklearn.metrics import accuracy_score\n",
        "from sklearn.linear_model import LogisticRegression\n",
        "from sklearn.tree import DecisionTreeClassifier\n",
        "from sklearn.neighbors import KNeighborsClassifier\n",
        "from sklearn.discriminant_analysis import LinearDiscriminantAnalysis\n",
        "from sklearn.naive_bayes import GaussianNB\n",
        "from sklearn.svm import SVC\n",
        "\n",
        "from pyod.models.mad import MAD\n",
        "from pyod.models.knn import KNN\n",
        "from pyod.models.lof import LOF"
      ],
      "metadata": {
        "id": "iJ3dnA3WMZ5R",
        "colab": {
          "base_uri": "https://localhost:8080/"
        },
        "outputId": "0350d999-cf49-43ab-c323-64afca2879ad"
      },
      "execution_count": 1,
      "outputs": [
        {
          "output_type": "stream",
          "name": "stdout",
          "text": [
            "Requirement already satisfied: pyod in /usr/local/lib/python3.7/dist-packages (1.0.1)\n",
            "Requirement already satisfied: numba>=0.51 in /usr/local/lib/python3.7/dist-packages (from pyod) (0.51.2)\n",
            "Requirement already satisfied: scipy>=1.5.1 in /usr/local/lib/python3.7/dist-packages (from pyod) (1.7.3)\n",
            "Requirement already satisfied: matplotlib in /usr/local/lib/python3.7/dist-packages (from pyod) (3.2.2)\n",
            "Requirement already satisfied: statsmodels in /usr/local/lib/python3.7/dist-packages (from pyod) (0.10.2)\n",
            "Requirement already satisfied: joblib in /usr/local/lib/python3.7/dist-packages (from pyod) (1.1.0)\n",
            "Requirement already satisfied: six in /usr/local/lib/python3.7/dist-packages (from pyod) (1.15.0)\n",
            "Requirement already satisfied: scikit-learn>=0.20.0 in /usr/local/lib/python3.7/dist-packages (from pyod) (1.0.2)\n",
            "Requirement already satisfied: numpy>=1.19 in /usr/local/lib/python3.7/dist-packages (from pyod) (1.21.6)\n",
            "Requirement already satisfied: llvmlite<0.35,>=0.34.0.dev0 in /usr/local/lib/python3.7/dist-packages (from numba>=0.51->pyod) (0.34.0)\n",
            "Requirement already satisfied: setuptools in /usr/local/lib/python3.7/dist-packages (from numba>=0.51->pyod) (57.4.0)\n",
            "Requirement already satisfied: threadpoolctl>=2.0.0 in /usr/local/lib/python3.7/dist-packages (from scikit-learn>=0.20.0->pyod) (3.1.0)\n",
            "Requirement already satisfied: python-dateutil>=2.1 in /usr/local/lib/python3.7/dist-packages (from matplotlib->pyod) (2.8.2)\n",
            "Requirement already satisfied: cycler>=0.10 in /usr/local/lib/python3.7/dist-packages (from matplotlib->pyod) (0.11.0)\n",
            "Requirement already satisfied: kiwisolver>=1.0.1 in /usr/local/lib/python3.7/dist-packages (from matplotlib->pyod) (1.4.2)\n",
            "Requirement already satisfied: pyparsing!=2.0.4,!=2.1.2,!=2.1.6,>=2.0.1 in /usr/local/lib/python3.7/dist-packages (from matplotlib->pyod) (3.0.8)\n",
            "Requirement already satisfied: typing-extensions in /usr/local/lib/python3.7/dist-packages (from kiwisolver>=1.0.1->matplotlib->pyod) (4.2.0)\n",
            "Requirement already satisfied: pandas>=0.19 in /usr/local/lib/python3.7/dist-packages (from statsmodels->pyod) (1.3.5)\n",
            "Requirement already satisfied: patsy>=0.4.0 in /usr/local/lib/python3.7/dist-packages (from statsmodels->pyod) (0.5.2)\n",
            "Requirement already satisfied: pytz>=2017.3 in /usr/local/lib/python3.7/dist-packages (from pandas>=0.19->statsmodels->pyod) (2022.1)\n"
          ]
        }
      ]
    },
    {
      "cell_type": "markdown",
      "source": [
        "# Read in data"
      ],
      "metadata": {
        "id": "DuL0zY4sqYJJ"
      }
    },
    {
      "cell_type": "code",
      "source": [
        "train = pd.read_csv(\"train.csv\")\n",
        "test = pd.read_csv(\"test.csv\")\n",
        "print(train.head())"
      ],
      "metadata": {
        "colab": {
          "base_uri": "https://localhost:8080/"
        },
        "id": "XZF5lZMRrwHx",
        "outputId": "00f7b4e7-11b8-4a7e-b9bb-df21b917f175"
      },
      "execution_count": 2,
      "outputs": [
        {
          "output_type": "stream",
          "name": "stdout",
          "text": [
            "       Time Method  Code  Delay  Y\n",
            "0  11:00:00    GET   200  15000  1\n",
            "1  11:00:01   POST   201  15000  1\n",
            "2  11:00:02   POST   201  16000  1\n",
            "3  11:00:03    GET   200  16000  1\n",
            "4  11:00:04    GET   200  18000  1\n"
          ]
        }
      ]
    },
    {
      "cell_type": "code",
      "source": [
        "print(train['Code'].unique())"
      ],
      "metadata": {
        "colab": {
          "base_uri": "https://localhost:8080/"
        },
        "id": "osQT7qhGr7NS",
        "outputId": "5c101abf-b0af-437b-832b-dab4f7b64a27"
      },
      "execution_count": 3,
      "outputs": [
        {
          "output_type": "stream",
          "name": "stdout",
          "text": [
            "[200 201 404 302 204 400 500]\n"
          ]
        }
      ]
    },
    {
      "cell_type": "markdown",
      "source": [
        "# Data Processing"
      ],
      "metadata": {
        "id": "N1P-n1TMqjja"
      }
    },
    {
      "cell_type": "code",
      "source": [
        "train['Code'].value_counts()"
      ],
      "metadata": {
        "colab": {
          "base_uri": "https://localhost:8080/"
        },
        "id": "DMGTcMErsDCS",
        "outputId": "4603fddc-245b-4e22-ed95-bf49e492cd8c"
      },
      "execution_count": 4,
      "outputs": [
        {
          "output_type": "execute_result",
          "data": {
            "text/plain": [
              "200    22514\n",
              "201     1497\n",
              "400      590\n",
              "404      484\n",
              "204      278\n",
              "302       46\n",
              "500       43\n",
              "Name: Code, dtype: int64"
            ]
          },
          "metadata": {},
          "execution_count": 4
        }
      ]
    },
    {
      "cell_type": "code",
      "source": [
        "one_hot_encoded_train = pd.get_dummies(train, columns = ['Code'])\n",
        "print(one_hot_encoded_train)"
      ],
      "metadata": {
        "colab": {
          "base_uri": "https://localhost:8080/"
        },
        "id": "gnadUxK_sK-L",
        "outputId": "f32252e8-81ca-4116-f0cd-59dce81c01b2"
      },
      "execution_count": 5,
      "outputs": [
        {
          "output_type": "stream",
          "name": "stdout",
          "text": [
            "           Time Method  Delay  Y  Code_200  Code_201  Code_204  Code_302  \\\n",
            "0      11:00:00    GET  15000  1         1         0         0         0   \n",
            "1      11:00:01   POST  15000  1         0         1         0         0   \n",
            "2      11:00:02   POST  16000  1         0         1         0         0   \n",
            "3      11:00:03    GET  16000  1         1         0         0         0   \n",
            "4      11:00:04    GET  18000  1         1         0         0         0   \n",
            "...         ...    ...    ... ..       ...       ...       ...       ...   \n",
            "25447  18:03:23    GET  15000  1         1         0         0         0   \n",
            "25448  18:03:24    GET  16000  1         1         0         0         0   \n",
            "25449  18:03:25    GET  15000  1         1         0         0         0   \n",
            "25450  18:03:26    GET  16000  1         1         0         0         0   \n",
            "25451  18:03:27    GET  15000  1         1         0         0         0   \n",
            "\n",
            "       Code_400  Code_404  Code_500  \n",
            "0             0         0         0  \n",
            "1             0         0         0  \n",
            "2             0         0         0  \n",
            "3             0         0         0  \n",
            "4             0         0         0  \n",
            "...         ...       ...       ...  \n",
            "25447         0         0         0  \n",
            "25448         0         0         0  \n",
            "25449         0         0         0  \n",
            "25450         0         0         0  \n",
            "25451         0         0         0  \n",
            "\n",
            "[25452 rows x 11 columns]\n"
          ]
        }
      ]
    },
    {
      "cell_type": "code",
      "source": [
        "train = one_hot_encoded_train[[\"Delay\", \"Code_200\", \"Code_201\", \"Code_204\", \"Code_302\", \"Code_400\", \"Code_404\", \"Code_500\",\"Y\"]]"
      ],
      "metadata": {
        "id": "Jv3mtp_9sYNt"
      },
      "execution_count": 6,
      "outputs": []
    },
    {
      "cell_type": "code",
      "source": [
        "print(train.head)"
      ],
      "metadata": {
        "colab": {
          "base_uri": "https://localhost:8080/"
        },
        "id": "Ij6VZWtOMiK7",
        "outputId": "fa1ef786-ef08-47f6-9f41-075e360fe9b9"
      },
      "execution_count": 7,
      "outputs": [
        {
          "output_type": "stream",
          "name": "stdout",
          "text": [
            "<bound method NDFrame.head of        Delay  Code_200  Code_201  Code_204  Code_302  Code_400  Code_404  \\\n",
            "0      15000         1         0         0         0         0         0   \n",
            "1      15000         0         1         0         0         0         0   \n",
            "2      16000         0         1         0         0         0         0   \n",
            "3      16000         1         0         0         0         0         0   \n",
            "4      18000         1         0         0         0         0         0   \n",
            "...      ...       ...       ...       ...       ...       ...       ...   \n",
            "25447  15000         1         0         0         0         0         0   \n",
            "25448  16000         1         0         0         0         0         0   \n",
            "25449  15000         1         0         0         0         0         0   \n",
            "25450  16000         1         0         0         0         0         0   \n",
            "25451  15000         1         0         0         0         0         0   \n",
            "\n",
            "       Code_500  Y  \n",
            "0             0  1  \n",
            "1             0  1  \n",
            "2             0  1  \n",
            "3             0  1  \n",
            "4             0  1  \n",
            "...         ... ..  \n",
            "25447         0  1  \n",
            "25448         0  1  \n",
            "25449         0  1  \n",
            "25450         0  1  \n",
            "25451         0  1  \n",
            "\n",
            "[25452 rows x 9 columns]>\n"
          ]
        }
      ]
    },
    {
      "cell_type": "code",
      "source": [
        "X_train=train[[\"Delay\", \"Code_200\", \"Code_201\", \"Code_204\", \"Code_302\", \"Code_400\", \"Code_404\", \"Code_500\"]]\n",
        "y_train=train[[\"Y\"]]"
      ],
      "metadata": {
        "id": "5cRN0VN2MXfS"
      },
      "execution_count": 8,
      "outputs": []
    },
    {
      "cell_type": "code",
      "source": [
        "test = pd.read_csv(\"test.csv\")\n",
        "one_hot_encoded_test = pd.get_dummies(test, columns = ['Code'])"
      ],
      "metadata": {
        "id": "GBF1UlMhh1sR"
      },
      "execution_count": 9,
      "outputs": []
    },
    {
      "cell_type": "code",
      "source": [
        "test = one_hot_encoded_test[[\"Delay\", \"Code_200\", \"Code_201\", \"Code_204\", \"Code_302\", \"Code_400\", \"Code_404\", \"Code_500\",\"Y\"]]"
      ],
      "metadata": {
        "id": "meHjXBPiL19j"
      },
      "execution_count": 10,
      "outputs": []
    },
    {
      "cell_type": "code",
      "source": [
        "X_test=test[[\"Delay\", \"Code_200\", \"Code_201\", \"Code_204\", \"Code_302\", \"Code_400\", \"Code_404\", \"Code_500\"]]\n",
        "y_test=test[[\"Y\"]]"
      ],
      "metadata": {
        "id": "3au1n5vBj0ts"
      },
      "execution_count": 11,
      "outputs": []
    },
    {
      "cell_type": "code",
      "source": [
        "print(y_train.head())\n",
        "print(X_train.head())\n"
      ],
      "metadata": {
        "colab": {
          "base_uri": "https://localhost:8080/"
        },
        "id": "Kn3eku7-yGt8",
        "outputId": "e3b2e067-5574-447a-9a20-fcb6b7dd11a5"
      },
      "execution_count": 12,
      "outputs": [
        {
          "output_type": "stream",
          "name": "stdout",
          "text": [
            "   Y\n",
            "0  1\n",
            "1  1\n",
            "2  1\n",
            "3  1\n",
            "4  1\n",
            "   Delay  Code_200  Code_201  Code_204  Code_302  Code_400  Code_404  Code_500\n",
            "0  15000         1         0         0         0         0         0         0\n",
            "1  15000         0         1         0         0         0         0         0\n",
            "2  16000         0         1         0         0         0         0         0\n",
            "3  16000         1         0         0         0         0         0         0\n",
            "4  18000         1         0         0         0         0         0         0\n"
          ]
        }
      ]
    },
    {
      "cell_type": "code",
      "source": [
        "y_train.loc[y_train[\"Y\"] == -1, \"Y\"] = 0\n",
        "y_test.loc[y_test[\"Y\"] == -1, \"Y\"] = 0"
      ],
      "metadata": {
        "colab": {
          "base_uri": "https://localhost:8080/"
        },
        "id": "ztYUinsHiAVJ",
        "outputId": "236bbdd6-bbd9-4a2d-da54-95cecdf34d6b"
      },
      "execution_count": 13,
      "outputs": [
        {
          "output_type": "stream",
          "name": "stderr",
          "text": [
            "/usr/local/lib/python3.7/dist-packages/pandas/core/indexing.py:1732: SettingWithCopyWarning: \n",
            "A value is trying to be set on a copy of a slice from a DataFrame\n",
            "\n",
            "See the caveats in the documentation: https://pandas.pydata.org/pandas-docs/stable/user_guide/indexing.html#returning-a-view-versus-a-copy\n",
            "  self._setitem_single_block(indexer, value, name)\n",
            "/usr/local/lib/python3.7/dist-packages/pandas/core/indexing.py:723: SettingWithCopyWarning: \n",
            "A value is trying to be set on a copy of a slice from a DataFrame\n",
            "\n",
            "See the caveats in the documentation: https://pandas.pydata.org/pandas-docs/stable/user_guide/indexing.html#returning-a-view-versus-a-copy\n",
            "  iloc._setitem_with_indexer(indexer, value, self.name)\n"
          ]
        }
      ]
    },
    {
      "cell_type": "markdown",
      "source": [
        "# Metrics"
      ],
      "metadata": {
        "id": "xMnu0bg92kJE"
      }
    },
    {
      "cell_type": "code",
      "source": [
        "def get_cm(labels, predictions, p=0.5):\n",
        "  cm = confusion_matrix(labels, predictions > p)\n",
        "  return cm\n",
        "\n",
        "def plot_cm(ax,labels, predictions,title, p=0.5):\n",
        "  tick_labels = ['Y', 'N']\n",
        "  cm = get_cm(labels, predictions, p)\n",
        "  sns.heatmap(cm, annot=True, fmt=\"d\",ax=ax)\n",
        "  ax.title.set_text(title)\n",
        "  ax.set_xticklabels(tick_labels)\n",
        "  ax.set_yticklabels(tick_labels)"
      ],
      "metadata": {
        "id": "2sEhpK1QwMxg"
      },
      "execution_count": 14,
      "outputs": []
    },
    {
      "cell_type": "markdown",
      "source": [
        "# Data Exploration"
      ],
      "metadata": {
        "id": "YBPU66OljaeE"
      }
    },
    {
      "cell_type": "code",
      "source": [
        "def percentage(part, whole):\n",
        "  return 100 * float(part) / float(whole)\n",
        "\n",
        "anamoly, not_anamoly = y_train.value_counts()\n",
        "print(f'Anamoly Resampled {anamoly}')\n",
        "print(f'Not-Anamoly Resampled {not_anamoly}')\n",
        "print(f'Subscribe Resampled proportion {round(percentage(anamoly,anamoly + not_anamoly), 2)}%')\n",
        "\n",
        "y_train.value_counts().plot(kind=\"bar\", title=\"Anamoly vs Not Anamoly\");"
      ],
      "metadata": {
        "colab": {
          "base_uri": "https://localhost:8080/",
          "height": 355
        },
        "id": "wB_JSGjUjeiO",
        "outputId": "06437cc0-379a-4aa5-db6b-18d6aa0765ac"
      },
      "execution_count": 15,
      "outputs": [
        {
          "output_type": "stream",
          "name": "stdout",
          "text": [
            "Anamoly Resampled 25408\n",
            "Not-Anamoly Resampled 44\n",
            "Subscribe Resampled proportion 99.83%\n"
          ]
        },
        {
          "output_type": "display_data",
          "data": {
            "text/plain": [
              "<Figure size 432x288 with 1 Axes>"
            ],
            "image/png": "[encoded data removed]"
          },
          "metadata": {
            "needs_background": "light"
          }
        }
      ]
    },
    {
      "cell_type": "markdown",
      "source": [
        "# Resampling"
      ],
      "metadata": {
        "id": "bXi1W3TST8Cw"
      }
    },
    {
      "cell_type": "code",
      "source": [
        "print(y_train['Y'].unique())\n",
        "print(y_train['Y'].unique())"
      ],
      "metadata": {
        "colab": {
          "base_uri": "https://localhost:8080/"
        },
        "id": "ggVHLMR5z_Uk",
        "outputId": "a4193d3a-f1c2-4a1d-93cf-aa2a7504f18f"
      },
      "execution_count": 16,
      "outputs": [
        {
          "output_type": "stream",
          "name": "stdout",
          "text": [
            "[1 0]\n",
            "[1 0]\n"
          ]
        }
      ]
    },
    {
      "cell_type": "code",
      "source": [
        "from imblearn.over_sampling import SMOTE\n",
        "smote = SMOTE(random_state=0,  k_neighbors=2)\n",
        "X_train_resampled, y_train_resampled = smote.fit_resample(X_train, y_train)\n"
      ],
      "metadata": {
        "id": "9BSPe-QpUNJj"
      },
      "execution_count": 17,
      "outputs": []
    },
    {
      "cell_type": "code",
      "source": [
        "def percentage(part, whole):\n",
        "  return 100 * float(part) / float(whole)\n",
        "\n",
        "anamoly_resampled, not_anamoly_resampled = y_train_resampled.value_counts()\n",
        "print(f'Anamoly Resampled {anamoly_resampled}')\n",
        "print(f'Not-Anamoly Resampled {not_anamoly_resampled}')\n",
        "print(f'Subscribe Resampled proportion {round(percentage(anamoly_resampled,anamoly_resampled + not_anamoly_resampled), 2)}%')\n",
        "\n",
        "y_train_resampled.value_counts().plot(kind=\"bar\", title=\"Anamoly Resampled vs Not Anamoly Resampled\");"
      ],
      "metadata": {
        "colab": {
          "base_uri": "https://localhost:8080/",
          "height": 355
        },
        "id": "XWoDIx0yVd_w",
        "outputId": "26b4913f-7b1c-4c0f-cf06-fd27b5154c6b"
      },
      "execution_count": 18,
      "outputs": [
        {
          "output_type": "stream",
          "name": "stdout",
          "text": [
            "Anamoly Resampled 25408\n",
            "Not-Anamoly Resampled 25408\n",
            "Subscribe Resampled proportion 50.0%\n"
          ]
        },
        {
          "output_type": "display_data",
          "data": {
            "text/plain": [
              "<Figure size 432x288 with 1 Axes>"
            ],
            "image/png": "[encoded data removed]"
          },
          "metadata": {
            "needs_background": "light"
          }
        }
      ]
    },
    {
      "cell_type": "code",
      "source": [
        "print(y_train_resampled.head(100))"
      ],
      "metadata": {
        "colab": {
          "base_uri": "https://localhost:8080/"
        },
        "id": "sWdvn1NHZxVY",
        "outputId": "a188318b-d86e-49c6-e11d-66d51d8fe2fc"
      },
      "execution_count": 19,
      "outputs": [
        {
          "output_type": "stream",
          "name": "stdout",
          "text": [
            "    Y\n",
            "0   1\n",
            "1   1\n",
            "2   1\n",
            "3   1\n",
            "4   1\n",
            ".. ..\n",
            "95  1\n",
            "96  1\n",
            "97  1\n",
            "98  1\n",
            "99  1\n",
            "\n",
            "[100 rows x 1 columns]\n"
          ]
        }
      ]
    },
    {
      "cell_type": "markdown",
      "source": [
        "# Weighting"
      ],
      "metadata": {
        "id": "9gopJ6cNgIPF"
      }
    },
    {
      "cell_type": "code",
      "source": [
        "anamoly_count, not_anamoly_count = np.bincount(y_train.Y)\n",
        "total_count = len(y_train.Y)\n",
        "\n",
        "weight_anamoly = ((1 / anamoly_count) * (total_count) / 2.0 )\n",
        "weight_not_anamoly = (((1 / not_anamoly_count) * (total_count) / 2.0 )) \n",
        "print(\"Anamoly:  \" + str(weight_anamoly))\n",
        "print(\"Not anamoly:  \" + str(weight_not_anamoly))\n",
        "class_weights = {0: weight_anamoly, 1: weight_not_anamoly}"
      ],
      "metadata": {
        "colab": {
          "base_uri": "https://localhost:8080/"
        },
        "id": "s9LNU4j_hhCi",
        "outputId": "489a8d54-9918-4a69-8bdf-431f63962b04"
      },
      "execution_count": 20,
      "outputs": [
        {
          "output_type": "stream",
          "name": "stdout",
          "text": [
            "Anamoly:  289.22727272727275\n",
            "Not anamoly:  0.5008658690176322\n"
          ]
        }
      ]
    },
    {
      "cell_type": "code",
      "source": [
        "from imblearn.ensemble import BalancedRandomForestClassifier\n",
        "\n",
        "clf = BalancedRandomForestClassifier(max_depth=2, random_state=0,class_weight=class_weights)\n",
        "clf.fit(X_train, y_train) \n",
        "predictions = clf.predict(X_test)\n",
        "fig, (ax1) = plt.subplots(1, 1,figsize=(20,6))\n",
        "plot_cm(ax1,y_test, predictions,\"random forest\")"
      ],
      "metadata": {
        "colab": {
          "base_uri": "https://localhost:8080/",
          "height": 441
        },
        "id": "a3W1CaE6gK5R",
        "outputId": "656b8324-6058-48e7-c747-b630651f5b60"
      },
      "execution_count": 21,
      "outputs": [
        {
          "output_type": "stream",
          "name": "stderr",
          "text": [
            "/usr/local/lib/python3.7/dist-packages/ipykernel_launcher.py:4: DataConversionWarning: A column-vector y was passed when a 1d array was expected. Please change the shape of y to (n_samples,), for example using ravel().\n",
            "  after removing the cwd from sys.path.\n"
          ]
        },
        {
          "output_type": "display_data",
          "data": {
            "text/plain": [
              "<Figure size 1440x432 with 2 Axes>"
            ],
            "image/png": "[encoded data removed]"
          },
          "metadata": {
            "needs_background": "light"
          }
        }
      ]
    },
    {
      "cell_type": "markdown",
      "source": [
        "# ML"
      ],
      "metadata": {
        "id": "q0qZ9863qsJ4"
      }
    },
    {
      "cell_type": "code",
      "source": [
        "from sklearn.metrics import precision_score\n",
        "from sklearn.metrics import recall_score\n",
        "\n",
        "models = {}\n",
        "\n",
        "models['LR'] = LogisticRegression()\n",
        "models['LDA'] = LinearDiscriminantAnalysis()\n",
        "models['KNN'] = KNeighborsClassifier()\n",
        "models['CART'] = DecisionTreeClassifier()\n",
        "models['NB'] = GaussianNB()\n",
        "models['SVM'] = SVC(gamma='auto')\n",
        "\n",
        "accuracy, precision, recall, predictions, accuracy_minority_class, accuracy_majority_class = {}, {}, {}, {}, {}, {}\n",
        "for key in models.keys():\n",
        "    models[key].fit(X_train_resampled, y_train_resampled['Y'])\n",
        "    predictions[key] = models[key].predict(X_test)\n",
        "    \n",
        "    accuracy[key] = accuracy_score(predictions[key], y_test['Y'])\n",
        "    precision[key] = precision_score(predictions[key], y_test['Y'])\n",
        "    recall[key] = recall_score(predictions[key], y_test['Y'])\n",
        "    true_positive = get_cm(y_test, predictions[key])[0][0]\n",
        "    false_negative = get_cm(y_test, predictions[key])[0][1]\n",
        "    false_positive = get_cm(y_test, predictions[key])[1][0]\n",
        "    true_negative = get_cm(y_test, predictions[key])[1][1]\n",
        "    accuracy_minority_class[key] = (true_positive/(true_positive + false_negative))\n",
        "    accuracy_majority_class[key] = (true_negative/(true_negative + false_positive))"
      ],
      "metadata": {
        "id": "OE2fKk8EzXEJ"
      },
      "execution_count": 33,
      "outputs": []
    },
    {
      "cell_type": "code",
      "source": [
        "import pandas as pd\n",
        "\n",
        "df_model = pd.DataFrame(index=models.keys(), columns=['Accuracy'])\n",
        "df_model = pd.DataFrame(index=models.keys(), columns=['Accuracy', 'Precision', 'Recall'])\n",
        "df_model['Accuracy'] = accuracy.values()\n",
        "df_model['Precision'] = precision.values()\n",
        "df_model['Recall'] = recall.values()\n",
        "df_model['AccuracyMinorityClass'] = accuracy_minority_class.values()\n",
        "df_model['AccuracyMajorityClass'] = accuracy_majority_class.values()\n",
        "\n",
        "print(df_model)\n",
        "\n",
        "plt.rc('xtick', labelsize=20) \n",
        "plt.rc('ytick', labelsize=20) \n",
        "ax  = df_model.plot.bar(rot=45,figsize=(20,12),title=\"Compare Supervised Learning Methods\")\n",
        "ax.legend(ncol= len(models.keys()), bbox_to_anchor=(0, 1), loc='lower left', prop={'size': 15})\n",
        "plt.tight_layout()"
      ],
      "metadata": {
        "colab": {
          "base_uri": "https://localhost:8080/",
          "height": 885
        },
        "id": "YnLQnDCT2Gy7",
        "outputId": "fa25f68a-5669-41f1-dd3a-ad53fecd3ce5"
      },
      "execution_count": 34,
      "outputs": [
        {
          "output_type": "stream",
          "name": "stdout",
          "text": [
            "      Accuracy  Precision    Recall  AccuracyMinorityClass  \\\n",
            "LR    0.862420   0.862742  0.998724               0.805556   \n",
            "LDA   0.996400   0.999528  0.996860               0.444444   \n",
            "KNN   0.997026   1.000000  0.997018               0.472222   \n",
            "CART  0.984192   0.986620  0.997454               0.555556   \n",
            "NB    0.959462   0.960334  0.998854               0.805556   \n",
            "SVM   0.984192   0.986620  0.997454               0.555556   \n",
            "\n",
            "      AccuracyMajorityClass  \n",
            "LR                 0.862742  \n",
            "LDA                0.999528  \n",
            "KNN                1.000000  \n",
            "CART               0.986620  \n",
            "NB                 0.960334  \n",
            "SVM                0.986620  \n"
          ]
        },
        {
          "output_type": "display_data",
          "data": {
            "text/plain": [
              "<Figure size 1440x864 with 1 Axes>"
            ],
            "image/png": "[encoded data removed]"
          },
          "metadata": {
            "needs_background": "light"
          }
        }
      ]
    },
    {
      "cell_type": "code",
      "source": [
        "fig, (ax1, ax2) = plt.subplots(1, 2,figsize=(20,6))\n",
        "plot_cm(ax1,y_test, predictions['KNN'],\"Correlation Matrix KNN\")\n",
        "plot_cm(ax2,y_test, predictions['LR'],\"Correlation Matrix LR\")"
      ],
      "metadata": {
        "colab": {
          "base_uri": "https://localhost:8080/",
          "height": 354
        },
        "id": "QVcMTmaP2VKz",
        "outputId": "0844b8f5-80b3-4398-cf97-cb999f70083f"
      },
      "execution_count": 24,
      "outputs": [
        {
          "output_type": "display_data",
          "data": {
            "text/plain": [
              "<Figure size 1440x432 with 4 Axes>"
            ],
            "image/png": "[encoded data removed]"
          },
          "metadata": {
            "needs_background": "light"
          }
        }
      ]
    },
    {
      "cell_type": "code",
      "source": [
        "get_cm(y_test, predictions['KNN'])[1][0]"
      ],
      "metadata": {
        "colab": {
          "base_uri": "https://localhost:8080/"
        },
        "id": "AACyie9Xg61I",
        "outputId": "44ee5d4c-c383-41f1-e257-27dd3dba08c3"
      },
      "execution_count": 30,
      "outputs": [
        {
          "output_type": "execute_result",
          "data": {
            "text/plain": [
              "0"
            ]
          },
          "metadata": {},
          "execution_count": 30
        }
      ]
    },
    {
      "cell_type": "markdown",
      "source": [
        "# Metrics"
      ],
      "metadata": {
        "id": "3bOahgoNOYD4"
      }
    },
    {
      "cell_type": "code",
      "source": [
        "import sklearn.metrics as metrics\n",
        "# calculate the fpr and tpr for all thresholds of the classification\n",
        "probs = models[\"KNN\"].predict_proba(X_test)\n",
        "prob = probs[:, 1]\n",
        "fper, tper, thresholds = metrics.roc_curve(y_test, prob)\n",
        "\n",
        "def plot_roc_curve(fper, tper):\n",
        "    plt.plot(fper, tper, color='red', label='ROC')\n",
        "    plt.plot([0, 1], [0, 1], color='green', linestyle='--')\n",
        "    plt.xlabel('False Positive Rate')\n",
        "    plt.ylabel('True Positive Rate')\n",
        "    plt.title('Receiver Operating Characteristic Curve')\n",
        "    plt.legend()\n",
        "    plt.show()\n",
        "\n",
        "plot_roc_curve(fper, tper)"
      ],
      "metadata": {
        "colab": {
          "base_uri": "https://localhost:8080/",
          "height": 304
        },
        "id": "Fkv5DyhJOb96",
        "outputId": "756d6d59-a00a-4cc1-ec43-0f13672d1737"
      },
      "execution_count": 25,
      "outputs": [
        {
          "output_type": "display_data",
          "data": {
            "text/plain": [
              "<Figure size 432x288 with 1 Axes>"
            ],
            "image/png": "[encoded data removed]"
          },
          "metadata": {
            "needs_background": "light"
          }
        }
      ]
    }
  ]
}