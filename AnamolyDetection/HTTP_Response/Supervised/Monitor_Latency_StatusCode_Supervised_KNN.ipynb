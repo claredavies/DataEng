{
  "nbformat": 4,
  "nbformat_minor": 0,
  "metadata": {
    "colab": {
      "name": "Monitor_Latency_StatusCode_Supervised_KNN.ipynb",
      "provenance": [],
      "collapsed_sections": [
        "DuL0zY4sqYJJ",
        "N1P-n1TMqjja",
        "xMnu0bg92kJE",
        "YBPU66OljaeE",
        "bXi1W3TST8Cw"
      ],
      "include_colab_link": true
    },
    "kernelspec": {
      "name": "python3",
      "display_name": "Python 3"
    },
    "language_info": {
      "name": "python"
    }
  },
  "cells": [
    {
      "cell_type": "markdown",
      "metadata": {
        "id": "view-in-github",
        "colab_type": "text"
      },
      "source": [
        "<a href=\"https://colab.research.google.com/github/claredavies/DataEngAPITesting/blob/master/AnamolyDetection/HTTP_Response/Supervised/Monitor_Latency_StatusCode_Supervised_KNN.ipynb\" target=\"_parent\"><img src=\"https://colab.research.google.com/assets/colab-badge.svg\" alt=\"Open In Colab\"/></a>"
      ]
    },
    {
      "cell_type": "markdown",
      "source": [
        "# Import libraries"
      ],
      "metadata": {
        "id": "cnktYU80qXau"
      }
    },
    {
      "cell_type": "code",
      "source": [
        "import pandas as pd\n",
        "from sklearn.neighbors import LocalOutlierFactor\n",
        "import matplotlib.pyplot as plt\n",
        "import numpy as np\n",
        "import seaborn as sns\n",
        "from sklearn.metrics import confusion_matrix\n",
        "!pip install pyod\n",
        "\n",
        "from pandas import read_csv\n",
        "from pandas.plotting import scatter_matrix\n",
        "from matplotlib import pyplot\n",
        "from sklearn.model_selection import train_test_split\n",
        "from sklearn.model_selection import cross_val_score\n",
        "from sklearn.model_selection import StratifiedKFold\n",
        "from sklearn.metrics import classification_report\n",
        "from sklearn.metrics import confusion_matrix\n",
        "from sklearn.metrics import accuracy_score\n",
        "from sklearn.linear_model import LogisticRegression\n",
        "from sklearn.tree import DecisionTreeClassifier\n",
        "from sklearn.neighbors import KNeighborsClassifier\n",
        "from sklearn.discriminant_analysis import LinearDiscriminantAnalysis\n",
        "from sklearn.naive_bayes import GaussianNB\n",
        "from sklearn.svm import SVC\n",
        "\n",
        "from sklearn.metrics import precision_score, recall_score, accuracy_score, f1_score, average_precision_score, roc_auc_score\n",
        "\n",
        "from pyod.models.mad import MAD\n",
        "from pyod.models.knn import KNN\n",
        "from pyod.models.lof import LOF"
      ],
      "metadata": {
        "id": "iJ3dnA3WMZ5R",
        "colab": {
          "base_uri": "https://localhost:8080/"
        },
        "outputId": "dc6e6036-c8a8-4f62-afb1-c4ea777f0054"
      },
      "execution_count": 36,
      "outputs": [
        {
          "output_type": "stream",
          "name": "stdout",
          "text": [
            "Requirement already satisfied: pyod in /usr/local/lib/python3.7/dist-packages (0.9.8)\n",
            "Requirement already satisfied: numba>=0.35 in /usr/local/lib/python3.7/dist-packages (from pyod) (0.51.2)\n",
            "Requirement already satisfied: scikit-learn>=0.20.0 in /usr/local/lib/python3.7/dist-packages (from pyod) (1.0.2)\n",
            "Requirement already satisfied: six in /usr/local/lib/python3.7/dist-packages (from pyod) (1.15.0)\n",
            "Requirement already satisfied: statsmodels in /usr/local/lib/python3.7/dist-packages (from pyod) (0.10.2)\n",
            "Requirement already satisfied: scipy>=1.3.1 in /usr/local/lib/python3.7/dist-packages (from pyod) (1.4.1)\n",
            "Requirement already satisfied: joblib in /usr/local/lib/python3.7/dist-packages (from pyod) (1.1.0)\n",
            "Requirement already satisfied: numpy>=1.13 in /usr/local/lib/python3.7/dist-packages (from pyod) (1.21.5)\n",
            "Requirement already satisfied: matplotlib in /usr/local/lib/python3.7/dist-packages (from pyod) (3.2.2)\n",
            "Requirement already satisfied: llvmlite<0.35,>=0.34.0.dev0 in /usr/local/lib/python3.7/dist-packages (from numba>=0.35->pyod) (0.34.0)\n",
            "Requirement already satisfied: setuptools in /usr/local/lib/python3.7/dist-packages (from numba>=0.35->pyod) (57.4.0)\n",
            "Requirement already satisfied: threadpoolctl>=2.0.0 in /usr/local/lib/python3.7/dist-packages (from scikit-learn>=0.20.0->pyod) (3.1.0)\n",
            "Requirement already satisfied: python-dateutil>=2.1 in /usr/local/lib/python3.7/dist-packages (from matplotlib->pyod) (2.8.2)\n",
            "Requirement already satisfied: cycler>=0.10 in /usr/local/lib/python3.7/dist-packages (from matplotlib->pyod) (0.11.0)\n",
            "Requirement already satisfied: kiwisolver>=1.0.1 in /usr/local/lib/python3.7/dist-packages (from matplotlib->pyod) (1.4.0)\n",
            "Requirement already satisfied: pyparsing!=2.0.4,!=2.1.2,!=2.1.6,>=2.0.1 in /usr/local/lib/python3.7/dist-packages (from matplotlib->pyod) (3.0.7)\n",
            "Requirement already satisfied: typing-extensions in /usr/local/lib/python3.7/dist-packages (from kiwisolver>=1.0.1->matplotlib->pyod) (3.10.0.2)\n",
            "Requirement already satisfied: patsy>=0.4.0 in /usr/local/lib/python3.7/dist-packages (from statsmodels->pyod) (0.5.2)\n",
            "Requirement already satisfied: pandas>=0.19 in /usr/local/lib/python3.7/dist-packages (from statsmodels->pyod) (1.3.5)\n",
            "Requirement already satisfied: pytz>=2017.3 in /usr/local/lib/python3.7/dist-packages (from pandas>=0.19->statsmodels->pyod) (2018.9)\n"
          ]
        }
      ]
    },
    {
      "cell_type": "markdown",
      "source": [
        "# Read in data"
      ],
      "metadata": {
        "id": "DuL0zY4sqYJJ"
      }
    },
    {
      "cell_type": "code",
      "source": [
        "train = pd.read_csv(\"Traffic_train.csv\")\n",
        "test = pd.read_csv(\"Traffic_test3.csv\")\n",
        "print(train.head())"
      ],
      "metadata": {
        "colab": {
          "base_uri": "https://localhost:8080/"
        },
        "id": "XZF5lZMRrwHx",
        "outputId": "448a9325-0603-4208-f954-dfd6633b4070"
      },
      "execution_count": 2,
      "outputs": [
        {
          "output_type": "stream",
          "name": "stdout",
          "text": [
            "   Delay  Code  Y\n",
            "0  15000   302  1\n",
            "1      0   302  1\n",
            "2      0   302  1\n",
            "3  11000   302  1\n",
            "4  19000   302  1\n"
          ]
        }
      ]
    },
    {
      "cell_type": "code",
      "source": [
        "print(train['Code'].unique())"
      ],
      "metadata": {
        "colab": {
          "base_uri": "https://localhost:8080/"
        },
        "id": "osQT7qhGr7NS",
        "outputId": "82150a53-a7f3-4ad3-8963-36683ae5e6ef"
      },
      "execution_count": 3,
      "outputs": [
        {
          "output_type": "stream",
          "name": "stdout",
          "text": [
            "[302 200 404 400 201 500 204]\n"
          ]
        }
      ]
    },
    {
      "cell_type": "markdown",
      "source": [
        "# Data Processing"
      ],
      "metadata": {
        "id": "N1P-n1TMqjja"
      }
    },
    {
      "cell_type": "code",
      "source": [
        "train['Code'].value_counts()"
      ],
      "metadata": {
        "colab": {
          "base_uri": "https://localhost:8080/"
        },
        "id": "DMGTcMErsDCS",
        "outputId": "c6f63403-1aa0-4121-84f7-8ac5df72ee1d"
      },
      "execution_count": 4,
      "outputs": [
        {
          "output_type": "execute_result",
          "data": {
            "text/plain": [
              "200    5918\n",
              "201     967\n",
              "400     670\n",
              "404     314\n",
              "204     186\n",
              "500      36\n",
              "302      35\n",
              "Name: Code, dtype: int64"
            ]
          },
          "metadata": {},
          "execution_count": 4
        }
      ]
    },
    {
      "cell_type": "code",
      "source": [
        "one_hot_encoded_train = pd.get_dummies(train, columns = ['Code'])\n",
        "print(one_hot_encoded_train)"
      ],
      "metadata": {
        "colab": {
          "base_uri": "https://localhost:8080/"
        },
        "id": "gnadUxK_sK-L",
        "outputId": "3942bf82-d0b8-4283-bd95-158fe0ed0e7d"
      },
      "execution_count": 5,
      "outputs": [
        {
          "output_type": "stream",
          "name": "stdout",
          "text": [
            "      Delay  Y  Code_200  Code_201  Code_204  Code_302  Code_400  Code_404  \\\n",
            "0     15000  1         0         0         0         1         0         0   \n",
            "1         0  1         0         0         0         1         0         0   \n",
            "2         0  1         0         0         0         1         0         0   \n",
            "3     11000  1         0         0         0         1         0         0   \n",
            "4     19000  1         0         0         0         1         0         0   \n",
            "...     ... ..       ...       ...       ...       ...       ...       ...   \n",
            "8121  13000  1         1         0         0         0         0         0   \n",
            "8122  14000  1         1         0         0         0         0         0   \n",
            "8123  21000  1         1         0         0         0         0         0   \n",
            "8124  15000  1         1         0         0         0         0         0   \n",
            "8125  17000  1         1         0         0         0         0         0   \n",
            "\n",
            "      Code_500  \n",
            "0            0  \n",
            "1            0  \n",
            "2            0  \n",
            "3            0  \n",
            "4            0  \n",
            "...        ...  \n",
            "8121         0  \n",
            "8122         0  \n",
            "8123         0  \n",
            "8124         0  \n",
            "8125         0  \n",
            "\n",
            "[8126 rows x 9 columns]\n"
          ]
        }
      ]
    },
    {
      "cell_type": "code",
      "source": [
        "train = one_hot_encoded_train[[\"Delay\", \"Code_200\", \"Code_201\", \"Code_204\", \"Code_302\", \"Code_400\", \"Code_404\", \"Code_500\",\"Y\"]]"
      ],
      "metadata": {
        "id": "Jv3mtp_9sYNt"
      },
      "execution_count": 6,
      "outputs": []
    },
    {
      "cell_type": "code",
      "source": [
        "print(train.head)"
      ],
      "metadata": {
        "colab": {
          "base_uri": "https://localhost:8080/"
        },
        "id": "Ij6VZWtOMiK7",
        "outputId": "2065c57b-8ef7-422c-86e8-eb82c6fad1c6"
      },
      "execution_count": 7,
      "outputs": [
        {
          "output_type": "stream",
          "name": "stdout",
          "text": [
            "<bound method NDFrame.head of       Delay  Code_200  Code_201  Code_204  Code_302  Code_400  Code_404  \\\n",
            "0     15000         0         0         0         1         0         0   \n",
            "1         0         0         0         0         1         0         0   \n",
            "2         0         0         0         0         1         0         0   \n",
            "3     11000         0         0         0         1         0         0   \n",
            "4     19000         0         0         0         1         0         0   \n",
            "...     ...       ...       ...       ...       ...       ...       ...   \n",
            "8121  13000         1         0         0         0         0         0   \n",
            "8122  14000         1         0         0         0         0         0   \n",
            "8123  21000         1         0         0         0         0         0   \n",
            "8124  15000         1         0         0         0         0         0   \n",
            "8125  17000         1         0         0         0         0         0   \n",
            "\n",
            "      Code_500  Y  \n",
            "0            0  1  \n",
            "1            0  1  \n",
            "2            0  1  \n",
            "3            0  1  \n",
            "4            0  1  \n",
            "...        ... ..  \n",
            "8121         0  1  \n",
            "8122         0  1  \n",
            "8123         0  1  \n",
            "8124         0  1  \n",
            "8125         0  1  \n",
            "\n",
            "[8126 rows x 9 columns]>\n"
          ]
        }
      ]
    },
    {
      "cell_type": "code",
      "source": [
        "X_train=train[[\"Delay\", \"Code_200\", \"Code_201\", \"Code_204\", \"Code_302\", \"Code_400\", \"Code_404\", \"Code_500\"]]\n",
        "y_train=train[[\"Y\"]]"
      ],
      "metadata": {
        "id": "5cRN0VN2MXfS"
      },
      "execution_count": 8,
      "outputs": []
    },
    {
      "cell_type": "code",
      "source": [
        "test = pd.read_csv(\"Traffic_test3.csv\")\n",
        "one_hot_encoded_test = pd.get_dummies(test, columns = ['Code'])"
      ],
      "metadata": {
        "id": "GBF1UlMhh1sR"
      },
      "execution_count": 9,
      "outputs": []
    },
    {
      "cell_type": "code",
      "source": [
        "test = one_hot_encoded_test[[\"Delay\", \"Code_200\", \"Code_201\", \"Code_204\", \"Code_302\", \"Code_400\", \"Code_404\", \"Code_500\",\"Y\"]]"
      ],
      "metadata": {
        "id": "meHjXBPiL19j"
      },
      "execution_count": 10,
      "outputs": []
    },
    {
      "cell_type": "code",
      "source": [
        "X_test=test[[\"Delay\", \"Code_200\", \"Code_201\", \"Code_204\", \"Code_302\", \"Code_400\", \"Code_404\", \"Code_500\"]]\n",
        "y_test=test[[\"Y\"]]"
      ],
      "metadata": {
        "id": "3au1n5vBj0ts"
      },
      "execution_count": 11,
      "outputs": []
    },
    {
      "cell_type": "code",
      "source": [
        "print(y_train.head())\n",
        "print(X_train.head())\n"
      ],
      "metadata": {
        "colab": {
          "base_uri": "https://localhost:8080/"
        },
        "id": "Kn3eku7-yGt8",
        "outputId": "880d4d52-f9d0-42e6-c4dd-97e700939083"
      },
      "execution_count": 12,
      "outputs": [
        {
          "output_type": "stream",
          "name": "stdout",
          "text": [
            "   Y\n",
            "0  1\n",
            "1  1\n",
            "2  1\n",
            "3  1\n",
            "4  1\n",
            "   Delay  Code_200  Code_201  Code_204  Code_302  Code_400  Code_404  Code_500\n",
            "0  15000         0         0         0         1         0         0         0\n",
            "1      0         0         0         0         1         0         0         0\n",
            "2      0         0         0         0         1         0         0         0\n",
            "3  11000         0         0         0         1         0         0         0\n",
            "4  19000         0         0         0         1         0         0         0\n"
          ]
        }
      ]
    },
    {
      "cell_type": "code",
      "source": [
        "y_train.loc[y_train[\"Y\"] == -1, \"Y\"] = 0\n",
        "y_test.loc[y_test[\"Y\"] == -1, \"Y\"] = 0"
      ],
      "metadata": {
        "colab": {
          "base_uri": "https://localhost:8080/"
        },
        "id": "ztYUinsHiAVJ",
        "outputId": "a04602da-8ee2-442b-ecd7-be9974732ff0"
      },
      "execution_count": 13,
      "outputs": [
        {
          "output_type": "stream",
          "name": "stderr",
          "text": [
            "/usr/local/lib/python3.7/dist-packages/pandas/core/indexing.py:1732: SettingWithCopyWarning: \n",
            "A value is trying to be set on a copy of a slice from a DataFrame\n",
            "\n",
            "See the caveats in the documentation: https://pandas.pydata.org/pandas-docs/stable/user_guide/indexing.html#returning-a-view-versus-a-copy\n",
            "  self._setitem_single_block(indexer, value, name)\n",
            "/usr/local/lib/python3.7/dist-packages/pandas/core/indexing.py:723: SettingWithCopyWarning: \n",
            "A value is trying to be set on a copy of a slice from a DataFrame\n",
            "\n",
            "See the caveats in the documentation: https://pandas.pydata.org/pandas-docs/stable/user_guide/indexing.html#returning-a-view-versus-a-copy\n",
            "  iloc._setitem_with_indexer(indexer, value, self.name)\n"
          ]
        }
      ]
    },
    {
      "cell_type": "markdown",
      "source": [
        "# Metrics"
      ],
      "metadata": {
        "id": "xMnu0bg92kJE"
      }
    },
    {
      "cell_type": "code",
      "source": [
        "def get_cm(labels, predictions, p=0.5):\n",
        "  cm = confusion_matrix(labels, predictions > p)\n",
        "  return cm\n",
        "\n",
        "def plot_cm(ax,labels, predictions,title, p=0.5):\n",
        "  tick_labels = ['Y', 'N']\n",
        "  cm = get_cm(labels, predictions, p)\n",
        "  sns.heatmap(cm, annot=True, fmt=\"d\",ax=ax)\n",
        "  ax.title.set_text(title)\n",
        "  ax.set_xticklabels(tick_labels)\n",
        "  ax.set_yticklabels(tick_labels)"
      ],
      "metadata": {
        "id": "2sEhpK1QwMxg"
      },
      "execution_count": 14,
      "outputs": []
    },
    {
      "cell_type": "markdown",
      "source": [
        "# Data Exploration"
      ],
      "metadata": {
        "id": "YBPU66OljaeE"
      }
    },
    {
      "cell_type": "code",
      "source": [
        "def percentage(part, whole):\n",
        "  return 100 * float(part) / float(whole)\n",
        "\n",
        "anamoly, not_anamoly = y_train.value_counts()\n",
        "print(f'Anamoly Resampled {anamoly}')\n",
        "print(f'Not-Anamoly Resampled {not_anamoly}')\n",
        "print(f'Subscribe Resampled proportion {round(percentage(anamoly,anamoly + not_anamoly), 2)}%')\n",
        "\n",
        "y_train.value_counts().plot(kind=\"bar\", title=\"Anamoly vs Not Anamoly\");"
      ],
      "metadata": {
        "colab": {
          "base_uri": "https://localhost:8080/",
          "height": 0
        },
        "id": "wB_JSGjUjeiO",
        "outputId": "acab6557-3f60-47f8-b893-5fc6cf9b70e9"
      },
      "execution_count": 15,
      "outputs": [
        {
          "output_type": "stream",
          "name": "stdout",
          "text": [
            "Anamoly Resampled 8089\n",
            "Not-Anamoly Resampled 37\n",
            "Subscribe Resampled proportion 99.54%\n"
          ]
        },
        {
          "output_type": "display_data",
          "data": {
            "text/plain": [
              "<Figure size 432x288 with 1 Axes>"
            ],
            "image/png": "[encoded data removed]"
          },
          "metadata": {
            "needs_background": "light"
          }
        }
      ]
    },
    {
      "cell_type": "markdown",
      "source": [
        "# Resampling"
      ],
      "metadata": {
        "id": "bXi1W3TST8Cw"
      }
    },
    {
      "cell_type": "code",
      "source": [
        "print(y_train['Y'].unique())\n",
        "print(y_train['Y'].unique())"
      ],
      "metadata": {
        "colab": {
          "base_uri": "https://localhost:8080/"
        },
        "id": "ggVHLMR5z_Uk",
        "outputId": "f5387ed0-634d-485b-fb1c-3ade4c3f88ca"
      },
      "execution_count": 16,
      "outputs": [
        {
          "output_type": "stream",
          "name": "stdout",
          "text": [
            "[1 0]\n",
            "[1 0]\n"
          ]
        }
      ]
    },
    {
      "cell_type": "code",
      "source": [
        "from imblearn.over_sampling import SMOTE\n",
        "smote = SMOTE(random_state=0,  k_neighbors=2)\n",
        "X_train_resampled, y_train_resampled = smote.fit_resample(X_train, y_train)\n"
      ],
      "metadata": {
        "id": "9BSPe-QpUNJj"
      },
      "execution_count": 17,
      "outputs": []
    },
    {
      "cell_type": "code",
      "source": [
        "def percentage(part, whole):\n",
        "  return 100 * float(part) / float(whole)\n",
        "\n",
        "anamoly_resampled, not_anamoly_resampled = y_train_resampled.value_counts()\n",
        "print(f'Anamoly Resampled {anamoly_resampled}')\n",
        "print(f'Not-Anamoly Resampled {not_anamoly_resampled}')\n",
        "print(f'Subscribe Resampled proportion {round(percentage(anamoly_resampled,anamoly_resampled + not_anamoly_resampled), 2)}%')\n",
        "\n",
        "y_train_resampled.value_counts().plot(kind=\"bar\", title=\"Anamoly Resampled vs Not Anamoly Resampled\");"
      ],
      "metadata": {
        "colab": {
          "base_uri": "https://localhost:8080/",
          "height": 0
        },
        "id": "XWoDIx0yVd_w",
        "outputId": "e6837f6f-e192-4aba-93aa-b00e624372c0"
      },
      "execution_count": 18,
      "outputs": [
        {
          "output_type": "stream",
          "name": "stdout",
          "text": [
            "Anamoly Resampled 8089\n",
            "Not-Anamoly Resampled 8089\n",
            "Subscribe Resampled proportion 50.0%\n"
          ]
        },
        {
          "output_type": "display_data",
          "data": {
            "text/plain": [
              "<Figure size 432x288 with 1 Axes>"
            ],
            "image/png": "[encoded data removed]"
          },
          "metadata": {
            "needs_background": "light"
          }
        }
      ]
    },
    {
      "cell_type": "code",
      "source": [
        "print(y_train_resampled.head(100))"
      ],
      "metadata": {
        "colab": {
          "base_uri": "https://localhost:8080/"
        },
        "id": "sWdvn1NHZxVY",
        "outputId": "bfcd4395-e347-4595-9352-8014c4be602a"
      },
      "execution_count": 19,
      "outputs": [
        {
          "output_type": "stream",
          "name": "stdout",
          "text": [
            "    Y\n",
            "0   1\n",
            "1   1\n",
            "2   1\n",
            "3   1\n",
            "4   1\n",
            ".. ..\n",
            "95  1\n",
            "96  1\n",
            "97  1\n",
            "98  1\n",
            "99  1\n",
            "\n",
            "[100 rows x 1 columns]\n"
          ]
        }
      ]
    },
    {
      "cell_type": "markdown",
      "source": [
        "# Weighting"
      ],
      "metadata": {
        "id": "9gopJ6cNgIPF"
      }
    },
    {
      "cell_type": "code",
      "source": [
        "anamoly_count, not_anamoly_count = np.bincount(y_train.Y)\n",
        "total_count = len(y_train.Y)\n",
        "\n",
        "weight_anamoly = ((1 / anamoly_count) * (total_count) / 2.0 )\n",
        "weight_not_anamoly = (((1 / not_anamoly_count) * (total_count) / 2.0 )) \n",
        "print(\"Anamoly:  \" + str(weight_anamoly))\n",
        "print(\"Not anamoly:  \" + str(weight_not_anamoly))\n",
        "class_weights = {0: weight_anamoly, 1: weight_not_anamoly}"
      ],
      "metadata": {
        "colab": {
          "base_uri": "https://localhost:8080/"
        },
        "id": "s9LNU4j_hhCi",
        "outputId": "f5377618-1293-425c-ee67-c6a31a238bde"
      },
      "execution_count": 20,
      "outputs": [
        {
          "output_type": "stream",
          "name": "stdout",
          "text": [
            "Anamoly:  109.81081081081082\n",
            "Not anamoly:  0.5022870564964768\n"
          ]
        }
      ]
    },
    {
      "cell_type": "code",
      "source": [
        "from imblearn.ensemble import BalancedRandomForestClassifier\n",
        "\n",
        "clf = BalancedRandomForestClassifier(max_depth=2, random_state=0,class_weight=class_weights)\n",
        "clf.fit(X_train, y_train) \n",
        "predictions = clf.predict(X_test)\n",
        "fig, (ax1) = plt.subplots(1, 1,figsize=(20,6))\n",
        "plot_cm(ax1,y_test, predictions,\"random forest\")"
      ],
      "metadata": {
        "colab": {
          "base_uri": "https://localhost:8080/",
          "height": 445
        },
        "id": "a3W1CaE6gK5R",
        "outputId": "08582cb8-38b2-4e92-a9c7-c06b3bd5927b"
      },
      "execution_count": 22,
      "outputs": [
        {
          "output_type": "stream",
          "name": "stderr",
          "text": [
            "/usr/local/lib/python3.7/dist-packages/ipykernel_launcher.py:4: DataConversionWarning: A column-vector y was passed when a 1d array was expected. Please change the shape of y to (n_samples,), for example using ravel().\n",
            "  after removing the cwd from sys.path.\n"
          ]
        },
        {
          "output_type": "display_data",
          "data": {
            "text/plain": [
              "<Figure size 1440x432 with 2 Axes>"
            ],
            "image/png": "[encoded data removed]"
          },
          "metadata": {
            "needs_background": "light"
          }
        }
      ]
    },
    {
      "cell_type": "markdown",
      "source": [
        "# ML"
      ],
      "metadata": {
        "id": "q0qZ9863qsJ4"
      }
    },
    {
      "cell_type": "code",
      "source": [
        "from sklearn.metrics import precision_score\n",
        "from sklearn.metrics import recall_score\n",
        "from sklearn.metrics import roc_auc_score\n",
        "from sklearn.metrics import f1_score\n",
        "\n",
        "models = {}\n",
        "\n",
        "models['LR'] = LogisticRegression(solver='lbfgs',class_weight=class_weights)\n",
        "models['RandomForest'] = BalancedRandomForestClassifier(max_depth=2, random_state=0,class_weight=class_weights)\n",
        "models['KNN'] = KNeighborsClassifier( weights='distance')\n",
        "models['SVM'] = SVC(gamma='auto',class_weight=class_weights)\n",
        "\n",
        "accuracy, f1, roc_auc, predictions, AnamolyCorrectFraction, NonAnamolyCorrectFraction = {}, {}, {}, {}, {}, {}\n",
        "for key in models.keys():\n",
        "    models[key].fit(X_train, y_train['Y'])\n",
        "    predictions[key] = models[key].predict(X_test)\n",
        "\n",
        "    accuracy[key] = accuracy_score(y_test['Y'], predictions[key])\n",
        "    f1[key] = f1_score(y_test['Y'], predictions[key])\n",
        "    roc_auc[key] = roc_auc_score(y_test['Y'], predictions[key])\n",
        "    tn, fp, fn, tp = confusion_matrix(y_test, predictions[key]).ravel()\n",
        "    AnamolyCorrectFraction[key] = (tn/(tn+fp))\n",
        "    NonAnamolyCorrectFraction[key] = (tp/(tp+fn))\n"
      ],
      "metadata": {
        "id": "OE2fKk8EzXEJ"
      },
      "execution_count": 64,
      "outputs": []
    },
    {
      "cell_type": "code",
      "source": [
        "import pandas as pd\n",
        "pd.set_option('display.max_rows', 500)\n",
        "pd.set_option('display.max_columns', 500)\n",
        "pd.set_option('display.width', 1000)\n",
        "\n",
        "df_model = pd.DataFrame(index=models.keys(), columns=['Accuracy', 'f1_score', 'roc_auc','AnamolyCorrectFraction','NonAnamolyCorrectFraction'])\n",
        "df_model['Accuracy'] = accuracy.values()\n",
        "df_model['f1_score'] = f1.values()\n",
        "df_model['roc_auc'] = roc_auc.values()\n",
        "df_model['AnamolyCorrectFraction'] =  AnamolyCorrectFraction.values()\n",
        "df_model['NonAnamolyCorrectFraction'] = NonAnamolyCorrectFraction.values()\n",
        "\n",
        "print(df_model)\n",
        "\n",
        "plt.rc('xtick', labelsize=20) \n",
        "plt.rc('ytick', labelsize=20) \n",
        "ax  = df_model.plot.bar(rot=45,figsize=(20,12),title=\"Compare Supervised Learning Methods\")\n",
        "ax.legend(ncol= len(models.keys()), bbox_to_anchor=(0, 1), loc='lower left', prop={'size': 10})\n",
        "plt.tight_layout()"
      ],
      "metadata": {
        "colab": {
          "base_uri": "https://localhost:8080/",
          "height": 892
        },
        "id": "YnLQnDCT2Gy7",
        "outputId": "22e6bc54-59f4-4ba2-9949-88e8c8425209"
      },
      "execution_count": 69,
      "outputs": [
        {
          "output_type": "stream",
          "name": "stdout",
          "text": [
            "              Accuracy  f1_score   roc_auc  AnamolyCorrectFraction  NonAnamolyCorrectFraction\n",
            "LR            0.970874  0.984925  0.744949                     0.5                   0.989899\n",
            "RandomForest  1.000000  1.000000  1.000000                     1.0                   1.000000\n",
            "KNN           0.961165  0.980198  0.500000                     0.0                   1.000000\n",
            "SVM           0.980583  0.990000  0.750000                     0.5                   1.000000\n"
          ]
        },
        {
          "output_type": "display_data",
          "data": {
            "text/plain": [
              "<Figure size 1440x864 with 1 Axes>"
            ],
            "image/png": "[encoded data removed]"
          },
          "metadata": {
            "needs_background": "light"
          }
        }
      ]
    },
    {
      "cell_type": "code",
      "source": [
        "evaluation_df = pd.DataFrame(confusion_matrix(y_test, predictions['KNN']), \n",
        "             columns=['Predicted Negative', 'Predicted Positive'], \n",
        "             index=['Actual Negative', 'Actual Positive'])"
      ],
      "metadata": {
        "id": "4fsJck7yL85Q"
      },
      "execution_count": 50,
      "outputs": []
    },
    {
      "cell_type": "code",
      "source": [
        "print(evaluation_df)"
      ],
      "metadata": {
        "colab": {
          "base_uri": "https://localhost:8080/"
        },
        "id": "1S2Rhl2XMMid",
        "outputId": "c253548f-9c49-412f-fbcf-4a15275c797a"
      },
      "execution_count": 51,
      "outputs": [
        {
          "output_type": "stream",
          "name": "stdout",
          "text": [
            "                 Predicted Negative  Predicted Positive\n",
            "Actual Negative                   0                   4\n",
            "Actual Positive                   0                  99\n"
          ]
        }
      ]
    },
    {
      "cell_type": "code",
      "source": [
        "fig, (ax1, ax2) = plt.subplots(1, 2,figsize=(20,6))\n",
        "plot_cm(ax1,y_test, predictions['KNN'],\"Correlation Matrix KNN\")\n",
        "plot_cm(ax2,y_test, predictions['LR'],\"Correlation Matrix LR\")"
      ],
      "metadata": {
        "colab": {
          "base_uri": "https://localhost:8080/",
          "height": 399
        },
        "id": "QVcMTmaP2VKz",
        "outputId": "b9b49c2a-4d7b-4dac-8b8c-034c749df809"
      },
      "execution_count": null,
      "outputs": [
        {
          "output_type": "display_data",
          "data": {
            "text/plain": [
              "<Figure size 1440x432 with 4 Axes>"
            ],
            "image/png": "[encoded data removed]"
          },
          "metadata": {
            "needs_background": "light"
          }
        }
      ]
    }
  ]
}