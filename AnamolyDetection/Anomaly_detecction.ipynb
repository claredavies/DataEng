{
  "nbformat": 4,
  "nbformat_minor": 0,
  "metadata": {
    "colab": {
      "name": "Anomaly detecction.ipynb",
      "provenance": []
    },
    "kernelspec": {
      "name": "python3",
      "display_name": "Python 3"
    },
    "language_info": {
      "name": "python"
    }
  },
  "cells": [
    {
      "cell_type": "code",
      "metadata": {
        "id": "b0zSU2n2Eu2u"
      },
      "source": [
        "import numpy as np\n",
        "import pandas as pd\n",
        "df = pd.DataFrame(np.random.randint(0,100,size=(780, 1)), columns=list('r'))"
      ],
      "execution_count": null,
      "outputs": []
    },
    {
      "cell_type": "code",
      "metadata": {
        "colab": {
          "base_uri": "https://localhost:8080/",
          "height": 205
        },
        "id": "itl7Vk9aFHCM",
        "outputId": "b21fff93-d54b-4b1b-a3e5-eccee1e2b10c"
      },
      "source": [
        "df.head()"
      ],
      "execution_count": null,
      "outputs": [
        {
          "output_type": "execute_result",
          "data": {
            "text/html": [
              "<div>\n",
              "<style scoped>\n",
              "    .dataframe tbody tr th:only-of-type {\n",
              "        vertical-align: middle;\n",
              "    }\n",
              "\n",
              "    .dataframe tbody tr th {\n",
              "        vertical-align: top;\n",
              "    }\n",
              "\n",
              "    .dataframe thead th {\n",
              "        text-align: right;\n",
              "    }\n",
              "</style>\n",
              "<table border=\"1\" class=\"dataframe\">\n",
              "  <thead>\n",
              "    <tr style=\"text-align: right;\">\n",
              "      <th></th>\n",
              "      <th>r</th>\n",
              "    </tr>\n",
              "  </thead>\n",
              "  <tbody>\n",
              "    <tr>\n",
              "      <th>0</th>\n",
              "      <td>44</td>\n",
              "    </tr>\n",
              "    <tr>\n",
              "      <th>1</th>\n",
              "      <td>95</td>\n",
              "    </tr>\n",
              "    <tr>\n",
              "      <th>2</th>\n",
              "      <td>41</td>\n",
              "    </tr>\n",
              "    <tr>\n",
              "      <th>3</th>\n",
              "      <td>0</td>\n",
              "    </tr>\n",
              "    <tr>\n",
              "      <th>4</th>\n",
              "      <td>18</td>\n",
              "    </tr>\n",
              "  </tbody>\n",
              "</table>\n",
              "</div>"
            ],
            "text/plain": [
              "    r\n",
              "0  44\n",
              "1  95\n",
              "2  41\n",
              "3   0\n",
              "4  18"
            ]
          },
          "metadata": {},
          "execution_count": 2
        }
      ]
    },
    {
      "cell_type": "code",
      "metadata": {
        "id": "ETJSOaBLFHkX"
      },
      "source": [
        "df_1 = pd.DataFrame(np.random.randint(900,1000,size=(20, 1)), columns=list('r'))"
      ],
      "execution_count": null,
      "outputs": []
    },
    {
      "cell_type": "code",
      "metadata": {
        "id": "TN9T16fMF1xq"
      },
      "source": [
        "res = pd.concat([df, df_1], ignore_index=True)"
      ],
      "execution_count": null,
      "outputs": []
    },
    {
      "cell_type": "code",
      "metadata": {
        "id": "HwqiGvVjFISI"
      },
      "source": [
        "res.columns = ['response_time']"
      ],
      "execution_count": null,
      "outputs": []
    },
    {
      "cell_type": "code",
      "metadata": {
        "colab": {
          "base_uri": "https://localhost:8080/",
          "height": 422
        },
        "id": "AeGKxKGIPNMJ",
        "outputId": "a8d1bc00-1d51-4144-ba3b-0b402cbdb245"
      },
      "source": [
        "res"
      ],
      "execution_count": null,
      "outputs": [
        {
          "output_type": "execute_result",
          "data": {
            "text/html": [
              "<div>\n",
              "<style scoped>\n",
              "    .dataframe tbody tr th:only-of-type {\n",
              "        vertical-align: middle;\n",
              "    }\n",
              "\n",
              "    .dataframe tbody tr th {\n",
              "        vertical-align: top;\n",
              "    }\n",
              "\n",
              "    .dataframe thead th {\n",
              "        text-align: right;\n",
              "    }\n",
              "</style>\n",
              "<table border=\"1\" class=\"dataframe\">\n",
              "  <thead>\n",
              "    <tr style=\"text-align: right;\">\n",
              "      <th></th>\n",
              "      <th>response_time</th>\n",
              "    </tr>\n",
              "  </thead>\n",
              "  <tbody>\n",
              "    <tr>\n",
              "      <th>0</th>\n",
              "      <td>44</td>\n",
              "    </tr>\n",
              "    <tr>\n",
              "      <th>1</th>\n",
              "      <td>95</td>\n",
              "    </tr>\n",
              "    <tr>\n",
              "      <th>2</th>\n",
              "      <td>41</td>\n",
              "    </tr>\n",
              "    <tr>\n",
              "      <th>3</th>\n",
              "      <td>0</td>\n",
              "    </tr>\n",
              "    <tr>\n",
              "      <th>4</th>\n",
              "      <td>18</td>\n",
              "    </tr>\n",
              "    <tr>\n",
              "      <th>...</th>\n",
              "      <td>...</td>\n",
              "    </tr>\n",
              "    <tr>\n",
              "      <th>795</th>\n",
              "      <td>995</td>\n",
              "    </tr>\n",
              "    <tr>\n",
              "      <th>796</th>\n",
              "      <td>964</td>\n",
              "    </tr>\n",
              "    <tr>\n",
              "      <th>797</th>\n",
              "      <td>993</td>\n",
              "    </tr>\n",
              "    <tr>\n",
              "      <th>798</th>\n",
              "      <td>978</td>\n",
              "    </tr>\n",
              "    <tr>\n",
              "      <th>799</th>\n",
              "      <td>921</td>\n",
              "    </tr>\n",
              "  </tbody>\n",
              "</table>\n",
              "<p>800 rows × 1 columns</p>\n",
              "</div>"
            ],
            "text/plain": [
              "     response_time\n",
              "0               44\n",
              "1               95\n",
              "2               41\n",
              "3                0\n",
              "4               18\n",
              "..             ...\n",
              "795            995\n",
              "796            964\n",
              "797            993\n",
              "798            978\n",
              "799            921\n",
              "\n",
              "[800 rows x 1 columns]"
            ]
          },
          "metadata": {},
          "execution_count": 6
        }
      ]
    },
    {
      "cell_type": "code",
      "metadata": {
        "id": "5rXzr-Q-GjJK"
      },
      "source": [
        "import seaborn as sns\n",
        "from sklearn.ensemble import IsolationForest"
      ],
      "execution_count": null,
      "outputs": []
    },
    {
      "cell_type": "code",
      "metadata": {
        "colab": {
          "base_uri": "https://localhost:8080/",
          "height": 355
        },
        "id": "O68y_gbdGjEk",
        "outputId": "1f619606-db87-472d-be7e-91398b98f31d"
      },
      "source": [
        "sns.boxplot(res.response_time)"
      ],
      "execution_count": null,
      "outputs": [
        {
          "output_type": "stream",
          "name": "stderr",
          "text": [
            "/usr/local/lib/python3.7/dist-packages/seaborn/_decorators.py:43: FutureWarning: Pass the following variable as a keyword arg: x. From version 0.12, the only valid positional argument will be `data`, and passing other arguments without an explicit keyword will result in an error or misinterpretation.\n",
            "  FutureWarning\n"
          ]
        },
        {
          "output_type": "execute_result",
          "data": {
            "text/plain": [
              "<matplotlib.axes._subplots.AxesSubplot at 0x7f2b4ee4d090>"
            ]
          },
          "metadata": {},
          "execution_count": 8
        },
        {
          "output_type": "display_data",
          "data": {
            "image/png": "[encoded data removed]",
            "text/plain": [
              "<Figure size 432x288 with 1 Axes>"
            ]
          },
          "metadata": {
            "needs_background": "light"
          }
        }
      ]
    },
    {
      "cell_type": "code",
      "metadata": {
        "id": "3MsCin_RGi5V"
      },
      "source": [
        "random_state = np.random.RandomState(42)"
      ],
      "execution_count": null,
      "outputs": []
    },
    {
      "cell_type": "code",
      "metadata": {
        "colab": {
          "base_uri": "https://localhost:8080/"
        },
        "id": "GHHZWSYTHTT-",
        "outputId": "488e18b6-98ea-4560-c43c-5874a5d57b8b"
      },
      "source": [
        "model=IsolationForest(n_estimators=100,max_samples='auto',contamination=float(0.02),random_state=random_state)\n",
        "\n",
        "model.fit(res[['response_time']])\n",
        "\n",
        "print(model.get_params())"
      ],
      "execution_count": null,
      "outputs": [
        {
          "output_type": "stream",
          "name": "stdout",
          "text": [
            "{'bootstrap': False, 'contamination': 0.02, 'max_features': 1.0, 'max_samples': 'auto', 'n_estimators': 100, 'n_jobs': None, 'random_state': RandomState(MT19937) at 0x7F2B4F97A7C0, 'verbose': 0, 'warm_start': False}\n"
          ]
        },
        {
          "output_type": "stream",
          "name": "stderr",
          "text": [
            "/usr/local/lib/python3.7/dist-packages/sklearn/base.py:446: UserWarning: X does not have valid feature names, but IsolationForest was fitted with feature names\n",
            "  \"X does not have valid feature names, but\"\n"
          ]
        }
      ]
    },
    {
      "cell_type": "code",
      "metadata": {
        "colab": {
          "base_uri": "https://localhost:8080/",
          "height": 205
        },
        "id": "pjNICefNHTIe",
        "outputId": "91580a08-089c-4190-dfc3-e11c7dc6d134"
      },
      "source": [
        "res['scores'] = model.decision_function(res[['response_time']])\n",
        "\n",
        "res['anomaly_score'] = model.predict(res[['response_time']])\n",
        "\n",
        "res[res['anomaly_score']==-1].head()"
      ],
      "execution_count": null,
      "outputs": [
        {
          "output_type": "execute_result",
          "data": {
            "text/html": [
              "<div>\n",
              "<style scoped>\n",
              "    .dataframe tbody tr th:only-of-type {\n",
              "        vertical-align: middle;\n",
              "    }\n",
              "\n",
              "    .dataframe tbody tr th {\n",
              "        vertical-align: top;\n",
              "    }\n",
              "\n",
              "    .dataframe thead th {\n",
              "        text-align: right;\n",
              "    }\n",
              "</style>\n",
              "<table border=\"1\" class=\"dataframe\">\n",
              "  <thead>\n",
              "    <tr style=\"text-align: right;\">\n",
              "      <th></th>\n",
              "      <th>response_time</th>\n",
              "      <th>scores</th>\n",
              "      <th>anomaly_score</th>\n",
              "    </tr>\n",
              "  </thead>\n",
              "  <tbody>\n",
              "    <tr>\n",
              "      <th>780</th>\n",
              "      <td>969</td>\n",
              "      <td>-0.019059</td>\n",
              "      <td>-1</td>\n",
              "    </tr>\n",
              "    <tr>\n",
              "      <th>781</th>\n",
              "      <td>906</td>\n",
              "      <td>-0.064189</td>\n",
              "      <td>-1</td>\n",
              "    </tr>\n",
              "    <tr>\n",
              "      <th>782</th>\n",
              "      <td>996</td>\n",
              "      <td>-0.016453</td>\n",
              "      <td>-1</td>\n",
              "    </tr>\n",
              "    <tr>\n",
              "      <th>784</th>\n",
              "      <td>994</td>\n",
              "      <td>-0.007143</td>\n",
              "      <td>-1</td>\n",
              "    </tr>\n",
              "    <tr>\n",
              "      <th>787</th>\n",
              "      <td>994</td>\n",
              "      <td>-0.007143</td>\n",
              "      <td>-1</td>\n",
              "    </tr>\n",
              "  </tbody>\n",
              "</table>\n",
              "</div>"
            ],
            "text/plain": [
              "     response_time    scores  anomaly_score\n",
              "780            969 -0.019059             -1\n",
              "781            906 -0.064189             -1\n",
              "782            996 -0.016453             -1\n",
              "784            994 -0.007143             -1\n",
              "787            994 -0.007143             -1"
            ]
          },
          "metadata": {},
          "execution_count": 11
        }
      ]
    },
    {
      "cell_type": "code",
      "metadata": {
        "colab": {
          "base_uri": "https://localhost:8080/",
          "height": 549
        },
        "id": "ZHqP1aC1HTHw",
        "outputId": "56d6c5d4-3351-4f90-a0e4-5c6c3377c10e"
      },
      "source": [
        "res[res['anomaly_score']==-1]"
      ],
      "execution_count": null,
      "outputs": [
        {
          "output_type": "execute_result",
          "data": {
            "text/html": [
              "<div>\n",
              "<style scoped>\n",
              "    .dataframe tbody tr th:only-of-type {\n",
              "        vertical-align: middle;\n",
              "    }\n",
              "\n",
              "    .dataframe tbody tr th {\n",
              "        vertical-align: top;\n",
              "    }\n",
              "\n",
              "    .dataframe thead th {\n",
              "        text-align: right;\n",
              "    }\n",
              "</style>\n",
              "<table border=\"1\" class=\"dataframe\">\n",
              "  <thead>\n",
              "    <tr style=\"text-align: right;\">\n",
              "      <th></th>\n",
              "      <th>response_time</th>\n",
              "      <th>scores</th>\n",
              "      <th>anomaly_score</th>\n",
              "    </tr>\n",
              "  </thead>\n",
              "  <tbody>\n",
              "    <tr>\n",
              "      <th>780</th>\n",
              "      <td>969</td>\n",
              "      <td>-0.019059</td>\n",
              "      <td>-1</td>\n",
              "    </tr>\n",
              "    <tr>\n",
              "      <th>781</th>\n",
              "      <td>906</td>\n",
              "      <td>-0.064189</td>\n",
              "      <td>-1</td>\n",
              "    </tr>\n",
              "    <tr>\n",
              "      <th>782</th>\n",
              "      <td>996</td>\n",
              "      <td>-0.016453</td>\n",
              "      <td>-1</td>\n",
              "    </tr>\n",
              "    <tr>\n",
              "      <th>784</th>\n",
              "      <td>994</td>\n",
              "      <td>-0.007143</td>\n",
              "      <td>-1</td>\n",
              "    </tr>\n",
              "    <tr>\n",
              "      <th>787</th>\n",
              "      <td>994</td>\n",
              "      <td>-0.007143</td>\n",
              "      <td>-1</td>\n",
              "    </tr>\n",
              "    <tr>\n",
              "      <th>788</th>\n",
              "      <td>916</td>\n",
              "      <td>-0.057035</td>\n",
              "      <td>-1</td>\n",
              "    </tr>\n",
              "    <tr>\n",
              "      <th>789</th>\n",
              "      <td>931</td>\n",
              "      <td>-0.049945</td>\n",
              "      <td>-1</td>\n",
              "    </tr>\n",
              "    <tr>\n",
              "      <th>790</th>\n",
              "      <td>986</td>\n",
              "      <td>-0.000999</td>\n",
              "      <td>-1</td>\n",
              "    </tr>\n",
              "    <tr>\n",
              "      <th>791</th>\n",
              "      <td>986</td>\n",
              "      <td>-0.000999</td>\n",
              "      <td>-1</td>\n",
              "    </tr>\n",
              "    <tr>\n",
              "      <th>792</th>\n",
              "      <td>952</td>\n",
              "      <td>-0.041303</td>\n",
              "      <td>-1</td>\n",
              "    </tr>\n",
              "    <tr>\n",
              "      <th>794</th>\n",
              "      <td>969</td>\n",
              "      <td>-0.019059</td>\n",
              "      <td>-1</td>\n",
              "    </tr>\n",
              "    <tr>\n",
              "      <th>795</th>\n",
              "      <td>995</td>\n",
              "      <td>-0.014893</td>\n",
              "      <td>-1</td>\n",
              "    </tr>\n",
              "    <tr>\n",
              "      <th>796</th>\n",
              "      <td>964</td>\n",
              "      <td>-0.025877</td>\n",
              "      <td>-1</td>\n",
              "    </tr>\n",
              "    <tr>\n",
              "      <th>797</th>\n",
              "      <td>993</td>\n",
              "      <td>-0.010233</td>\n",
              "      <td>-1</td>\n",
              "    </tr>\n",
              "    <tr>\n",
              "      <th>798</th>\n",
              "      <td>978</td>\n",
              "      <td>-0.006629</td>\n",
              "      <td>-1</td>\n",
              "    </tr>\n",
              "    <tr>\n",
              "      <th>799</th>\n",
              "      <td>921</td>\n",
              "      <td>-0.054301</td>\n",
              "      <td>-1</td>\n",
              "    </tr>\n",
              "  </tbody>\n",
              "</table>\n",
              "</div>"
            ],
            "text/plain": [
              "     response_time    scores  anomaly_score\n",
              "780            969 -0.019059             -1\n",
              "781            906 -0.064189             -1\n",
              "782            996 -0.016453             -1\n",
              "784            994 -0.007143             -1\n",
              "787            994 -0.007143             -1\n",
              "788            916 -0.057035             -1\n",
              "789            931 -0.049945             -1\n",
              "790            986 -0.000999             -1\n",
              "791            986 -0.000999             -1\n",
              "792            952 -0.041303             -1\n",
              "794            969 -0.019059             -1\n",
              "795            995 -0.014893             -1\n",
              "796            964 -0.025877             -1\n",
              "797            993 -0.010233             -1\n",
              "798            978 -0.006629             -1\n",
              "799            921 -0.054301             -1"
            ]
          },
          "metadata": {},
          "execution_count": 12
        }
      ]
    },
    {
      "cell_type": "code",
      "metadata": {
        "id": "GHgFdGGNH7KP",
        "colab": {
          "base_uri": "https://localhost:8080/"
        },
        "outputId": "c1663673-227c-4e56-f092-114db85475ab"
      },
      "source": [
        "accuracy = 100*list(res['anomaly_score']).count(-1)/20\n",
        "print(\"Accuracy of the model:\", accuracy)"
      ],
      "execution_count": null,
      "outputs": [
        {
          "output_type": "stream",
          "name": "stdout",
          "text": [
            "Accuracy of the model: 80.0\n"
          ]
        }
      ]
    },
    {
      "cell_type": "code",
      "metadata": {
        "colab": {
          "base_uri": "https://localhost:8080/",
          "height": 549
        },
        "id": "u4oU-y6KQLfW",
        "outputId": "aa9bb0d7-6d65-4567-f84a-7fcbd9d2f8e8"
      },
      "source": [
        "res[res['anomaly_score']==-1]"
      ],
      "execution_count": null,
      "outputs": [
        {
          "output_type": "execute_result",
          "data": {
            "text/html": [
              "<div>\n",
              "<style scoped>\n",
              "    .dataframe tbody tr th:only-of-type {\n",
              "        vertical-align: middle;\n",
              "    }\n",
              "\n",
              "    .dataframe tbody tr th {\n",
              "        vertical-align: top;\n",
              "    }\n",
              "\n",
              "    .dataframe thead th {\n",
              "        text-align: right;\n",
              "    }\n",
              "</style>\n",
              "<table border=\"1\" class=\"dataframe\">\n",
              "  <thead>\n",
              "    <tr style=\"text-align: right;\">\n",
              "      <th></th>\n",
              "      <th>response_time</th>\n",
              "      <th>scores</th>\n",
              "      <th>anomaly_score</th>\n",
              "    </tr>\n",
              "  </thead>\n",
              "  <tbody>\n",
              "    <tr>\n",
              "      <th>780</th>\n",
              "      <td>969</td>\n",
              "      <td>-0.019059</td>\n",
              "      <td>-1</td>\n",
              "    </tr>\n",
              "    <tr>\n",
              "      <th>781</th>\n",
              "      <td>906</td>\n",
              "      <td>-0.064189</td>\n",
              "      <td>-1</td>\n",
              "    </tr>\n",
              "    <tr>\n",
              "      <th>782</th>\n",
              "      <td>996</td>\n",
              "      <td>-0.016453</td>\n",
              "      <td>-1</td>\n",
              "    </tr>\n",
              "    <tr>\n",
              "      <th>784</th>\n",
              "      <td>994</td>\n",
              "      <td>-0.007143</td>\n",
              "      <td>-1</td>\n",
              "    </tr>\n",
              "    <tr>\n",
              "      <th>787</th>\n",
              "      <td>994</td>\n",
              "      <td>-0.007143</td>\n",
              "      <td>-1</td>\n",
              "    </tr>\n",
              "    <tr>\n",
              "      <th>788</th>\n",
              "      <td>916</td>\n",
              "      <td>-0.057035</td>\n",
              "      <td>-1</td>\n",
              "    </tr>\n",
              "    <tr>\n",
              "      <th>789</th>\n",
              "      <td>931</td>\n",
              "      <td>-0.049945</td>\n",
              "      <td>-1</td>\n",
              "    </tr>\n",
              "    <tr>\n",
              "      <th>790</th>\n",
              "      <td>986</td>\n",
              "      <td>-0.000999</td>\n",
              "      <td>-1</td>\n",
              "    </tr>\n",
              "    <tr>\n",
              "      <th>791</th>\n",
              "      <td>986</td>\n",
              "      <td>-0.000999</td>\n",
              "      <td>-1</td>\n",
              "    </tr>\n",
              "    <tr>\n",
              "      <th>792</th>\n",
              "      <td>952</td>\n",
              "      <td>-0.041303</td>\n",
              "      <td>-1</td>\n",
              "    </tr>\n",
              "    <tr>\n",
              "      <th>794</th>\n",
              "      <td>969</td>\n",
              "      <td>-0.019059</td>\n",
              "      <td>-1</td>\n",
              "    </tr>\n",
              "    <tr>\n",
              "      <th>795</th>\n",
              "      <td>995</td>\n",
              "      <td>-0.014893</td>\n",
              "      <td>-1</td>\n",
              "    </tr>\n",
              "    <tr>\n",
              "      <th>796</th>\n",
              "      <td>964</td>\n",
              "      <td>-0.025877</td>\n",
              "      <td>-1</td>\n",
              "    </tr>\n",
              "    <tr>\n",
              "      <th>797</th>\n",
              "      <td>993</td>\n",
              "      <td>-0.010233</td>\n",
              "      <td>-1</td>\n",
              "    </tr>\n",
              "    <tr>\n",
              "      <th>798</th>\n",
              "      <td>978</td>\n",
              "      <td>-0.006629</td>\n",
              "      <td>-1</td>\n",
              "    </tr>\n",
              "    <tr>\n",
              "      <th>799</th>\n",
              "      <td>921</td>\n",
              "      <td>-0.054301</td>\n",
              "      <td>-1</td>\n",
              "    </tr>\n",
              "  </tbody>\n",
              "</table>\n",
              "</div>"
            ],
            "text/plain": [
              "     response_time    scores  anomaly_score\n",
              "780            969 -0.019059             -1\n",
              "781            906 -0.064189             -1\n",
              "782            996 -0.016453             -1\n",
              "784            994 -0.007143             -1\n",
              "787            994 -0.007143             -1\n",
              "788            916 -0.057035             -1\n",
              "789            931 -0.049945             -1\n",
              "790            986 -0.000999             -1\n",
              "791            986 -0.000999             -1\n",
              "792            952 -0.041303             -1\n",
              "794            969 -0.019059             -1\n",
              "795            995 -0.014893             -1\n",
              "796            964 -0.025877             -1\n",
              "797            993 -0.010233             -1\n",
              "798            978 -0.006629             -1\n",
              "799            921 -0.054301             -1"
            ]
          },
          "metadata": {},
          "execution_count": 14
        }
      ]
    },
    {
      "cell_type": "code",
      "metadata": {
        "id": "XbPIN-rVbB6Q"
      },
      "source": [
        "dfr = pd.read_csv('test_cases_produced.csv')"
      ],
      "execution_count": null,
      "outputs": []
    },
    {
      "cell_type": "code",
      "metadata": {
        "colab": {
          "base_uri": "https://localhost:8080/",
          "height": 632
        },
        "id": "P-_SduFpbSr9",
        "outputId": "20ec2ac6-6e38-488c-c389-23a04c753949"
      },
      "source": [
        "dfr"
      ],
      "execution_count": null,
      "outputs": [
        {
          "output_type": "execute_result",
          "data": {
            "text/html": [
              "<div>\n",
              "<style scoped>\n",
              "    .dataframe tbody tr th:only-of-type {\n",
              "        vertical-align: middle;\n",
              "    }\n",
              "\n",
              "    .dataframe tbody tr th {\n",
              "        vertical-align: top;\n",
              "    }\n",
              "\n",
              "    .dataframe thead th {\n",
              "        text-align: right;\n",
              "    }\n",
              "</style>\n",
              "<table border=\"1\" class=\"dataframe\">\n",
              "  <thead>\n",
              "    <tr style=\"text-align: right;\">\n",
              "      <th></th>\n",
              "      <th>Unnamed: 0</th>\n",
              "      <th>request_type</th>\n",
              "      <th>request_uri</th>\n",
              "      <th>request_body</th>\n",
              "      <th>response_code</th>\n",
              "      <th>response_time_microseconds</th>\n",
              "    </tr>\n",
              "  </thead>\n",
              "  <tbody>\n",
              "    <tr>\n",
              "      <th>0</th>\n",
              "      <td>0</td>\n",
              "      <td>GET</td>\n",
              "      <td>/petclinic</td>\n",
              "      <td>NaN</td>\n",
              "      <td>302</td>\n",
              "      <td>15000</td>\n",
              "    </tr>\n",
              "    <tr>\n",
              "      <th>1</th>\n",
              "      <td>1</td>\n",
              "      <td>HEAD</td>\n",
              "      <td>/petclinic</td>\n",
              "      <td>NaN</td>\n",
              "      <td>302</td>\n",
              "      <td>0</td>\n",
              "    </tr>\n",
              "    <tr>\n",
              "      <th>2</th>\n",
              "      <td>2</td>\n",
              "      <td>POST</td>\n",
              "      <td>/petclinic</td>\n",
              "      <td>NaN</td>\n",
              "      <td>302</td>\n",
              "      <td>0</td>\n",
              "    </tr>\n",
              "    <tr>\n",
              "      <th>3</th>\n",
              "      <td>3</td>\n",
              "      <td>PUT</td>\n",
              "      <td>/petclinic</td>\n",
              "      <td>NaN</td>\n",
              "      <td>302</td>\n",
              "      <td>11000</td>\n",
              "    </tr>\n",
              "    <tr>\n",
              "      <th>4</th>\n",
              "      <td>4</td>\n",
              "      <td>DELETE</td>\n",
              "      <td>/petclinic</td>\n",
              "      <td>NaN</td>\n",
              "      <td>302</td>\n",
              "      <td>19000</td>\n",
              "    </tr>\n",
              "    <tr>\n",
              "      <th>...</th>\n",
              "      <td>...</td>\n",
              "      <td>...</td>\n",
              "      <td>...</td>\n",
              "      <td>...</td>\n",
              "      <td>...</td>\n",
              "      <td>...</td>\n",
              "    </tr>\n",
              "    <tr>\n",
              "      <th>16579</th>\n",
              "      <td>16579</td>\n",
              "      <td>GET</td>\n",
              "      <td>/petclinic/actuator</td>\n",
              "      <td>{    \"firstName\":\"fuzzstring\",    \"id\":1,    \"...</td>\n",
              "      <td>200</td>\n",
              "      <td>22000</td>\n",
              "    </tr>\n",
              "    <tr>\n",
              "      <th>16580</th>\n",
              "      <td>16580</td>\n",
              "      <td>GET</td>\n",
              "      <td>/petclinic/actuator</td>\n",
              "      <td>{    \"firstName\":\"fuzzstring\",    \"id\":1,    \"...</td>\n",
              "      <td>200</td>\n",
              "      <td>21000</td>\n",
              "    </tr>\n",
              "    <tr>\n",
              "      <th>16581</th>\n",
              "      <td>16581</td>\n",
              "      <td>GET</td>\n",
              "      <td>/petclinic/actuator</td>\n",
              "      <td>{    \"firstName\":\"fuzzstring\",    \"id\":1,    \"...</td>\n",
              "      <td>200</td>\n",
              "      <td>13000</td>\n",
              "    </tr>\n",
              "    <tr>\n",
              "      <th>16582</th>\n",
              "      <td>16582</td>\n",
              "      <td>GET</td>\n",
              "      <td>/petclinic/actuator</td>\n",
              "      <td>{    \"firstName\":\"fuzzstring\",    \"id\":1,    \"...</td>\n",
              "      <td>200</td>\n",
              "      <td>14000</td>\n",
              "    </tr>\n",
              "    <tr>\n",
              "      <th>16583</th>\n",
              "      <td>16583</td>\n",
              "      <td>HEAD</td>\n",
              "      <td>/petclinic</td>\n",
              "      <td>{    \"firstName\":\"fuzzstring\",    \"id\":1,    \"...</td>\n",
              "      <td>302</td>\n",
              "      <td>15000</td>\n",
              "    </tr>\n",
              "  </tbody>\n",
              "</table>\n",
              "<p>16584 rows × 6 columns</p>\n",
              "</div>"
            ],
            "text/plain": [
              "       Unnamed: 0 request_type  ... response_code response_time_microseconds\n",
              "0               0          GET  ...           302                      15000\n",
              "1               1         HEAD  ...           302                          0\n",
              "2               2         POST  ...           302                          0\n",
              "3               3          PUT  ...           302                      11000\n",
              "4               4       DELETE  ...           302                      19000\n",
              "...           ...          ...  ...           ...                        ...\n",
              "16579       16579          GET  ...           200                      22000\n",
              "16580       16580          GET  ...           200                      21000\n",
              "16581       16581          GET  ...           200                      13000\n",
              "16582       16582          GET  ...           200                      14000\n",
              "16583       16583         HEAD  ...           302                      15000\n",
              "\n",
              "[16584 rows x 6 columns]"
            ]
          },
          "metadata": {},
          "execution_count": 4
        }
      ]
    },
    {
      "cell_type": "code",
      "metadata": {
        "colab": {
          "base_uri": "https://localhost:8080/",
          "height": 355
        },
        "id": "Xg4BncpXbcEI",
        "outputId": "4b17f97c-b1cf-4e31-9ce7-36bac552aeee"
      },
      "source": [
        "sns.boxplot(dfr.response_time_microseconds)"
      ],
      "execution_count": null,
      "outputs": [
        {
          "output_type": "stream",
          "name": "stderr",
          "text": [
            "/usr/local/lib/python3.7/dist-packages/seaborn/_decorators.py:43: FutureWarning: Pass the following variable as a keyword arg: x. From version 0.12, the only valid positional argument will be `data`, and passing other arguments without an explicit keyword will result in an error or misinterpretation.\n",
            "  FutureWarning\n"
          ]
        },
        {
          "output_type": "execute_result",
          "data": {
            "text/plain": [
              "<matplotlib.axes._subplots.AxesSubplot at 0x7f4c2f520690>"
            ]
          },
          "metadata": {},
          "execution_count": 5
        },
        {
          "output_type": "display_data",
          "data": {
            "image/png": "[encoded data removed]",
            "text/plain": [
              "<Figure size 432x288 with 1 Axes>"
            ]
          },
          "metadata": {
            "needs_background": "light"
          }
        }
      ]
    },
    {
      "cell_type": "code",
      "metadata": {
        "id": "PU78KXF-cKUu"
      },
      "source": [
        "dfr['count'] = dfr.groupby(['response_code'])['response_time_microseconds'].transform('count')"
      ],
      "execution_count": null,
      "outputs": []
    },
    {
      "cell_type": "code",
      "metadata": {
        "colab": {
          "base_uri": "https://localhost:8080/",
          "height": 205
        },
        "id": "kYrlyjqyeNpf",
        "outputId": "586e2ab9-e58a-4dac-9063-ce7a5be9dd9b"
      },
      "source": [
        "dfr.head()"
      ],
      "execution_count": null,
      "outputs": [
        {
          "output_type": "execute_result",
          "data": {
            "text/html": [
              "<div>\n",
              "<style scoped>\n",
              "    .dataframe tbody tr th:only-of-type {\n",
              "        vertical-align: middle;\n",
              "    }\n",
              "\n",
              "    .dataframe tbody tr th {\n",
              "        vertical-align: top;\n",
              "    }\n",
              "\n",
              "    .dataframe thead th {\n",
              "        text-align: right;\n",
              "    }\n",
              "</style>\n",
              "<table border=\"1\" class=\"dataframe\">\n",
              "  <thead>\n",
              "    <tr style=\"text-align: right;\">\n",
              "      <th></th>\n",
              "      <th>Unnamed: 0</th>\n",
              "      <th>request_type</th>\n",
              "      <th>request_uri</th>\n",
              "      <th>request_body</th>\n",
              "      <th>response_code</th>\n",
              "      <th>response_time_microseconds</th>\n",
              "      <th>count</th>\n",
              "    </tr>\n",
              "  </thead>\n",
              "  <tbody>\n",
              "    <tr>\n",
              "      <th>0</th>\n",
              "      <td>0</td>\n",
              "      <td>GET</td>\n",
              "      <td>/petclinic</td>\n",
              "      <td>NaN</td>\n",
              "      <td>302</td>\n",
              "      <td>15000</td>\n",
              "      <td>107</td>\n",
              "    </tr>\n",
              "    <tr>\n",
              "      <th>1</th>\n",
              "      <td>1</td>\n",
              "      <td>HEAD</td>\n",
              "      <td>/petclinic</td>\n",
              "      <td>NaN</td>\n",
              "      <td>302</td>\n",
              "      <td>0</td>\n",
              "      <td>107</td>\n",
              "    </tr>\n",
              "    <tr>\n",
              "      <th>2</th>\n",
              "      <td>2</td>\n",
              "      <td>POST</td>\n",
              "      <td>/petclinic</td>\n",
              "      <td>NaN</td>\n",
              "      <td>302</td>\n",
              "      <td>0</td>\n",
              "      <td>107</td>\n",
              "    </tr>\n",
              "    <tr>\n",
              "      <th>3</th>\n",
              "      <td>3</td>\n",
              "      <td>PUT</td>\n",
              "      <td>/petclinic</td>\n",
              "      <td>NaN</td>\n",
              "      <td>302</td>\n",
              "      <td>11000</td>\n",
              "      <td>107</td>\n",
              "    </tr>\n",
              "    <tr>\n",
              "      <th>4</th>\n",
              "      <td>4</td>\n",
              "      <td>DELETE</td>\n",
              "      <td>/petclinic</td>\n",
              "      <td>NaN</td>\n",
              "      <td>302</td>\n",
              "      <td>19000</td>\n",
              "      <td>107</td>\n",
              "    </tr>\n",
              "  </tbody>\n",
              "</table>\n",
              "</div>"
            ],
            "text/plain": [
              "   Unnamed: 0 request_type  ... response_time_microseconds count\n",
              "0           0          GET  ...                      15000   107\n",
              "1           1         HEAD  ...                          0   107\n",
              "2           2         POST  ...                          0   107\n",
              "3           3          PUT  ...                      11000   107\n",
              "4           4       DELETE  ...                      19000   107\n",
              "\n",
              "[5 rows x 7 columns]"
            ]
          },
          "metadata": {},
          "execution_count": 7
        }
      ]
    },
    {
      "cell_type": "code",
      "metadata": {
        "colab": {
          "base_uri": "https://localhost:8080/",
          "height": 357
        },
        "id": "bRm6tarJcWpn",
        "outputId": "fa4527bc-51e0-4be3-a8e8-21429f6ca9dc"
      },
      "source": [
        "dfr.drop_duplicates('response_code')"
      ],
      "execution_count": null,
      "outputs": [
        {
          "output_type": "execute_result",
          "data": {
            "text/html": [
              "<div>\n",
              "<style scoped>\n",
              "    .dataframe tbody tr th:only-of-type {\n",
              "        vertical-align: middle;\n",
              "    }\n",
              "\n",
              "    .dataframe tbody tr th {\n",
              "        vertical-align: top;\n",
              "    }\n",
              "\n",
              "    .dataframe thead th {\n",
              "        text-align: right;\n",
              "    }\n",
              "</style>\n",
              "<table border=\"1\" class=\"dataframe\">\n",
              "  <thead>\n",
              "    <tr style=\"text-align: right;\">\n",
              "      <th></th>\n",
              "      <th>Unnamed: 0</th>\n",
              "      <th>request_type</th>\n",
              "      <th>request_uri</th>\n",
              "      <th>request_body</th>\n",
              "      <th>response_code</th>\n",
              "      <th>response_time_microseconds</th>\n",
              "      <th>count</th>\n",
              "    </tr>\n",
              "  </thead>\n",
              "  <tbody>\n",
              "    <tr>\n",
              "      <th>0</th>\n",
              "      <td>0</td>\n",
              "      <td>GET</td>\n",
              "      <td>/petclinic</td>\n",
              "      <td>NaN</td>\n",
              "      <td>302</td>\n",
              "      <td>15000</td>\n",
              "      <td>107</td>\n",
              "    </tr>\n",
              "    <tr>\n",
              "      <th>7</th>\n",
              "      <td>7</td>\n",
              "      <td>GET</td>\n",
              "      <td>/petclinic/actuator</td>\n",
              "      <td>NaN</td>\n",
              "      <td>200</td>\n",
              "      <td>19000</td>\n",
              "      <td>15121</td>\n",
              "    </tr>\n",
              "    <tr>\n",
              "      <th>9</th>\n",
              "      <td>9</td>\n",
              "      <td>GET</td>\n",
              "      <td>/petclinic/actuator/health/**</td>\n",
              "      <td>{ \"fuzz\": false }</td>\n",
              "      <td>404</td>\n",
              "      <td>13000</td>\n",
              "      <td>275</td>\n",
              "    </tr>\n",
              "    <tr>\n",
              "      <th>12</th>\n",
              "      <td>12</td>\n",
              "      <td>POST</td>\n",
              "      <td>/petclinic/api/owners</td>\n",
              "      <td>{ \"fuzz\": false }</td>\n",
              "      <td>400</td>\n",
              "      <td>17000</td>\n",
              "      <td>483</td>\n",
              "    </tr>\n",
              "    <tr>\n",
              "      <th>24</th>\n",
              "      <td>24</td>\n",
              "      <td>POST</td>\n",
              "      <td>/petclinic/api/pettypes</td>\n",
              "      <td>{    \"id\":1,    \"name\":\"fuzzstring\"}</td>\n",
              "      <td>201</td>\n",
              "      <td>23000</td>\n",
              "      <td>376</td>\n",
              "    </tr>\n",
              "    <tr>\n",
              "      <th>296</th>\n",
              "      <td>296</td>\n",
              "      <td>GET</td>\n",
              "      <td>/petclinic/error</td>\n",
              "      <td>{    \"date\":\"fuzzstring\",    \"description\":\"fu...</td>\n",
              "      <td>500</td>\n",
              "      <td>17000</td>\n",
              "      <td>96</td>\n",
              "    </tr>\n",
              "    <tr>\n",
              "      <th>369</th>\n",
              "      <td>369</td>\n",
              "      <td>PUT</td>\n",
              "      <td>/petclinic/api/specialties/1</td>\n",
              "      <td>{    \"id\":1,    \"name\":\"fuzzstring\"}</td>\n",
              "      <td>204</td>\n",
              "      <td>12000</td>\n",
              "      <td>126</td>\n",
              "    </tr>\n",
              "  </tbody>\n",
              "</table>\n",
              "</div>"
            ],
            "text/plain": [
              "     Unnamed: 0 request_type  ... response_time_microseconds  count\n",
              "0             0          GET  ...                      15000    107\n",
              "7             7          GET  ...                      19000  15121\n",
              "9             9          GET  ...                      13000    275\n",
              "12           12         POST  ...                      17000    483\n",
              "24           24         POST  ...                      23000    376\n",
              "296         296          GET  ...                      17000     96\n",
              "369         369          PUT  ...                      12000    126\n",
              "\n",
              "[7 rows x 7 columns]"
            ]
          },
          "metadata": {},
          "execution_count": 8
        }
      ]
    },
    {
      "cell_type": "code",
      "metadata": {
        "id": "61WRO7whe-JD"
      },
      "source": [
        "df_200 = dfr.loc[dfr['response_code']==200]"
      ],
      "execution_count": null,
      "outputs": []
    },
    {
      "cell_type": "code",
      "metadata": {
        "colab": {
          "base_uri": "https://localhost:8080/",
          "height": 265
        },
        "id": "D60kUMwphfL9",
        "outputId": "3fb6f27a-2345-4424-d87a-3dc0fdd5754b"
      },
      "source": [
        "ax = df_200['response_time_microseconds'].plot.hist(bins=12, alpha=0.5)"
      ],
      "execution_count": null,
      "outputs": [
        {
          "output_type": "display_data",
          "data": {
            "image/png": "[encoded data removed]",
            "text/plain": [
              "<Figure size 432x288 with 1 Axes>"
            ]
          },
          "metadata": {
            "needs_background": "light"
          }
        }
      ]
    },
    {
      "cell_type": "code",
      "metadata": {
        "id": "RX0iHASvoZdv"
      },
      "source": [
        "df_201 = dfr.loc[dfr['response_code']==201]\n",
        "df_204 = dfr.loc[dfr['response_code']==204]\n",
        "df_302 = dfr.loc[dfr['response_code']==302]\n",
        "df_400 = dfr.loc[dfr['response_code']==400]\n",
        "df_404 = dfr.loc[dfr['response_code']==404]\n",
        "df_500 = dfr.loc[dfr['response_code']==500]"
      ],
      "execution_count": null,
      "outputs": []
    },
    {
      "cell_type": "code",
      "metadata": {
        "colab": {
          "base_uri": "https://localhost:8080/",
          "height": 265
        },
        "id": "-WOQL_3-o3fT",
        "outputId": "87513e2e-ca22-46b0-ceba-1f6d6d687bf9"
      },
      "source": [
        "ax = df_201['response_time_microseconds'].plot.hist(bins=12, alpha=0.5)"
      ],
      "execution_count": null,
      "outputs": [
        {
          "output_type": "display_data",
          "data": {
            "image/png": "[encoded data removed]",
            "text/plain": [
              "<Figure size 432x288 with 1 Axes>"
            ]
          },
          "metadata": {
            "needs_background": "light"
          }
        }
      ]
    },
    {
      "cell_type": "code",
      "metadata": {
        "colab": {
          "base_uri": "https://localhost:8080/",
          "height": 265
        },
        "id": "lVKU2UHRo_Q-",
        "outputId": "1dcc3c4e-6a0a-4896-c6b8-ee271137a710"
      },
      "source": [
        "ax = df_204['response_time_microseconds'].plot.hist(bins=12, alpha=0.5)"
      ],
      "execution_count": null,
      "outputs": [
        {
          "output_type": "display_data",
          "data": {
            "image/png": "[encoded data removed]",
            "text/plain": [
              "<Figure size 432x288 with 1 Axes>"
            ]
          },
          "metadata": {
            "needs_background": "light"
          }
        }
      ]
    },
    {
      "cell_type": "code",
      "metadata": {
        "colab": {
          "base_uri": "https://localhost:8080/",
          "height": 265
        },
        "id": "OyzhhCjIpKrT",
        "outputId": "a654107a-49f4-482f-b9b7-a596b708827a"
      },
      "source": [
        "ax = df_302['response_time_microseconds'].plot.hist(bins=12, alpha=0.5)"
      ],
      "execution_count": null,
      "outputs": [
        {
          "output_type": "display_data",
          "data": {
            "image/png": "[encoded data removed]",
            "text/plain": [
              "<Figure size 432x288 with 1 Axes>"
            ]
          },
          "metadata": {
            "needs_background": "light"
          }
        }
      ]
    },
    {
      "cell_type": "code",
      "metadata": {
        "colab": {
          "base_uri": "https://localhost:8080/",
          "height": 265
        },
        "id": "QS18qAa7pO3J",
        "outputId": "1b198518-eda1-49ce-f127-c78c94e7356a"
      },
      "source": [
        "ax = df_400['response_time_microseconds'].plot.hist(bins=12, alpha=0.5)"
      ],
      "execution_count": null,
      "outputs": [
        {
          "output_type": "display_data",
          "data": {
            "image/png": "[encoded data removed]",
            "text/plain": [
              "<Figure size 432x288 with 1 Axes>"
            ]
          },
          "metadata": {
            "needs_background": "light"
          }
        }
      ]
    },
    {
      "cell_type": "code",
      "metadata": {
        "colab": {
          "base_uri": "https://localhost:8080/",
          "height": 267
        },
        "id": "IKu_M8gxpTpY",
        "outputId": "bf7a62cb-cf6c-44ba-aa6d-543641abd86e"
      },
      "source": [
        "ax = df_404['response_time_microseconds'].plot.hist(bins=12, alpha=0.5)"
      ],
      "execution_count": null,
      "outputs": [
        {
          "output_type": "display_data",
          "data": {
            "image/png": "[encoded data removed]",
            "text/plain": [
              "<Figure size 432x288 with 1 Axes>"
            ]
          },
          "metadata": {
            "needs_background": "light"
          }
        }
      ]
    },
    {
      "cell_type": "code",
      "metadata": {
        "colab": {
          "base_uri": "https://localhost:8080/",
          "height": 265
        },
        "id": "iNx3oL9HpXOr",
        "outputId": "9f166ccb-65e9-4b20-e7c4-d6e2afa2eac5"
      },
      "source": [
        "ax = df_500['response_time_microseconds'].plot.hist(bins=12, alpha=0.5)"
      ],
      "execution_count": null,
      "outputs": [
        {
          "output_type": "display_data",
          "data": {
            "image/png": "[encoded data removed]",
            "text/plain": [
              "<Figure size 432x288 with 1 Axes>"
            ]
          },
          "metadata": {
            "needs_background": "light"
          }
        }
      ]
    },
    {
      "cell_type": "code",
      "metadata": {
        "colab": {
          "base_uri": "https://localhost:8080/",
          "height": 265
        },
        "id": "zqDb-mfJW8H9",
        "outputId": "5e3e8098-61ad-4fee-c862-4f397b382b81"
      },
      "source": [
        "ax = dfr['response_code'].plot.hist(bins=12, alpha=0.5)"
      ],
      "execution_count": null,
      "outputs": [
        {
          "output_type": "display_data",
          "data": {
            "image/png": "[encoded data removed]",
            "text/plain": [
              "<Figure size 432x288 with 1 Axes>"
            ]
          },
          "metadata": {
            "needs_background": "light"
          }
        }
      ]
    },
    {
      "cell_type": "code",
      "metadata": {
        "colab": {
          "base_uri": "https://localhost:8080/",
          "height": 355
        },
        "id": "bDx0P2zeXDAR",
        "outputId": "daddb3ed-e8fe-4fc3-98d6-a94727ac30f2"
      },
      "source": [
        "sns.boxplot(dfr.response_code)"
      ],
      "execution_count": null,
      "outputs": [
        {
          "output_type": "stream",
          "name": "stderr",
          "text": [
            "/usr/local/lib/python3.7/dist-packages/seaborn/_decorators.py:43: FutureWarning: Pass the following variable as a keyword arg: x. From version 0.12, the only valid positional argument will be `data`, and passing other arguments without an explicit keyword will result in an error or misinterpretation.\n",
            "  FutureWarning\n"
          ]
        },
        {
          "output_type": "execute_result",
          "data": {
            "text/plain": [
              "<matplotlib.axes._subplots.AxesSubplot at 0x7f4c2d825390>"
            ]
          },
          "metadata": {},
          "execution_count": 19
        },
        {
          "output_type": "display_data",
          "data": {
            "image/png": "[encoded data removed]",
            "text/plain": [
              "<Figure size 432x288 with 1 Axes>"
            ]
          },
          "metadata": {
            "needs_background": "light"
          }
        }
      ]
    },
    {
      "cell_type": "code",
      "metadata": {
        "colab": {
          "base_uri": "https://localhost:8080/"
        },
        "id": "AvRgSFKIg0fj",
        "outputId": "bae8b747-779b-420e-8d2a-d7e347c38e62"
      },
      "source": [
        "model=IsolationForest(n_estimators=100,max_samples='auto',contamination=float(0.1),random_state=random_state)\n",
        "\n",
        "model.fit(dfr[['response_code']])\n",
        "\n",
        "print(model.get_params())"
      ],
      "execution_count": null,
      "outputs": [
        {
          "output_type": "stream",
          "name": "stderr",
          "text": [
            "/usr/local/lib/python3.7/dist-packages/sklearn/base.py:446: UserWarning: X does not have valid feature names, but IsolationForest was fitted with feature names\n",
            "  \"X does not have valid feature names, but\"\n"
          ]
        },
        {
          "output_type": "stream",
          "name": "stdout",
          "text": [
            "{'bootstrap': False, 'contamination': 0.1, 'max_features': 1.0, 'max_samples': 'auto', 'n_estimators': 100, 'n_jobs': None, 'random_state': RandomState(MT19937) at 0x7F4C30BC76B0, 'verbose': 0, 'warm_start': False}\n"
          ]
        }
      ]
    },
    {
      "cell_type": "code",
      "metadata": {
        "colab": {
          "base_uri": "https://localhost:8080/",
          "height": 243
        },
        "id": "xMPBPg05X4WV",
        "outputId": "3dfe676e-0eb8-4c9b-b16b-0f2132b6d745"
      },
      "source": [
        "dfr['scores'] = model.decision_function(dfr[['response_code']])\n",
        "\n",
        "dfr['anomaly_score'] = model.predict(dfr[['response_code']])\n",
        "\n",
        "dfr[dfr['anomaly_score']==-1].head()"
      ],
      "execution_count": null,
      "outputs": [
        {
          "output_type": "execute_result",
          "data": {
            "text/html": [
              "<div>\n",
              "<style scoped>\n",
              "    .dataframe tbody tr th:only-of-type {\n",
              "        vertical-align: middle;\n",
              "    }\n",
              "\n",
              "    .dataframe tbody tr th {\n",
              "        vertical-align: top;\n",
              "    }\n",
              "\n",
              "    .dataframe thead th {\n",
              "        text-align: right;\n",
              "    }\n",
              "</style>\n",
              "<table border=\"1\" class=\"dataframe\">\n",
              "  <thead>\n",
              "    <tr style=\"text-align: right;\">\n",
              "      <th></th>\n",
              "      <th>Unnamed: 0</th>\n",
              "      <th>request_type</th>\n",
              "      <th>request_uri</th>\n",
              "      <th>request_body</th>\n",
              "      <th>response_code</th>\n",
              "      <th>response_time_microseconds</th>\n",
              "      <th>count</th>\n",
              "      <th>scores</th>\n",
              "      <th>anomaly_score</th>\n",
              "    </tr>\n",
              "  </thead>\n",
              "  <tbody>\n",
              "    <tr>\n",
              "      <th>0</th>\n",
              "      <td>0</td>\n",
              "      <td>GET</td>\n",
              "      <td>/petclinic</td>\n",
              "      <td>NaN</td>\n",
              "      <td>302</td>\n",
              "      <td>15000</td>\n",
              "      <td>107</td>\n",
              "      <td>-0.394591</td>\n",
              "      <td>-1</td>\n",
              "    </tr>\n",
              "    <tr>\n",
              "      <th>1</th>\n",
              "      <td>1</td>\n",
              "      <td>HEAD</td>\n",
              "      <td>/petclinic</td>\n",
              "      <td>NaN</td>\n",
              "      <td>302</td>\n",
              "      <td>0</td>\n",
              "      <td>107</td>\n",
              "      <td>-0.394591</td>\n",
              "      <td>-1</td>\n",
              "    </tr>\n",
              "    <tr>\n",
              "      <th>2</th>\n",
              "      <td>2</td>\n",
              "      <td>POST</td>\n",
              "      <td>/petclinic</td>\n",
              "      <td>NaN</td>\n",
              "      <td>302</td>\n",
              "      <td>0</td>\n",
              "      <td>107</td>\n",
              "      <td>-0.394591</td>\n",
              "      <td>-1</td>\n",
              "    </tr>\n",
              "    <tr>\n",
              "      <th>3</th>\n",
              "      <td>3</td>\n",
              "      <td>PUT</td>\n",
              "      <td>/petclinic</td>\n",
              "      <td>NaN</td>\n",
              "      <td>302</td>\n",
              "      <td>11000</td>\n",
              "      <td>107</td>\n",
              "      <td>-0.394591</td>\n",
              "      <td>-1</td>\n",
              "    </tr>\n",
              "    <tr>\n",
              "      <th>4</th>\n",
              "      <td>4</td>\n",
              "      <td>DELETE</td>\n",
              "      <td>/petclinic</td>\n",
              "      <td>NaN</td>\n",
              "      <td>302</td>\n",
              "      <td>19000</td>\n",
              "      <td>107</td>\n",
              "      <td>-0.394591</td>\n",
              "      <td>-1</td>\n",
              "    </tr>\n",
              "  </tbody>\n",
              "</table>\n",
              "</div>"
            ],
            "text/plain": [
              "   Unnamed: 0 request_type request_uri  ... count    scores  anomaly_score\n",
              "0           0          GET  /petclinic  ...   107 -0.394591             -1\n",
              "1           1         HEAD  /petclinic  ...   107 -0.394591             -1\n",
              "2           2         POST  /petclinic  ...   107 -0.394591             -1\n",
              "3           3          PUT  /petclinic  ...   107 -0.394591             -1\n",
              "4           4       DELETE  /petclinic  ...   107 -0.394591             -1\n",
              "\n",
              "[5 rows x 9 columns]"
            ]
          },
          "metadata": {},
          "execution_count": 38
        }
      ]
    },
    {
      "cell_type": "code",
      "metadata": {
        "colab": {
          "base_uri": "https://localhost:8080/",
          "height": 357
        },
        "id": "2sni5nRZYBI_",
        "outputId": "68c4ebff-26fa-492e-f843-a543a519ffee"
      },
      "source": [
        "dfr.drop_duplicates('response_code')"
      ],
      "execution_count": null,
      "outputs": [
        {
          "output_type": "execute_result",
          "data": {
            "text/html": [
              "<div>\n",
              "<style scoped>\n",
              "    .dataframe tbody tr th:only-of-type {\n",
              "        vertical-align: middle;\n",
              "    }\n",
              "\n",
              "    .dataframe tbody tr th {\n",
              "        vertical-align: top;\n",
              "    }\n",
              "\n",
              "    .dataframe thead th {\n",
              "        text-align: right;\n",
              "    }\n",
              "</style>\n",
              "<table border=\"1\" class=\"dataframe\">\n",
              "  <thead>\n",
              "    <tr style=\"text-align: right;\">\n",
              "      <th></th>\n",
              "      <th>Unnamed: 0</th>\n",
              "      <th>request_type</th>\n",
              "      <th>request_uri</th>\n",
              "      <th>request_body</th>\n",
              "      <th>response_code</th>\n",
              "      <th>response_time_microseconds</th>\n",
              "      <th>count</th>\n",
              "      <th>scores</th>\n",
              "      <th>anomaly_score</th>\n",
              "    </tr>\n",
              "  </thead>\n",
              "  <tbody>\n",
              "    <tr>\n",
              "      <th>0</th>\n",
              "      <td>0</td>\n",
              "      <td>GET</td>\n",
              "      <td>/petclinic</td>\n",
              "      <td>NaN</td>\n",
              "      <td>302</td>\n",
              "      <td>15000</td>\n",
              "      <td>107</td>\n",
              "      <td>-0.394591</td>\n",
              "      <td>-1</td>\n",
              "    </tr>\n",
              "    <tr>\n",
              "      <th>7</th>\n",
              "      <td>7</td>\n",
              "      <td>GET</td>\n",
              "      <td>/petclinic/actuator</td>\n",
              "      <td>NaN</td>\n",
              "      <td>200</td>\n",
              "      <td>19000</td>\n",
              "      <td>15121</td>\n",
              "      <td>0.000000</td>\n",
              "      <td>1</td>\n",
              "    </tr>\n",
              "    <tr>\n",
              "      <th>9</th>\n",
              "      <td>9</td>\n",
              "      <td>GET</td>\n",
              "      <td>/petclinic/actuator/health/**</td>\n",
              "      <td>{ \"fuzz\": false }</td>\n",
              "      <td>404</td>\n",
              "      <td>13000</td>\n",
              "      <td>275</td>\n",
              "      <td>-0.308671</td>\n",
              "      <td>-1</td>\n",
              "    </tr>\n",
              "    <tr>\n",
              "      <th>12</th>\n",
              "      <td>12</td>\n",
              "      <td>POST</td>\n",
              "      <td>/petclinic/api/owners</td>\n",
              "      <td>{ \"fuzz\": false }</td>\n",
              "      <td>400</td>\n",
              "      <td>17000</td>\n",
              "      <td>483</td>\n",
              "      <td>-0.254119</td>\n",
              "      <td>-1</td>\n",
              "    </tr>\n",
              "    <tr>\n",
              "      <th>24</th>\n",
              "      <td>24</td>\n",
              "      <td>POST</td>\n",
              "      <td>/petclinic/api/pettypes</td>\n",
              "      <td>{    \"id\":1,    \"name\":\"fuzzstring\"}</td>\n",
              "      <td>201</td>\n",
              "      <td>23000</td>\n",
              "      <td>376</td>\n",
              "      <td>-0.258626</td>\n",
              "      <td>-1</td>\n",
              "    </tr>\n",
              "    <tr>\n",
              "      <th>296</th>\n",
              "      <td>296</td>\n",
              "      <td>GET</td>\n",
              "      <td>/petclinic/error</td>\n",
              "      <td>{    \"date\":\"fuzzstring\",    \"description\":\"fu...</td>\n",
              "      <td>500</td>\n",
              "      <td>17000</td>\n",
              "      <td>96</td>\n",
              "      <td>-0.429448</td>\n",
              "      <td>-1</td>\n",
              "    </tr>\n",
              "    <tr>\n",
              "      <th>369</th>\n",
              "      <td>369</td>\n",
              "      <td>PUT</td>\n",
              "      <td>/petclinic/api/specialties/1</td>\n",
              "      <td>{    \"id\":1,    \"name\":\"fuzzstring\"}</td>\n",
              "      <td>204</td>\n",
              "      <td>12000</td>\n",
              "      <td>126</td>\n",
              "      <td>-0.349024</td>\n",
              "      <td>-1</td>\n",
              "    </tr>\n",
              "  </tbody>\n",
              "</table>\n",
              "</div>"
            ],
            "text/plain": [
              "     Unnamed: 0 request_type  ...    scores anomaly_score\n",
              "0             0          GET  ... -0.394591            -1\n",
              "7             7          GET  ...  0.000000             1\n",
              "9             9          GET  ... -0.308671            -1\n",
              "12           12         POST  ... -0.254119            -1\n",
              "24           24         POST  ... -0.258626            -1\n",
              "296         296          GET  ... -0.429448            -1\n",
              "369         369          PUT  ... -0.349024            -1\n",
              "\n",
              "[7 rows x 9 columns]"
            ]
          },
          "metadata": {},
          "execution_count": 39
        }
      ]
    },
    {
      "cell_type": "code",
      "metadata": {
        "colab": {
          "base_uri": "https://localhost:8080/",
          "height": 547
        },
        "id": "JOLPOUhtf_LS",
        "outputId": "2d88313d-7616-45ae-bf26-dad3e2b737c3"
      },
      "source": [
        "df_200['scores'] = model.decision_function(df_200[['response_time_microseconds']])\n",
        "\n",
        "df_200['anomaly_score'] = model.predict(df_200[['response_time_microseconds']])\n",
        "\n",
        "df_200[df_200['anomaly_score']==-1].head()"
      ],
      "execution_count": null,
      "outputs": [
        {
          "output_type": "stream",
          "name": "stderr",
          "text": [
            "/usr/local/lib/python3.7/dist-packages/ipykernel_launcher.py:1: SettingWithCopyWarning: \n",
            "A value is trying to be set on a copy of a slice from a DataFrame.\n",
            "Try using .loc[row_indexer,col_indexer] = value instead\n",
            "\n",
            "See the caveats in the documentation: https://pandas.pydata.org/pandas-docs/stable/user_guide/indexing.html#returning-a-view-versus-a-copy\n",
            "  \"\"\"Entry point for launching an IPython kernel.\n",
            "/usr/local/lib/python3.7/dist-packages/ipykernel_launcher.py:3: SettingWithCopyWarning: \n",
            "A value is trying to be set on a copy of a slice from a DataFrame.\n",
            "Try using .loc[row_indexer,col_indexer] = value instead\n",
            "\n",
            "See the caveats in the documentation: https://pandas.pydata.org/pandas-docs/stable/user_guide/indexing.html#returning-a-view-versus-a-copy\n",
            "  This is separate from the ipykernel package so we can avoid doing imports until\n"
          ]
        },
        {
          "output_type": "execute_result",
          "data": {
            "text/html": [
              "<div>\n",
              "<style scoped>\n",
              "    .dataframe tbody tr th:only-of-type {\n",
              "        vertical-align: middle;\n",
              "    }\n",
              "\n",
              "    .dataframe tbody tr th {\n",
              "        vertical-align: top;\n",
              "    }\n",
              "\n",
              "    .dataframe thead th {\n",
              "        text-align: right;\n",
              "    }\n",
              "</style>\n",
              "<table border=\"1\" class=\"dataframe\">\n",
              "  <thead>\n",
              "    <tr style=\"text-align: right;\">\n",
              "      <th></th>\n",
              "      <th>Unnamed: 0</th>\n",
              "      <th>request_type</th>\n",
              "      <th>request_uri</th>\n",
              "      <th>request_body</th>\n",
              "      <th>response_code</th>\n",
              "      <th>response_time_microseconds</th>\n",
              "      <th>count_max</th>\n",
              "      <th>count</th>\n",
              "      <th>scores</th>\n",
              "      <th>anomaly_score</th>\n",
              "    </tr>\n",
              "  </thead>\n",
              "  <tbody>\n",
              "    <tr>\n",
              "      <th>5184</th>\n",
              "      <td>5184</td>\n",
              "      <td>GET</td>\n",
              "      <td>/petclinic/actuator</td>\n",
              "      <td>{    \"firstName\":\"fuzzstring\",    \"id\":1,    \"...</td>\n",
              "      <td>200</td>\n",
              "      <td>184000</td>\n",
              "      <td>241000</td>\n",
              "      <td>15121</td>\n",
              "      <td>-0.015431</td>\n",
              "      <td>-1</td>\n",
              "    </tr>\n",
              "    <tr>\n",
              "      <th>5518</th>\n",
              "      <td>5518</td>\n",
              "      <td>GET</td>\n",
              "      <td>/petclinic/actuator</td>\n",
              "      <td>{ \"fuzz\": false }</td>\n",
              "      <td>200</td>\n",
              "      <td>102000</td>\n",
              "      <td>241000</td>\n",
              "      <td>15121</td>\n",
              "      <td>-0.000566</td>\n",
              "      <td>-1</td>\n",
              "    </tr>\n",
              "    <tr>\n",
              "      <th>5647</th>\n",
              "      <td>5647</td>\n",
              "      <td>GET</td>\n",
              "      <td>/petclinic/actuator</td>\n",
              "      <td>{    \"id\":1,    \"name\":\"fuzzstring\"}</td>\n",
              "      <td>200</td>\n",
              "      <td>148000</td>\n",
              "      <td>241000</td>\n",
              "      <td>15121</td>\n",
              "      <td>-0.011977</td>\n",
              "      <td>-1</td>\n",
              "    </tr>\n",
              "    <tr>\n",
              "      <th>7223</th>\n",
              "      <td>7223</td>\n",
              "      <td>GET</td>\n",
              "      <td>/petclinic/actuator/health</td>\n",
              "      <td>{ \"fuzz\": false }</td>\n",
              "      <td>200</td>\n",
              "      <td>111000</td>\n",
              "      <td>241000</td>\n",
              "      <td>15121</td>\n",
              "      <td>-0.006823</td>\n",
              "      <td>-1</td>\n",
              "    </tr>\n",
              "    <tr>\n",
              "      <th>7837</th>\n",
              "      <td>7837</td>\n",
              "      <td>GET</td>\n",
              "      <td>/petclinic/actuator</td>\n",
              "      <td>{    \"firstName\":\"fuzzstring\",    \"id\":1,    \"...</td>\n",
              "      <td>200</td>\n",
              "      <td>125000</td>\n",
              "      <td>241000</td>\n",
              "      <td>15121</td>\n",
              "      <td>-0.009110</td>\n",
              "      <td>-1</td>\n",
              "    </tr>\n",
              "  </tbody>\n",
              "</table>\n",
              "</div>"
            ],
            "text/plain": [
              "      Unnamed: 0 request_type  ...    scores anomaly_score\n",
              "5184        5184          GET  ... -0.015431            -1\n",
              "5518        5518          GET  ... -0.000566            -1\n",
              "5647        5647          GET  ... -0.011977            -1\n",
              "7223        7223          GET  ... -0.006823            -1\n",
              "7837        7837          GET  ... -0.009110            -1\n",
              "\n",
              "[5 rows x 10 columns]"
            ]
          },
          "metadata": {},
          "execution_count": 55
        }
      ]
    },
    {
      "cell_type": "code",
      "metadata": {
        "id": "5G-PIQAugYqd"
      },
      "source": [
        "ano = df_200[df_200['anomaly_score']==-1]"
      ],
      "execution_count": null,
      "outputs": []
    },
    {
      "cell_type": "code",
      "metadata": {
        "colab": {
          "base_uri": "https://localhost:8080/",
          "height": 686
        },
        "id": "kuK7GTSKiPY6",
        "outputId": "4535928e-4cea-4cff-bd3a-858aa768be6f"
      },
      "source": [
        "ano.loc[ano['response_time_microseconds']>100000]"
      ],
      "execution_count": null,
      "outputs": [
        {
          "output_type": "execute_result",
          "data": {
            "text/html": [
              "<div>\n",
              "<style scoped>\n",
              "    .dataframe tbody tr th:only-of-type {\n",
              "        vertical-align: middle;\n",
              "    }\n",
              "\n",
              "    .dataframe tbody tr th {\n",
              "        vertical-align: top;\n",
              "    }\n",
              "\n",
              "    .dataframe thead th {\n",
              "        text-align: right;\n",
              "    }\n",
              "</style>\n",
              "<table border=\"1\" class=\"dataframe\">\n",
              "  <thead>\n",
              "    <tr style=\"text-align: right;\">\n",
              "      <th></th>\n",
              "      <th>Unnamed: 0</th>\n",
              "      <th>request_type</th>\n",
              "      <th>request_uri</th>\n",
              "      <th>request_body</th>\n",
              "      <th>response_code</th>\n",
              "      <th>response_time_microseconds</th>\n",
              "      <th>count_max</th>\n",
              "      <th>count</th>\n",
              "      <th>scores</th>\n",
              "      <th>anomaly_score</th>\n",
              "    </tr>\n",
              "  </thead>\n",
              "  <tbody>\n",
              "    <tr>\n",
              "      <th>5184</th>\n",
              "      <td>5184</td>\n",
              "      <td>GET</td>\n",
              "      <td>/petclinic/actuator</td>\n",
              "      <td>{    \"firstName\":\"fuzzstring\",    \"id\":1,    \"...</td>\n",
              "      <td>200</td>\n",
              "      <td>184000</td>\n",
              "      <td>241000</td>\n",
              "      <td>15121</td>\n",
              "      <td>-0.015431</td>\n",
              "      <td>-1</td>\n",
              "    </tr>\n",
              "    <tr>\n",
              "      <th>5518</th>\n",
              "      <td>5518</td>\n",
              "      <td>GET</td>\n",
              "      <td>/petclinic/actuator</td>\n",
              "      <td>{ \"fuzz\": false }</td>\n",
              "      <td>200</td>\n",
              "      <td>102000</td>\n",
              "      <td>241000</td>\n",
              "      <td>15121</td>\n",
              "      <td>-0.000566</td>\n",
              "      <td>-1</td>\n",
              "    </tr>\n",
              "    <tr>\n",
              "      <th>5647</th>\n",
              "      <td>5647</td>\n",
              "      <td>GET</td>\n",
              "      <td>/petclinic/actuator</td>\n",
              "      <td>{    \"id\":1,    \"name\":\"fuzzstring\"}</td>\n",
              "      <td>200</td>\n",
              "      <td>148000</td>\n",
              "      <td>241000</td>\n",
              "      <td>15121</td>\n",
              "      <td>-0.011977</td>\n",
              "      <td>-1</td>\n",
              "    </tr>\n",
              "    <tr>\n",
              "      <th>7223</th>\n",
              "      <td>7223</td>\n",
              "      <td>GET</td>\n",
              "      <td>/petclinic/actuator/health</td>\n",
              "      <td>{ \"fuzz\": false }</td>\n",
              "      <td>200</td>\n",
              "      <td>111000</td>\n",
              "      <td>241000</td>\n",
              "      <td>15121</td>\n",
              "      <td>-0.006823</td>\n",
              "      <td>-1</td>\n",
              "    </tr>\n",
              "    <tr>\n",
              "      <th>7837</th>\n",
              "      <td>7837</td>\n",
              "      <td>GET</td>\n",
              "      <td>/petclinic/actuator</td>\n",
              "      <td>{    \"firstName\":\"fuzzstring\",    \"id\":1,    \"...</td>\n",
              "      <td>200</td>\n",
              "      <td>125000</td>\n",
              "      <td>241000</td>\n",
              "      <td>15121</td>\n",
              "      <td>-0.009110</td>\n",
              "      <td>-1</td>\n",
              "    </tr>\n",
              "    <tr>\n",
              "      <th>8354</th>\n",
              "      <td>8354</td>\n",
              "      <td>GET</td>\n",
              "      <td>/petclinic/actuator</td>\n",
              "      <td>{    \"id\":1,    \"name\":\"fuzzstring\"}</td>\n",
              "      <td>200</td>\n",
              "      <td>168000</td>\n",
              "      <td>241000</td>\n",
              "      <td>15121</td>\n",
              "      <td>-0.015431</td>\n",
              "      <td>-1</td>\n",
              "    </tr>\n",
              "    <tr>\n",
              "      <th>8356</th>\n",
              "      <td>8356</td>\n",
              "      <td>GET</td>\n",
              "      <td>/petclinic/actuator</td>\n",
              "      <td>{    \"id\":1,    \"name\":\"fuzzstring\"}</td>\n",
              "      <td>200</td>\n",
              "      <td>103000</td>\n",
              "      <td>241000</td>\n",
              "      <td>15121</td>\n",
              "      <td>-0.001701</td>\n",
              "      <td>-1</td>\n",
              "    </tr>\n",
              "    <tr>\n",
              "      <th>9178</th>\n",
              "      <td>9178</td>\n",
              "      <td>GET</td>\n",
              "      <td>/petclinic/actuator</td>\n",
              "      <td>{    \"firstName\":\"fuzzstring\",    \"id\":1,    \"...</td>\n",
              "      <td>200</td>\n",
              "      <td>241000</td>\n",
              "      <td>241000</td>\n",
              "      <td>15121</td>\n",
              "      <td>-0.015431</td>\n",
              "      <td>-1</td>\n",
              "    </tr>\n",
              "    <tr>\n",
              "      <th>11951</th>\n",
              "      <td>11951</td>\n",
              "      <td>GET</td>\n",
              "      <td>/petclinic/actuator</td>\n",
              "      <td>{    \"date\":\"fuzzstring\",    \"description\":\"fu...</td>\n",
              "      <td>200</td>\n",
              "      <td>109000</td>\n",
              "      <td>241000</td>\n",
              "      <td>15121</td>\n",
              "      <td>-0.004543</td>\n",
              "      <td>-1</td>\n",
              "    </tr>\n",
              "    <tr>\n",
              "      <th>12221</th>\n",
              "      <td>12221</td>\n",
              "      <td>GET</td>\n",
              "      <td>/petclinic/actuator</td>\n",
              "      <td>{    \"id\":1,    \"name\":\"fuzzstring\"}</td>\n",
              "      <td>200</td>\n",
              "      <td>106000</td>\n",
              "      <td>241000</td>\n",
              "      <td>15121</td>\n",
              "      <td>-0.003973</td>\n",
              "      <td>-1</td>\n",
              "    </tr>\n",
              "    <tr>\n",
              "      <th>13450</th>\n",
              "      <td>13450</td>\n",
              "      <td>GET</td>\n",
              "      <td>/petclinic/actuator</td>\n",
              "      <td>{    \"enabled\":true,    \"password\":\"fuzzstring...</td>\n",
              "      <td>200</td>\n",
              "      <td>218000</td>\n",
              "      <td>241000</td>\n",
              "      <td>15121</td>\n",
              "      <td>-0.015431</td>\n",
              "      <td>-1</td>\n",
              "    </tr>\n",
              "    <tr>\n",
              "      <th>13460</th>\n",
              "      <td>13460</td>\n",
              "      <td>GET</td>\n",
              "      <td>/petclinic/actuator</td>\n",
              "      <td>{    \"enabled\":true,    \"password\":\"fuzzstring...</td>\n",
              "      <td>200</td>\n",
              "      <td>118000</td>\n",
              "      <td>241000</td>\n",
              "      <td>15121</td>\n",
              "      <td>-0.006823</td>\n",
              "      <td>-1</td>\n",
              "    </tr>\n",
              "  </tbody>\n",
              "</table>\n",
              "</div>"
            ],
            "text/plain": [
              "       Unnamed: 0 request_type  ...    scores anomaly_score\n",
              "5184         5184          GET  ... -0.015431            -1\n",
              "5518         5518          GET  ... -0.000566            -1\n",
              "5647         5647          GET  ... -0.011977            -1\n",
              "7223         7223          GET  ... -0.006823            -1\n",
              "7837         7837          GET  ... -0.009110            -1\n",
              "8354         8354          GET  ... -0.015431            -1\n",
              "8356         8356          GET  ... -0.001701            -1\n",
              "9178         9178          GET  ... -0.015431            -1\n",
              "11951       11951          GET  ... -0.004543            -1\n",
              "12221       12221          GET  ... -0.003973            -1\n",
              "13450       13450          GET  ... -0.015431            -1\n",
              "13460       13460          GET  ... -0.006823            -1\n",
              "\n",
              "[12 rows x 10 columns]"
            ]
          },
          "metadata": {},
          "execution_count": 57
        }
      ]
    }
  ]
}